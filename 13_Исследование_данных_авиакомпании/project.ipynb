{
 "cells": [
  {
   "cell_type": "markdown",
   "metadata": {},
   "source": [
    "<b>Задача:</b> Вы аналитик российской авиакомпании F9, выполняющей внутренние пассажирские перевозки. Важно понять предпочтения пользователей, покупающих билеты на разные направления.\n",
    "\n",
    "Вам предстоит изучить базу данных и проанализировать спрос пассажиров на рейсы в города, где проходят крупнейшие культурные фестивали."
   ]
  },
  {
   "cell_type": "markdown",
   "metadata": {},
   "source": [
    "**Аналитика средствами Python**\n",
    "\n",
    "У вас есть файлы, в которых содержатся результаты запросов из предыдущих заданий.\n",
    "\n",
    "**query_1.csv** — результат первого запроса. В нём содержится такая информация:\n",
    "\n",
    "- *model* — **модель самолета;\n",
    "- *flights_amount* — количество рейсов для каждой модели самолетов *model* в сентябре 2018 года.\n",
    "\n",
    "**query_3.csv** — результат третьего запроса. В нём содержится такая информация:\n",
    "\n",
    "- *city* — город;\n",
    "- *average_flights* — среднее количество рейсов, прибывающих в город (*city*) за день в сентябре 2018 года.\n",
    "\n",
    " Для этих двух наборов данных нужно:\n",
    "\n",
    "- импортировать файлы;\n",
    "- изучить данные в них;\n",
    "- проверить типы данных на корректность;\n",
    "- выбрать топ-10 городов по количеству рейсов;\n",
    "- построить графики: модели самолётов и количество рейсов, города и количество рейсов, топ-10 городов и количество рейсов;\n",
    "- сделать выводы по каждому из графиков, пояснить результат.\n"
   ]
  },
  {
   "cell_type": "markdown",
   "metadata": {},
   "source": [
    "# Аналитика"
   ]
  },
  {
   "cell_type": "code",
   "execution_count": 1,
   "metadata": {},
   "outputs": [],
   "source": [
    "import pandas as pd\n",
    "import numpy as np\n",
    "import matplotlib.pyplot as plt"
   ]
  },
  {
   "cell_type": "markdown",
   "metadata": {},
   "source": [
    "#### Импортируем файлы"
   ]
  },
  {
   "cell_type": "code",
   "execution_count": 2,
   "metadata": {},
   "outputs": [],
   "source": [
    "query_1 = pd.read_csv('/datasets/query_1.csv')\n",
    "query_3 = pd.read_csv('/datasets/query_3.csv')"
   ]
  },
  {
   "cell_type": "code",
   "execution_count": 3,
   "metadata": {},
   "outputs": [
    {
     "data": {
      "text/html": [
       "<div>\n",
       "<style scoped>\n",
       "    .dataframe tbody tr th:only-of-type {\n",
       "        vertical-align: middle;\n",
       "    }\n",
       "\n",
       "    .dataframe tbody tr th {\n",
       "        vertical-align: top;\n",
       "    }\n",
       "\n",
       "    .dataframe thead th {\n",
       "        text-align: right;\n",
       "    }\n",
       "</style>\n",
       "<table border=\"1\" class=\"dataframe\">\n",
       "  <thead>\n",
       "    <tr style=\"text-align: right;\">\n",
       "      <th></th>\n",
       "      <th>model</th>\n",
       "      <th>flights_amount</th>\n",
       "    </tr>\n",
       "  </thead>\n",
       "  <tbody>\n",
       "    <tr>\n",
       "      <td>0</td>\n",
       "      <td>Airbus A319-100</td>\n",
       "      <td>607</td>\n",
       "    </tr>\n",
       "    <tr>\n",
       "      <td>1</td>\n",
       "      <td>Airbus A321-200</td>\n",
       "      <td>960</td>\n",
       "    </tr>\n",
       "    <tr>\n",
       "      <td>2</td>\n",
       "      <td>Boeing 737-300</td>\n",
       "      <td>630</td>\n",
       "    </tr>\n",
       "    <tr>\n",
       "      <td>3</td>\n",
       "      <td>Boeing 767-300</td>\n",
       "      <td>600</td>\n",
       "    </tr>\n",
       "    <tr>\n",
       "      <td>4</td>\n",
       "      <td>Boeing 777-300</td>\n",
       "      <td>300</td>\n",
       "    </tr>\n",
       "    <tr>\n",
       "      <td>5</td>\n",
       "      <td>Bombardier CRJ-200</td>\n",
       "      <td>4446</td>\n",
       "    </tr>\n",
       "    <tr>\n",
       "      <td>6</td>\n",
       "      <td>Cessna 208 Caravan</td>\n",
       "      <td>4557</td>\n",
       "    </tr>\n",
       "    <tr>\n",
       "      <td>7</td>\n",
       "      <td>Sukhoi SuperJet-100</td>\n",
       "      <td>4185</td>\n",
       "    </tr>\n",
       "  </tbody>\n",
       "</table>\n",
       "</div>"
      ],
      "text/plain": [
       "                 model  flights_amount\n",
       "0      Airbus A319-100             607\n",
       "1      Airbus A321-200             960\n",
       "2       Boeing 737-300             630\n",
       "3       Boeing 767-300             600\n",
       "4       Boeing 777-300             300\n",
       "5   Bombardier CRJ-200            4446\n",
       "6   Cessna 208 Caravan            4557\n",
       "7  Sukhoi SuperJet-100            4185"
      ]
     },
     "metadata": {},
     "output_type": "display_data"
    },
    {
     "name": "stdout",
     "output_type": "stream",
     "text": [
      "_ __ __ __ __ __ __ __ __ __ __ __ _\n",
      "<class 'pandas.core.frame.DataFrame'>\n",
      "RangeIndex: 8 entries, 0 to 7\n",
      "Data columns (total 2 columns):\n",
      "model             8 non-null object\n",
      "flights_amount    8 non-null int64\n",
      "dtypes: int64(1), object(1)\n",
      "memory usage: 256.0+ bytes\n"
     ]
    },
    {
     "data": {
      "text/plain": [
       "None"
      ]
     },
     "metadata": {},
     "output_type": "display_data"
    },
    {
     "name": "stdout",
     "output_type": "stream",
     "text": [
      "Дубликатов = 0\n",
      "_ __ __ __ __ __ __ __ __ __ __ __ _\n"
     ]
    },
    {
     "data": {
      "text/html": [
       "<div>\n",
       "<style scoped>\n",
       "    .dataframe tbody tr th:only-of-type {\n",
       "        vertical-align: middle;\n",
       "    }\n",
       "\n",
       "    .dataframe tbody tr th {\n",
       "        vertical-align: top;\n",
       "    }\n",
       "\n",
       "    .dataframe thead th {\n",
       "        text-align: right;\n",
       "    }\n",
       "</style>\n",
       "<table border=\"1\" class=\"dataframe\">\n",
       "  <thead>\n",
       "    <tr style=\"text-align: right;\">\n",
       "      <th></th>\n",
       "      <th>flights_amount</th>\n",
       "    </tr>\n",
       "  </thead>\n",
       "  <tbody>\n",
       "    <tr>\n",
       "      <td>count</td>\n",
       "      <td>8.000000</td>\n",
       "    </tr>\n",
       "    <tr>\n",
       "      <td>mean</td>\n",
       "      <td>2035.625000</td>\n",
       "    </tr>\n",
       "    <tr>\n",
       "      <td>std</td>\n",
       "      <td>1965.203947</td>\n",
       "    </tr>\n",
       "    <tr>\n",
       "      <td>min</td>\n",
       "      <td>300.000000</td>\n",
       "    </tr>\n",
       "    <tr>\n",
       "      <td>25%</td>\n",
       "      <td>605.250000</td>\n",
       "    </tr>\n",
       "    <tr>\n",
       "      <td>50%</td>\n",
       "      <td>795.000000</td>\n",
       "    </tr>\n",
       "    <tr>\n",
       "      <td>75%</td>\n",
       "      <td>4250.250000</td>\n",
       "    </tr>\n",
       "    <tr>\n",
       "      <td>max</td>\n",
       "      <td>4557.000000</td>\n",
       "    </tr>\n",
       "  </tbody>\n",
       "</table>\n",
       "</div>"
      ],
      "text/plain": [
       "       flights_amount\n",
       "count        8.000000\n",
       "mean      2035.625000\n",
       "std       1965.203947\n",
       "min        300.000000\n",
       "25%        605.250000\n",
       "50%        795.000000\n",
       "75%       4250.250000\n",
       "max       4557.000000"
      ]
     },
     "metadata": {},
     "output_type": "display_data"
    },
    {
     "name": "stdout",
     "output_type": "stream",
     "text": [
      "************************************************************************************************************************\n"
     ]
    },
    {
     "data": {
      "text/html": [
       "<div>\n",
       "<style scoped>\n",
       "    .dataframe tbody tr th:only-of-type {\n",
       "        vertical-align: middle;\n",
       "    }\n",
       "\n",
       "    .dataframe tbody tr th {\n",
       "        vertical-align: top;\n",
       "    }\n",
       "\n",
       "    .dataframe thead th {\n",
       "        text-align: right;\n",
       "    }\n",
       "</style>\n",
       "<table border=\"1\" class=\"dataframe\">\n",
       "  <thead>\n",
       "    <tr style=\"text-align: right;\">\n",
       "      <th></th>\n",
       "      <th>city</th>\n",
       "      <th>average_flights</th>\n",
       "    </tr>\n",
       "  </thead>\n",
       "  <tbody>\n",
       "    <tr>\n",
       "      <td>0</td>\n",
       "      <td>Абакан</td>\n",
       "      <td>3.870968</td>\n",
       "    </tr>\n",
       "    <tr>\n",
       "      <td>1</td>\n",
       "      <td>Анадырь</td>\n",
       "      <td>1.000000</td>\n",
       "    </tr>\n",
       "    <tr>\n",
       "      <td>2</td>\n",
       "      <td>Анапа</td>\n",
       "      <td>2.161290</td>\n",
       "    </tr>\n",
       "    <tr>\n",
       "      <td>3</td>\n",
       "      <td>Архангельск</td>\n",
       "      <td>5.354839</td>\n",
       "    </tr>\n",
       "    <tr>\n",
       "      <td>4</td>\n",
       "      <td>Астрахань</td>\n",
       "      <td>2.451613</td>\n",
       "    </tr>\n",
       "    <tr>\n",
       "      <td>...</td>\n",
       "      <td>...</td>\n",
       "      <td>...</td>\n",
       "    </tr>\n",
       "    <tr>\n",
       "      <td>96</td>\n",
       "      <td>Чита</td>\n",
       "      <td>1.580645</td>\n",
       "    </tr>\n",
       "    <tr>\n",
       "      <td>97</td>\n",
       "      <td>Элиста</td>\n",
       "      <td>4.870968</td>\n",
       "    </tr>\n",
       "    <tr>\n",
       "      <td>98</td>\n",
       "      <td>Южно-Сахалинск</td>\n",
       "      <td>4.290323</td>\n",
       "    </tr>\n",
       "    <tr>\n",
       "      <td>99</td>\n",
       "      <td>Якутск</td>\n",
       "      <td>2.741935</td>\n",
       "    </tr>\n",
       "    <tr>\n",
       "      <td>100</td>\n",
       "      <td>Ярославль</td>\n",
       "      <td>1.322581</td>\n",
       "    </tr>\n",
       "  </tbody>\n",
       "</table>\n",
       "<p>101 rows × 2 columns</p>\n",
       "</div>"
      ],
      "text/plain": [
       "               city  average_flights\n",
       "0            Абакан         3.870968\n",
       "1           Анадырь         1.000000\n",
       "2             Анапа         2.161290\n",
       "3       Архангельск         5.354839\n",
       "4         Астрахань         2.451613\n",
       "..              ...              ...\n",
       "96             Чита         1.580645\n",
       "97           Элиста         4.870968\n",
       "98   Южно-Сахалинск         4.290323\n",
       "99           Якутск         2.741935\n",
       "100       Ярославль         1.322581\n",
       "\n",
       "[101 rows x 2 columns]"
      ]
     },
     "metadata": {},
     "output_type": "display_data"
    },
    {
     "name": "stdout",
     "output_type": "stream",
     "text": [
      "_ __ __ __ __ __ __ __ __ __ __ __ _\n",
      "<class 'pandas.core.frame.DataFrame'>\n",
      "RangeIndex: 101 entries, 0 to 100\n",
      "Data columns (total 2 columns):\n",
      "city               101 non-null object\n",
      "average_flights    101 non-null float64\n",
      "dtypes: float64(1), object(1)\n",
      "memory usage: 1.7+ KB\n"
     ]
    },
    {
     "data": {
      "text/plain": [
       "None"
      ]
     },
     "metadata": {},
     "output_type": "display_data"
    },
    {
     "name": "stdout",
     "output_type": "stream",
     "text": [
      "Дубликатов = 0\n",
      "_ __ __ __ __ __ __ __ __ __ __ __ _\n"
     ]
    },
    {
     "data": {
      "text/html": [
       "<div>\n",
       "<style scoped>\n",
       "    .dataframe tbody tr th:only-of-type {\n",
       "        vertical-align: middle;\n",
       "    }\n",
       "\n",
       "    .dataframe tbody tr th {\n",
       "        vertical-align: top;\n",
       "    }\n",
       "\n",
       "    .dataframe thead th {\n",
       "        text-align: right;\n",
       "    }\n",
       "</style>\n",
       "<table border=\"1\" class=\"dataframe\">\n",
       "  <thead>\n",
       "    <tr style=\"text-align: right;\">\n",
       "      <th></th>\n",
       "      <th>average_flights</th>\n",
       "    </tr>\n",
       "  </thead>\n",
       "  <tbody>\n",
       "    <tr>\n",
       "      <td>count</td>\n",
       "      <td>101.000000</td>\n",
       "    </tr>\n",
       "    <tr>\n",
       "      <td>mean</td>\n",
       "      <td>5.494189</td>\n",
       "    </tr>\n",
       "    <tr>\n",
       "      <td>std</td>\n",
       "      <td>13.119790</td>\n",
       "    </tr>\n",
       "    <tr>\n",
       "      <td>min</td>\n",
       "      <td>1.000000</td>\n",
       "    </tr>\n",
       "    <tr>\n",
       "      <td>25%</td>\n",
       "      <td>2.000000</td>\n",
       "    </tr>\n",
       "    <tr>\n",
       "      <td>50%</td>\n",
       "      <td>3.000000</td>\n",
       "    </tr>\n",
       "    <tr>\n",
       "      <td>75%</td>\n",
       "      <td>5.870968</td>\n",
       "    </tr>\n",
       "    <tr>\n",
       "      <td>max</td>\n",
       "      <td>129.774194</td>\n",
       "    </tr>\n",
       "  </tbody>\n",
       "</table>\n",
       "</div>"
      ],
      "text/plain": [
       "       average_flights\n",
       "count       101.000000\n",
       "mean          5.494189\n",
       "std          13.119790\n",
       "min           1.000000\n",
       "25%           2.000000\n",
       "50%           3.000000\n",
       "75%           5.870968\n",
       "max         129.774194"
      ]
     },
     "metadata": {},
     "output_type": "display_data"
    },
    {
     "name": "stdout",
     "output_type": "stream",
     "text": [
      "************************************************************************************************************************\n"
     ]
    }
   ],
   "source": [
    "for df in [query_1, query_3]:\n",
    "    display(df)\n",
    "    print('_ _'*12)\n",
    "    display(df.info())\n",
    "    print('Дубликатов =', df.duplicated().sum())\n",
    "    print('_ _'*12)\n",
    "    display(df.describe())\n",
    "    print('*'*120)"
   ]
  },
  {
   "cell_type": "markdown",
   "metadata": {},
   "source": [
    "- Типы данных в датасетах корректны.\n",
    "- Пропусков нет.\n",
    "- Дублей нет."
   ]
  },
  {
   "cell_type": "markdown",
   "metadata": {},
   "source": [
    " #### Выберем топ-10 городов по количеству рейсов;"
   ]
  },
  {
   "cell_type": "code",
   "execution_count": 4,
   "metadata": {},
   "outputs": [
    {
     "data": {
      "text/html": [
       "<style  type=\"text/css\" >\n",
       "    #T_4a9d69f0_827b_11eb_aa78_02420a3960ecrow0_col1 {\n",
       "            background-color:  #00441b;\n",
       "            color:  #f1f1f1;\n",
       "        }    #T_4a9d69f0_827b_11eb_aa78_02420a3960ecrow1_col1 {\n",
       "            background-color:  #d9f0d3;\n",
       "            color:  #000000;\n",
       "        }    #T_4a9d69f0_827b_11eb_aa78_02420a3960ecrow2_col1 {\n",
       "            background-color:  #eef8ea;\n",
       "            color:  #000000;\n",
       "        }    #T_4a9d69f0_827b_11eb_aa78_02420a3960ecrow3_col1 {\n",
       "            background-color:  #f5fbf2;\n",
       "            color:  #000000;\n",
       "        }    #T_4a9d69f0_827b_11eb_aa78_02420a3960ecrow4_col1 {\n",
       "            background-color:  #f5fbf3;\n",
       "            color:  #000000;\n",
       "        }    #T_4a9d69f0_827b_11eb_aa78_02420a3960ecrow5_col1 {\n",
       "            background-color:  #f6fcf4;\n",
       "            color:  #000000;\n",
       "        }    #T_4a9d69f0_827b_11eb_aa78_02420a3960ecrow6_col1 {\n",
       "            background-color:  #f6fcf4;\n",
       "            color:  #000000;\n",
       "        }    #T_4a9d69f0_827b_11eb_aa78_02420a3960ecrow7_col1 {\n",
       "            background-color:  #f7fcf5;\n",
       "            color:  #000000;\n",
       "        }    #T_4a9d69f0_827b_11eb_aa78_02420a3960ecrow8_col1 {\n",
       "            background-color:  #f7fcf5;\n",
       "            color:  #000000;\n",
       "        }    #T_4a9d69f0_827b_11eb_aa78_02420a3960ecrow9_col1 {\n",
       "            background-color:  #f7fcf5;\n",
       "            color:  #000000;\n",
       "        }</style><table id=\"T_4a9d69f0_827b_11eb_aa78_02420a3960ec\" ><thead>    <tr>        <th class=\"blank level0\" ></th>        <th class=\"col_heading level0 col0\" >city</th>        <th class=\"col_heading level0 col1\" >average_flights</th>    </tr></thead><tbody>\n",
       "                <tr>\n",
       "                        <th id=\"T_4a9d69f0_827b_11eb_aa78_02420a3960eclevel0_row0\" class=\"row_heading level0 row0\" >43</th>\n",
       "                        <td id=\"T_4a9d69f0_827b_11eb_aa78_02420a3960ecrow0_col0\" class=\"data row0 col0\" >Москва</td>\n",
       "                        <td id=\"T_4a9d69f0_827b_11eb_aa78_02420a3960ecrow0_col1\" class=\"data row0 col1\" >129.774</td>\n",
       "            </tr>\n",
       "            <tr>\n",
       "                        <th id=\"T_4a9d69f0_827b_11eb_aa78_02420a3960eclevel0_row1\" class=\"row_heading level0 row1\" >70</th>\n",
       "                        <td id=\"T_4a9d69f0_827b_11eb_aa78_02420a3960ecrow1_col0\" class=\"data row1 col0\" >Санкт-Петербург</td>\n",
       "                        <td id=\"T_4a9d69f0_827b_11eb_aa78_02420a3960ecrow1_col1\" class=\"data row1 col1\" >31.1613</td>\n",
       "            </tr>\n",
       "            <tr>\n",
       "                        <th id=\"T_4a9d69f0_827b_11eb_aa78_02420a3960eclevel0_row2\" class=\"row_heading level0 row2\" >54</th>\n",
       "                        <td id=\"T_4a9d69f0_827b_11eb_aa78_02420a3960ecrow2_col0\" class=\"data row2 col0\" >Новосибирск</td>\n",
       "                        <td id=\"T_4a9d69f0_827b_11eb_aa78_02420a3960ecrow2_col1\" class=\"data row2 col1\" >17.3226</td>\n",
       "            </tr>\n",
       "            <tr>\n",
       "                        <th id=\"T_4a9d69f0_827b_11eb_aa78_02420a3960eclevel0_row3\" class=\"row_heading level0 row3\" >33</th>\n",
       "                        <td id=\"T_4a9d69f0_827b_11eb_aa78_02420a3960ecrow3_col0\" class=\"data row3 col0\" >Красноярск</td>\n",
       "                        <td id=\"T_4a9d69f0_827b_11eb_aa78_02420a3960ecrow3_col1\" class=\"data row3 col1\" >11.5806</td>\n",
       "            </tr>\n",
       "            <tr>\n",
       "                        <th id=\"T_4a9d69f0_827b_11eb_aa78_02420a3960eclevel0_row4\" class=\"row_heading level0 row4\" >20</th>\n",
       "                        <td id=\"T_4a9d69f0_827b_11eb_aa78_02420a3960ecrow4_col0\" class=\"data row4 col0\" >Екатеринбург</td>\n",
       "                        <td id=\"T_4a9d69f0_827b_11eb_aa78_02420a3960ecrow4_col1\" class=\"data row4 col1\" >11.3226</td>\n",
       "            </tr>\n",
       "            <tr>\n",
       "                        <th id=\"T_4a9d69f0_827b_11eb_aa78_02420a3960eclevel0_row5\" class=\"row_heading level0 row5\" >67</th>\n",
       "                        <td id=\"T_4a9d69f0_827b_11eb_aa78_02420a3960ecrow5_col0\" class=\"data row5 col0\" >Ростов-на-Дону</td>\n",
       "                        <td id=\"T_4a9d69f0_827b_11eb_aa78_02420a3960ecrow5_col1\" class=\"data row5 col1\" >10.1935</td>\n",
       "            </tr>\n",
       "            <tr>\n",
       "                        <th id=\"T_4a9d69f0_827b_11eb_aa78_02420a3960eclevel0_row6\" class=\"row_heading level0 row6\" >63</th>\n",
       "                        <td id=\"T_4a9d69f0_827b_11eb_aa78_02420a3960ecrow6_col0\" class=\"data row6 col0\" >Пермь</td>\n",
       "                        <td id=\"T_4a9d69f0_827b_11eb_aa78_02420a3960ecrow6_col1\" class=\"data row6 col1\" >10.129</td>\n",
       "            </tr>\n",
       "            <tr>\n",
       "                        <th id=\"T_4a9d69f0_827b_11eb_aa78_02420a3960eclevel0_row7\" class=\"row_heading level0 row7\" >10</th>\n",
       "                        <td id=\"T_4a9d69f0_827b_11eb_aa78_02420a3960ecrow7_col0\" class=\"data row7 col0\" >Брянск</td>\n",
       "                        <td id=\"T_4a9d69f0_827b_11eb_aa78_02420a3960ecrow7_col1\" class=\"data row7 col1\" >10</td>\n",
       "            </tr>\n",
       "            <tr>\n",
       "                        <th id=\"T_4a9d69f0_827b_11eb_aa78_02420a3960eclevel0_row8\" class=\"row_heading level0 row8\" >74</th>\n",
       "                        <td id=\"T_4a9d69f0_827b_11eb_aa78_02420a3960ecrow8_col0\" class=\"data row8 col0\" >Сочи</td>\n",
       "                        <td id=\"T_4a9d69f0_827b_11eb_aa78_02420a3960ecrow8_col1\" class=\"data row8 col1\" >9.6129</td>\n",
       "            </tr>\n",
       "            <tr>\n",
       "                        <th id=\"T_4a9d69f0_827b_11eb_aa78_02420a3960eclevel0_row9\" class=\"row_heading level0 row9\" >84</th>\n",
       "                        <td id=\"T_4a9d69f0_827b_11eb_aa78_02420a3960ecrow9_col0\" class=\"data row9 col0\" >Ульяновск</td>\n",
       "                        <td id=\"T_4a9d69f0_827b_11eb_aa78_02420a3960ecrow9_col1\" class=\"data row9 col1\" >9.58065</td>\n",
       "            </tr>\n",
       "    </tbody></table>"
      ],
      "text/plain": [
       "<pandas.io.formats.style.Styler at 0x7fca8a5ea650>"
      ]
     },
     "execution_count": 4,
     "metadata": {},
     "output_type": "execute_result"
    }
   ],
   "source": [
    "(query_3\n",
    " .sort_values('average_flights', ascending = False)\n",
    " .head(10)\n",
    " .style\n",
    " .background_gradient(cmap=\"Greens\")\n",
    ")"
   ]
  },
  {
   "cell_type": "markdown",
   "metadata": {},
   "source": [
    "- Первое место по количеству прилетов ожидаемо занимает Москва. Второе место - Санкт-Петербург.\n",
    "- Далее идут другие города-миллионики.\n",
    "- Затем, потеснив другие миллионики, Брянск, Сочи, Ульяновск. Предположительно, это города, которые являются экономическими, транспортными (логистическими) буферами."
   ]
  },
  {
   "cell_type": "markdown",
   "metadata": {},
   "source": [
    " #### Построим график \"Модели самолётов и количество рейсов\""
   ]
  },
  {
   "cell_type": "code",
   "execution_count": 5,
   "metadata": {},
   "outputs": [
    {
     "data": {
      "image/png": "[encoded data removed]",
      "text/plain": [
       "<Figure size 1224x720 with 1 Axes>"
      ]
     },
     "metadata": {},
     "output_type": "display_data"
    }
   ],
   "source": [
    "x = query_1['model']\n",
    "y = query_1['flights_amount']\\\n",
    "\n",
    "fig, ax = plt.subplots()\n",
    "\n",
    "color_rectangle = np.random.rand(10, 3) \n",
    "ax.bar(x, y, color = color_rectangle, width = 0.5)\n",
    "\n",
    "fig.set_figwidth(17)\n",
    "fig.set_figheight(10) \n",
    "\n",
    "fig.set_facecolor('floralwhite')\n",
    "ax.set_facecolor('seashell')\n",
    "\n",
    "plt.title('Модели самолётов и количество рейсов')\n",
    "plt.xlabel('Модели самолётов')\n",
    "plt.ylabel('Количество рейсов')\n",
    "\n",
    "plt.grid()\n",
    "plt.show()"
   ]
  },
  {
   "cell_type": "markdown",
   "metadata": {},
   "source": [
    "- Региональные, ближнемагистральные пассажирские самолёты с меньшей вместимостью делают рейсов значительно больше.\n",
    "- Пассажирские самолёты с большей вместимостью для совершения полётов средней и большой протяжённости делают рейсов меньше.\n",
    "- У Airbus и Boeing суммарно паритет по количеству рейсов.\n",
    "- Предположу, что также влияет стоимость покупки и содержания каждой модели самолёта."
   ]
  },
  {
   "cell_type": "markdown",
   "metadata": {},
   "source": [
    "#### Построим график \"Города и количество рейсов\""
   ]
  },
  {
   "cell_type": "markdown",
   "metadata": {},
   "source": [
    "Для наглядности графика, откинем топ-3 города: <b>Москва, Санкт-Петербург и Новосибирск</b>."
   ]
  },
  {
   "cell_type": "code",
   "execution_count": 6,
   "metadata": {},
   "outputs": [
    {
     "data": {
      "text/html": [
       "<div>\n",
       "<style scoped>\n",
       "    .dataframe tbody tr th:only-of-type {\n",
       "        vertical-align: middle;\n",
       "    }\n",
       "\n",
       "    .dataframe tbody tr th {\n",
       "        vertical-align: top;\n",
       "    }\n",
       "\n",
       "    .dataframe thead th {\n",
       "        text-align: right;\n",
       "    }\n",
       "</style>\n",
       "<table border=\"1\" class=\"dataframe\">\n",
       "  <thead>\n",
       "    <tr style=\"text-align: right;\">\n",
       "      <th></th>\n",
       "      <th>city</th>\n",
       "      <th>average_flights</th>\n",
       "    </tr>\n",
       "  </thead>\n",
       "  <tbody>\n",
       "    <tr>\n",
       "      <td>8</td>\n",
       "      <td>Благовещенск</td>\n",
       "      <td>1.000000</td>\n",
       "    </tr>\n",
       "    <tr>\n",
       "      <td>1</td>\n",
       "      <td>Анадырь</td>\n",
       "      <td>1.000000</td>\n",
       "    </tr>\n",
       "    <tr>\n",
       "      <td>31</td>\n",
       "      <td>Комсомольск-на-Амуре</td>\n",
       "      <td>1.000000</td>\n",
       "    </tr>\n",
       "    <tr>\n",
       "      <td>76</td>\n",
       "      <td>Стрежевой</td>\n",
       "      <td>1.000000</td>\n",
       "    </tr>\n",
       "    <tr>\n",
       "      <td>49</td>\n",
       "      <td>Нефтеюганск</td>\n",
       "      <td>1.000000</td>\n",
       "    </tr>\n",
       "    <tr>\n",
       "      <td>...</td>\n",
       "      <td>...</td>\n",
       "      <td>...</td>\n",
       "    </tr>\n",
       "    <tr>\n",
       "      <td>10</td>\n",
       "      <td>Брянск</td>\n",
       "      <td>10.000000</td>\n",
       "    </tr>\n",
       "    <tr>\n",
       "      <td>63</td>\n",
       "      <td>Пермь</td>\n",
       "      <td>10.129032</td>\n",
       "    </tr>\n",
       "    <tr>\n",
       "      <td>67</td>\n",
       "      <td>Ростов-на-Дону</td>\n",
       "      <td>10.193548</td>\n",
       "    </tr>\n",
       "    <tr>\n",
       "      <td>20</td>\n",
       "      <td>Екатеринбург</td>\n",
       "      <td>11.322581</td>\n",
       "    </tr>\n",
       "    <tr>\n",
       "      <td>33</td>\n",
       "      <td>Красноярск</td>\n",
       "      <td>11.580645</td>\n",
       "    </tr>\n",
       "  </tbody>\n",
       "</table>\n",
       "<p>98 rows × 2 columns</p>\n",
       "</div>"
      ],
      "text/plain": [
       "                    city  average_flights\n",
       "8           Благовещенск         1.000000\n",
       "1                Анадырь         1.000000\n",
       "31  Комсомольск-на-Амуре         1.000000\n",
       "76             Стрежевой         1.000000\n",
       "49           Нефтеюганск         1.000000\n",
       "..                   ...              ...\n",
       "10                Брянск        10.000000\n",
       "63                 Пермь        10.129032\n",
       "67        Ростов-на-Дону        10.193548\n",
       "20          Екатеринбург        11.322581\n",
       "33            Красноярск        11.580645\n",
       "\n",
       "[98 rows x 2 columns]"
      ]
     },
     "execution_count": 6,
     "metadata": {},
     "output_type": "execute_result"
    }
   ],
   "source": [
    "all_cities_without_Moscow_SPB = query_3.sort_values(by = 'average_flights', ascending = True).head(98)\n",
    "all_cities_without_Moscow_SPB"
   ]
  },
  {
   "cell_type": "code",
   "execution_count": 7,
   "metadata": {},
   "outputs": [
    {
     "data": {
      "image/png": "[encoded data removed]",
      "text/plain": [
       "<Figure size 1152x720 with 1 Axes>"
      ]
     },
     "metadata": {},
     "output_type": "display_data"
    }
   ],
   "source": [
    "x = all_cities_without_Moscow_SPB['city']\n",
    "y = all_cities_without_Moscow_SPB['average_flights']\n",
    "\n",
    "\n",
    "fig, ax = plt.subplots()\n",
    "\n",
    "color_rectangle = np.random.rand(8, 3) \n",
    "ax.bar(x, y, color = color_rectangle, width = 0.5)\n",
    "plt.xticks(rotation='vertical')\n",
    "\n",
    "fig.set_figwidth(16)\n",
    "fig.set_figheight(10) \n",
    "\n",
    "fig.set_facecolor('floralwhite')\n",
    "\n",
    "plt.title('Города и количество рейсов')\n",
    "plt.ylabel('Количество рейсов')\n",
    "\n",
    "plt.grid()\n",
    "plt.show()"
   ]
  },
  {
   "cell_type": "markdown",
   "metadata": {},
   "source": [
    "Предположительно, количество рейсов зависит от населения и экономической развитости региона. Также значение имеет транспортная инфраструктура в регионе. Однако таких данных для анализа в исходных датасетах нет."
   ]
  },
  {
   "cell_type": "markdown",
   "metadata": {},
   "source": [
    "#### Построим график \"Топ-10 городов и количество рейсов\""
   ]
  },
  {
   "cell_type": "code",
   "execution_count": 8,
   "metadata": {},
   "outputs": [
    {
     "data": {
      "text/html": [
       "<div>\n",
       "<style scoped>\n",
       "    .dataframe tbody tr th:only-of-type {\n",
       "        vertical-align: middle;\n",
       "    }\n",
       "\n",
       "    .dataframe tbody tr th {\n",
       "        vertical-align: top;\n",
       "    }\n",
       "\n",
       "    .dataframe thead th {\n",
       "        text-align: right;\n",
       "    }\n",
       "</style>\n",
       "<table border=\"1\" class=\"dataframe\">\n",
       "  <thead>\n",
       "    <tr style=\"text-align: right;\">\n",
       "      <th></th>\n",
       "      <th>city</th>\n",
       "      <th>average_flights</th>\n",
       "    </tr>\n",
       "  </thead>\n",
       "  <tbody>\n",
       "    <tr>\n",
       "      <td>43</td>\n",
       "      <td>Москва</td>\n",
       "      <td>129.774194</td>\n",
       "    </tr>\n",
       "    <tr>\n",
       "      <td>70</td>\n",
       "      <td>Санкт-Петербург</td>\n",
       "      <td>31.161290</td>\n",
       "    </tr>\n",
       "    <tr>\n",
       "      <td>54</td>\n",
       "      <td>Новосибирск</td>\n",
       "      <td>17.322581</td>\n",
       "    </tr>\n",
       "    <tr>\n",
       "      <td>33</td>\n",
       "      <td>Красноярск</td>\n",
       "      <td>11.580645</td>\n",
       "    </tr>\n",
       "    <tr>\n",
       "      <td>20</td>\n",
       "      <td>Екатеринбург</td>\n",
       "      <td>11.322581</td>\n",
       "    </tr>\n",
       "    <tr>\n",
       "      <td>67</td>\n",
       "      <td>Ростов-на-Дону</td>\n",
       "      <td>10.193548</td>\n",
       "    </tr>\n",
       "    <tr>\n",
       "      <td>63</td>\n",
       "      <td>Пермь</td>\n",
       "      <td>10.129032</td>\n",
       "    </tr>\n",
       "    <tr>\n",
       "      <td>10</td>\n",
       "      <td>Брянск</td>\n",
       "      <td>10.000000</td>\n",
       "    </tr>\n",
       "    <tr>\n",
       "      <td>74</td>\n",
       "      <td>Сочи</td>\n",
       "      <td>9.612903</td>\n",
       "    </tr>\n",
       "    <tr>\n",
       "      <td>84</td>\n",
       "      <td>Ульяновск</td>\n",
       "      <td>9.580645</td>\n",
       "    </tr>\n",
       "  </tbody>\n",
       "</table>\n",
       "</div>"
      ],
      "text/plain": [
       "               city  average_flights\n",
       "43           Москва       129.774194\n",
       "70  Санкт-Петербург        31.161290\n",
       "54      Новосибирск        17.322581\n",
       "33       Красноярск        11.580645\n",
       "20     Екатеринбург        11.322581\n",
       "67   Ростов-на-Дону        10.193548\n",
       "63            Пермь        10.129032\n",
       "10           Брянск        10.000000\n",
       "74             Сочи         9.612903\n",
       "84        Ульяновск         9.580645"
      ]
     },
     "execution_count": 8,
     "metadata": {},
     "output_type": "execute_result"
    }
   ],
   "source": [
    "top10_cities = query_3.sort_values(by = 'average_flights', ascending = False).head(10)\n",
    "top10_cities"
   ]
  },
  {
   "cell_type": "code",
   "execution_count": 9,
   "metadata": {},
   "outputs": [
    {
     "data": {
      "image/png": "[encoded data removed]",
      "text/plain": [
       "<Figure size 1224x720 with 1 Axes>"
      ]
     },
     "metadata": {},
     "output_type": "display_data"
    }
   ],
   "source": [
    "x = top10_cities['city']\n",
    "y = top10_cities['average_flights']\\\n",
    "\n",
    "fig, ax = plt.subplots()\n",
    "\n",
    "color_rectangle = np.random.rand(10, 3) \n",
    "ax.bar(x, y, color = color_rectangle, width = 0.5)\n",
    "\n",
    "fig.set_figwidth(17)\n",
    "fig.set_figheight(10) \n",
    "\n",
    "fig.set_facecolor('floralwhite')\n",
    "ax.set_facecolor('seashell')\n",
    "\n",
    "plt.title('Топ-10 городов и количество рейсов')\n",
    "plt.ylabel('Количество рейсов')\n",
    "\n",
    "plt.grid()\n",
    "plt.show()"
   ]
  },
  {
   "cell_type": "markdown",
   "metadata": {},
   "source": [
    "- Первое место по количеству рейсов занимает столица Москва.\n",
    "- Второе место - Северная столица Санкт-Петербург.\n",
    "- Далее идут города-миллионеры.\n",
    "- Затем, потеснив другие миллионики, Брянск, Сочи, Ульяновск. Предположительно, это города, которые являются экономическими, транспортными (логистическими) буферами."
   ]
  },
  {
   "cell_type": "markdown",
   "metadata": {},
   "source": [
    "# Выводы:\n",
    "    - Данные импортированы и изучены.\n",
    "    - Типы данных в датасетах корректны.\n",
    "    - Пропуски и дубликаты в данных отсутствуют.\n",
    "    - Первое место по количеству прилетов ожидаемо занимает Москва. Второе место - Санкт-Петербург. Далее идут другие города-миллионики. Затем, потеснив другие миллионики, Брянск, Сочи, Ульяновск. Предположительно, это города, которые являются экономическими, транспортными (логистическими) буферами.\n",
    "    - Предположительно, количество рейсов зависит от населения и экономической развитости региона. Также значение имеет транспортная инфраструктура в регионе. Однако таких данных для анализа в исходных датасетах нет.\n",
    "    - Региональные, ближнемагистральные пассажирские самолёты с меньшей вместимостью делают рейсов значительно больше. Пассажирские самолёты с большей вместимостью для совершения полётов средней и большой протяжённости делают рейсов меньше.\n",
    "    - У Airbus и Boeing суммарно паритет по количеству рейсов.\n",
    "    - Предположу, что также влияет стоимость покупки и содержания каждой модели самолёта.\n"
   ]
  }
 ],
 "metadata": {
  "kernelspec": {
   "display_name": "Python 3",
   "language": "python",
   "name": "python3"
  },
  "language_info": {
   "codemirror_mode": {
    "name": "ipython",
    "version": 3
   },
   "file_extension": ".py",
   "mimetype": "text/x-python",
   "name": "python",
   "nbconvert_exporter": "python",
   "pygments_lexer": "ipython3",
   "version": "3.7.8"
  },
  "toc": {
   "base_numbering": 1,
   "nav_menu": {},
   "number_sections": true,
   "sideBar": true,
   "skip_h1_title": true,
   "title_cell": "Table of Contents",
   "title_sidebar": "Contents",
   "toc_cell": false,
   "toc_position": {},
   "toc_section_display": true,
   "toc_window_display": false
  }
 },
 "nbformat": 4,
 "nbformat_minor": 2
}
