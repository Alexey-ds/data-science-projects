{
 "cells": [
  {
   "cell_type": "markdown",
   "metadata": {},
   "source": [
    "# Описание проекта"
   ]
  },
  {
   "cell_type": "markdown",
   "metadata": {},
   "source": [
    "Добывающей компании «ГлавРосГосНефть» нужно решить, где бурить новую скважину.\n",
    "\n",
    "Предоставлены пробы нефти в трёх регионах: в каждом 10 000 месторождений, где измерили качество нефти и объём её запасов. Постройте модель машинного обучения, которая поможет определить регион, где добыча принесёт наибольшую прибыль. Проанализируйте возможную прибыль и риски техникой *Bootstrap.*\n",
    "\n",
    "Шаги для выбора локации:\n",
    "\n",
    "- В избранном регионе ищут месторождения, для каждого определяют значения признаков;\n",
    "- Строят модель и оценивают объём запасов;\n",
    "- Выбирают месторождения с самым высокими оценками значений. Количество месторождений зависит от бюджета компании и стоимости разработки одной скважины;\n",
    "- Прибыль равна суммарной прибыли отобранных месторождений.\n",
    "\n",
    "## Описание данных\n",
    "Данные геологоразведки трёх регионов находятся в файлах:\n",
    " - `/datasets/geo_data_0.csv` \n",
    " - `/datasets/geo_data_1.csv` \n",
    " - `/datasets/geo_data_2.csv`\n",
    " \n",
    "- `id` — уникальный идентификатор скважины;\n",
    "- `f0, f1, f2` — три признака точек (неважно, что они означают, но сами признаки значимы);\n",
    "- `product` — объём запасов в скважине (тыс. баррелей).\n",
    "\n",
    "## Условия задачи:\n",
    "Для обучения модели подходит только линейная регрессия (остальные — недостаточно предсказуемые).\n",
    "При разведке региона исследуют 500 точек, из которых с помощью машинного обучения выбирают 200 лучших для разработки.\n",
    "Бюджет на разработку скважин в регионе — 10 млрд рублей.\n",
    "При нынешних ценах один баррель сырья приносит 450 рублей дохода. Доход с каждой единицы продукта составляет 450 тыс. рублей, поскольку объём указан в тысячах баррелей.\n",
    "После оценки рисков нужно оставить лишь те регионы, в которых вероятность убытков меньше 2.5%. Среди них выбирают регион с наибольшей средней прибылью."
   ]
  },
  {
   "cell_type": "markdown",
   "metadata": {},
   "source": [
    " # Содержание\n",
    "\n",
    "### [1 Загрузка и подготовка данных](#1-bullet)\n",
    "### [2 Обучение и проверка модели](#2-bullet)\n",
    "### [3 Подготовка к расчёту прибыли](#3-bullet)\n",
    "### [4  Расчёт прибыли и рисков  ](#4-bullet)\n",
    "### [5  Вывод и рекомендации  ](#5-bullet)\n",
    "\n"
   ]
  },
  {
   "cell_type": "markdown",
   "metadata": {},
   "source": [
    "# 1. Загрузка и подготовка данных <a class=\"anchor\" id=\"1-bullet\"></a>"
   ]
  },
  {
   "cell_type": "code",
   "execution_count": 1,
   "metadata": {},
   "outputs": [],
   "source": [
    "import pandas as pd\n",
    "import numpy as np\n",
    "\n",
    "from sklearn.linear_model import LinearRegression\n",
    "from sklearn.model_selection import train_test_split\n",
    "from sklearn.metrics import mean_squared_error\n",
    "\n",
    "import matplotlib.pyplot as plt"
   ]
  },
  {
   "cell_type": "code",
   "execution_count": 2,
   "metadata": {},
   "outputs": [],
   "source": [
    "geo_0 = pd.read_csv('/datasets/geo_data_0.csv')\n",
    "geo_1 = pd.read_csv('/datasets/geo_data_1.csv')\n",
    "geo_2 = pd.read_csv('/datasets/geo_data_2.csv')"
   ]
  },
  {
   "cell_type": "code",
   "execution_count": 3,
   "metadata": {},
   "outputs": [
    {
     "name": "stdout",
     "output_type": "stream",
     "text": [
      "<class 'pandas.core.frame.DataFrame'>\n",
      "RangeIndex: 100000 entries, 0 to 99999\n",
      "Data columns (total 5 columns):\n",
      "id         100000 non-null object\n",
      "f0         100000 non-null float64\n",
      "f1         100000 non-null float64\n",
      "f2         100000 non-null float64\n",
      "product    100000 non-null float64\n",
      "dtypes: float64(4), object(1)\n",
      "memory usage: 3.8+ MB\n",
      "None\n",
      "      id        f0        f1        f2     product\n",
      "0  txEyH  0.705745 -0.497823  1.221170  105.280062\n",
      "1  2acmU  1.334711 -0.340164  4.365080   73.037750\n",
      "2  409Wp  1.022732  0.151990  1.419926   85.265647\n",
      "\n",
      "******************************************************\n",
      "\n",
      "<class 'pandas.core.frame.DataFrame'>\n",
      "RangeIndex: 100000 entries, 0 to 99999\n",
      "Data columns (total 5 columns):\n",
      "id         100000 non-null object\n",
      "f0         100000 non-null float64\n",
      "f1         100000 non-null float64\n",
      "f2         100000 non-null float64\n",
      "product    100000 non-null float64\n",
      "dtypes: float64(4), object(1)\n",
      "memory usage: 3.8+ MB\n",
      "None\n",
      "      id         f0        f1        f2     product\n",
      "0  kBEdx -15.001348 -8.276000 -0.005876    3.179103\n",
      "1  62mP7  14.272088 -3.475083  0.999183   26.953261\n",
      "2  vyE1P   6.263187 -5.948386  5.001160  134.766305\n",
      "\n",
      "******************************************************\n",
      "\n",
      "<class 'pandas.core.frame.DataFrame'>\n",
      "RangeIndex: 100000 entries, 0 to 99999\n",
      "Data columns (total 5 columns):\n",
      "id         100000 non-null object\n",
      "f0         100000 non-null float64\n",
      "f1         100000 non-null float64\n",
      "f2         100000 non-null float64\n",
      "product    100000 non-null float64\n",
      "dtypes: float64(4), object(1)\n",
      "memory usage: 3.8+ MB\n",
      "None\n",
      "      id        f0        f1        f2    product\n",
      "0  fwXo0 -1.146987  0.963328 -0.828965  27.758673\n",
      "1  WJtFt  0.262778  0.269839 -2.530187  56.069697\n",
      "2  ovLUW  0.194587  0.289035 -5.586433  62.871910\n",
      "\n",
      "******************************************************\n",
      "\n"
     ]
    }
   ],
   "source": [
    "for i in [geo_0,geo_1,geo_2]:\n",
    "    print(i.info())\n",
    "    print(i.head(3))\n",
    "    print()\n",
    "    print('******************************************************')\n",
    "    print()"
   ]
  },
  {
   "cell_type": "markdown",
   "metadata": {},
   "source": [
    "<b>Вывод:</b> \n",
    "- размер данных по трем регионам одинаковый,\n",
    "- данные чистые и готовы для построения модели линейной регрессии.\n",
    "\n",
    "<b><em>P.S.: Не понял, почему в задании говорится про 10 тыс. месторождений, а данные представлены на 100 тысяч.</em> </b> "
   ]
  },
  {
   "cell_type": "markdown",
   "metadata": {},
   "source": [
    "# 2. Обучение и проверка модели <a class=\"anchor\" id=\"2-bullet\"></a>"
   ]
  },
  {
   "cell_type": "code",
   "execution_count": 4,
   "metadata": {},
   "outputs": [],
   "source": [
    "def model_train(df):\n",
    "        \n",
    "    df = df.drop(columns = ['id'])\n",
    "    \n",
    "    # создадим наборы данных features (признаки) и target (целевой признак).\n",
    "    features = df.drop(['product'], axis = 1)\n",
    "    target = df['product']\n",
    "    \n",
    "    # разделим данные features и target на две части (train и valid) в соотношении 75% к 25% \n",
    "    features_train, features_valid, target_train, target_valid = train_test_split(\n",
    "    features, target, test_size=0.25, random_state=12345)\n",
    "      \n",
    "    model = LinearRegression()\n",
    "    model.fit(features_train, target_train)\n",
    "    predicted_valid = model.predict(features_valid)\n",
    "     \n",
    "    # рассчитаем rmse модели    \n",
    "    mse = mean_squared_error(target_valid, predicted_valid)\n",
    "    print(\"Модель - Linear Regression\")\n",
    "    print(\"Значение RMSE =\", round(mse ** 0.5,2))\n",
    "\n",
    "    # рассчитаем средний запас предсказанного сырья в регионе \n",
    "    predictions_valid = pd.Series(predicted_valid, features_valid.index) \n",
    "    print('Средний запас предсказанного сырья, тыс. барр. = ', round(predictions_valid.mean(),2))\n",
    "    \n",
    "    return target_valid, predictions_valid"
   ]
  },
  {
   "cell_type": "code",
   "execution_count": 5,
   "metadata": {},
   "outputs": [
    {
     "name": "stdout",
     "output_type": "stream",
     "text": [
      "Данные по региону с индексом \"0\" :\n",
      "Модель - Linear Regression\n",
      "Значение RMSE = 37.58\n",
      "Средний запас предсказанного сырья, тыс. барр. =  92.59\n",
      "\n"
     ]
    },
    {
     "data": {
      "image/png": "[encoded data removed]",
      "text/plain": [
       "<Figure size 432x288 with 1 Axes>"
      ]
     },
     "metadata": {
      "needs_background": "light"
     },
     "output_type": "display_data"
    },
    {
     "name": "stdout",
     "output_type": "stream",
     "text": [
      "*******************************************************\n",
      "\n",
      "Данные по региону с индексом \"1\" :\n",
      "Модель - Linear Regression\n",
      "Значение RMSE = 0.89\n",
      "Средний запас предсказанного сырья, тыс. барр. =  68.73\n",
      "\n"
     ]
    },
    {
     "data": {
      "image/png": "[encoded data removed]",
      "text/plain": [
       "<Figure size 432x288 with 1 Axes>"
      ]
     },
     "metadata": {
      "needs_background": "light"
     },
     "output_type": "display_data"
    },
    {
     "name": "stdout",
     "output_type": "stream",
     "text": [
      "*******************************************************\n",
      "\n",
      "Данные по региону с индексом \"2\" :\n",
      "Модель - Linear Regression\n",
      "Значение RMSE = 40.03\n",
      "Средний запас предсказанного сырья, тыс. барр. =  94.97\n",
      "\n"
     ]
    },
    {
     "data": {
      "image/png": "[encoded data removed]",
      "text/plain": [
       "<Figure size 432x288 with 1 Axes>"
      ]
     },
     "metadata": {
      "needs_background": "light"
     },
     "output_type": "display_data"
    },
    {
     "name": "stdout",
     "output_type": "stream",
     "text": [
      "*******************************************************\n",
      "\n"
     ]
    }
   ],
   "source": [
    "count = 0\n",
    "for df in [geo_0, geo_1, geo_2]:\n",
    "    print('Данные по региону с индексом \"'+ str(count) + '\" :')\n",
    "    model_train(df)\n",
    "    print()\n",
    "    plt.title('Распределение запасов по скважинам в регионе с индексом \"'+ str(count) + '\" :')\n",
    "    plt.hist(df['product'], bins = 50 )\n",
    "    plt.xlabel('Запасы нефти, тыс. барр.')\n",
    "    plt.ylabel('Количество скважин, шт.')\n",
    "    plt.show()\n",
    "\n",
    "    print('*******************************************************')\n",
    "    print()\n",
    "    \n",
    "    count += 1\n",
    "    \n"
   ]
  },
  {
   "cell_type": "markdown",
   "metadata": {},
   "source": [
    "<b>Вывод:</b> \n",
    "- RMSE у региона с индексом 1 наименьшее, но в то же время средний запас сырья по предсказаниям также наименьший.\n",
    "- RMSE у 0 и 2 регионов имеет большее значение, на данном этапе просто запомним это.\n",
    "- В 0 и 2 регионах запасы нефти имеют схожесть с нормальным распределением в то время, как в 1 регионе наблюдается дискретность в распределении."
   ]
  },
  {
   "cell_type": "markdown",
   "metadata": {},
   "source": [
    "# 3. Подготовка к расчёту прибыли <a class=\"anchor\" id=\"3-bullet\"></a>"
   ]
  },
  {
   "cell_type": "markdown",
   "metadata": {},
   "source": [
    "Определим константы по заданию:\n",
    "- `TOTAL_POINT` - количество исследуемых точек в регионе,\n",
    "- `BEST_POINT` - количество лучших точек по запасам из `TOTAL_POINT`,\n",
    "- `TOTAL_BUDGET` - бюджет на разработку скважин в регионе,\n",
    "- `INCOME_FOR_1bbls` - доход с одного барреля,\n",
    "- `INCOME_FOR_1unit` - доход с единицы продукта. Единица продукта = 1000 барр. нефти."
   ]
  },
  {
   "cell_type": "code",
   "execution_count": 6,
   "metadata": {},
   "outputs": [
    {
     "name": "stdout",
     "output_type": "stream",
     "text": [
      "Минимальный объем в скважине, тыс. баррелей =  111.11\n"
     ]
    }
   ],
   "source": [
    "TOTAL_POINT = 500\n",
    "BEST_POINT = 200\n",
    "TOTAL_BUDGET = 10e9\n",
    "INCOME_FOR_1bbls = 450\n",
    "INCOME_FOR_1unit = 450e3\n",
    "\n",
    "MIN_BBLS_IN_HOLE = TOTAL_BUDGET / (INCOME_FOR_1unit * BEST_POINT)\n",
    "print('Минимальный объем в скважине, тыс. баррелей = ', round(MIN_BBLS_IN_HOLE,2))"
   ]
  },
  {
   "cell_type": "markdown",
   "metadata": {},
   "source": [
    "- Во всех трех регионах предсказанное среднее значение запасов в скважине меньше полученного."
   ]
  },
  {
   "cell_type": "markdown",
   "metadata": {},
   "source": [
    "Допишем ранее созданную функцию `model_train`, добавив в конец расчет прибыли для региона.\n",
    "\n",
    "Новую функцию назовем `model_train_calc_revenue`."
   ]
  },
  {
   "cell_type": "code",
   "execution_count": 7,
   "metadata": {},
   "outputs": [],
   "source": [
    "def calc_revenue(target, predicted):\n",
    "        \n",
    "    # рассчитаем прибыль от 200 лучших для разработки скважен, выбранных с помощью обученной модели\n",
    "    # predictions_valid = pd.Series(predicted, target.index) \n",
    "    best200 = predicted.sort_values(ascending=False).head(BEST_POINT)\n",
    "    summary = target.loc[best200.index].sum()\n",
    "    revenue = (summary * INCOME_FOR_1unit - TOTAL_BUDGET)\n",
    "\n",
    "    return revenue"
   ]
  },
  {
   "cell_type": "code",
   "execution_count": 8,
   "metadata": {},
   "outputs": [
    {
     "name": "stdout",
     "output_type": "stream",
     "text": [
      "Данные по региону \"0\":\n",
      "Модель - Linear Regression\n",
      "Значение RMSE = 37.58\n",
      "Средний запас предсказанного сырья, тыс. барр. =  92.59\n",
      "Прибыль c топ-200 скважин, млн. руб. = 332.08\n"
     ]
    }
   ],
   "source": [
    "print('Данные по региону \"0\":')\n",
    "target_0, predicted_0 = model_train(geo_0)\n",
    "revenue = calc_revenue(target_0, predicted_0)\n",
    "print('Прибыль c топ-200 скважин, млн. руб. =', round((revenue / 10e6), 2)) "
   ]
  },
  {
   "cell_type": "code",
   "execution_count": 9,
   "metadata": {},
   "outputs": [
    {
     "name": "stdout",
     "output_type": "stream",
     "text": [
      "Данные по региону \"1\":\n",
      "Модель - Linear Regression\n",
      "Значение RMSE = 0.89\n",
      "Средний запас предсказанного сырья, тыс. барр. =  68.73\n",
      "Прибыль c топ-200 скважин, млн. руб. = 241.51\n"
     ]
    }
   ],
   "source": [
    "print('Данные по региону \"1\":')\n",
    "target_1, predicted_1 = model_train(geo_1)\n",
    "revenue = calc_revenue(target_1, predicted_1)\n",
    "print('Прибыль c топ-200 скважин, млн. руб. =', round((revenue / 10e6), 2)) "
   ]
  },
  {
   "cell_type": "code",
   "execution_count": 10,
   "metadata": {},
   "outputs": [
    {
     "name": "stdout",
     "output_type": "stream",
     "text": [
      "Данные по региону \"2\":\n",
      "Модель - Linear Regression\n",
      "Значение RMSE = 40.03\n",
      "Средний запас предсказанного сырья, тыс. барр. =  94.97\n",
      "Прибыль c топ-200 скважин, млн. руб. = 271.03\n"
     ]
    }
   ],
   "source": [
    "print('Данные по региону \"2\":')\n",
    "target_2, predicted_2 = model_train(geo_2)\n",
    "revenue = calc_revenue(target_2, predicted_2)\n",
    "print('Прибыль c топ-200 скважин, млн. руб. =', round((revenue / 10e6), 2)) "
   ]
  },
  {
   "cell_type": "markdown",
   "metadata": {},
   "source": [
    "- Самый \"интересный\" регион по предполагаемой прибыли - это нулевой, затем второй, потом первый."
   ]
  },
  {
   "cell_type": "markdown",
   "metadata": {},
   "source": [
    "# 4. Расчёт прибыли и рисков  <a class=\"anchor\" id=\"4-bullet\"></a>"
   ]
  },
  {
   "cell_type": "markdown",
   "metadata": {},
   "source": [
    "Допишем ранее созданную функцию `model_train_calc_revenue`, добавив в конец расчет средней прибыли, доверительного интервала с помощью техники `bootstrap`.\n",
    "\n",
    "Новую функцию назовем `model_train_calc_revenue_and_risk`."
   ]
  },
  {
   "cell_type": "code",
   "execution_count": 11,
   "metadata": {},
   "outputs": [],
   "source": [
    "def bootstrap(target, predicted):\n",
    "    \n",
    "    state = np.random.RandomState(12345)\n",
    "    values = []\n",
    "    \n",
    "    for i in range(1000):\n",
    "        target_subsample = target.sample(500, replace=True, random_state=state)\n",
    "        probs_subsample = predicted.loc[target_subsample.index]\n",
    "        revenue = calc_revenue(target_subsample, probs_subsample)\n",
    "        values.append(revenue)\n",
    "    values = pd.Series(values)\n",
    "    # найдем среднюю прибыль, 95% доверительный интервал и риск убытков (квантиль 2.5%).\n",
    "    lower = round(values.quantile(.025))\n",
    "    upper = round(values.quantile(.975))\n",
    "    mean = values.mean()\n",
    "    \n",
    "    print(\"Средняя прибыль, млн руб:\", round(mean / 10e6,2))\n",
    "    print(\"2.5%-квантиль, млн. руб:\", round(lower / 10e6,2))\n",
    "    print(\"97.5%-квантиль, млн. руб:\", round(upper/ 10e6,2))\n",
    "    \n",
    "    return values"
   ]
  },
  {
   "cell_type": "code",
   "execution_count": 12,
   "metadata": {},
   "outputs": [
    {
     "name": "stdout",
     "output_type": "stream",
     "text": [
      "Данные по региону \"0\":\n",
      "Средняя прибыль, млн руб: 60.07\n",
      "2.5%-квантиль, млн. руб: 1.29\n",
      "97.5%-квантиль, млн. руб: 123.12\n"
     ]
    },
    {
     "data": {
      "text/plain": [
       "0      9.886908e+08\n",
       "1      5.363934e+08\n",
       "2      6.336436e+08\n",
       "3      5.896001e+08\n",
       "4      2.719929e+08\n",
       "           ...     \n",
       "995    5.566130e+08\n",
       "996    9.280870e+08\n",
       "997    1.030250e+09\n",
       "998    5.354841e+08\n",
       "999    5.015203e+08\n",
       "Length: 1000, dtype: float64"
      ]
     },
     "execution_count": 12,
     "metadata": {},
     "output_type": "execute_result"
    }
   ],
   "source": [
    "print('Данные по региону \"0\":')\n",
    "bootstrap(target_0, predicted_0)"
   ]
  },
  {
   "cell_type": "code",
   "execution_count": 13,
   "metadata": {},
   "outputs": [
    {
     "name": "stdout",
     "output_type": "stream",
     "text": [
      "Данные по региону \"1\":\n",
      "Средняя прибыль, млн руб: 66.52\n",
      "2.5%-квантиль, млн. руб: 15.8\n",
      "97.5%-квантиль, млн. руб: 119.76\n"
     ]
    },
    {
     "data": {
      "text/plain": [
       "0      5.918852e+08\n",
       "1      4.584665e+08\n",
       "2      6.018994e+08\n",
       "3      8.080296e+08\n",
       "4      4.327780e+08\n",
       "           ...     \n",
       "995    9.072383e+08\n",
       "996    1.067838e+09\n",
       "997    6.567596e+08\n",
       "998    6.596830e+08\n",
       "999    3.215025e+08\n",
       "Length: 1000, dtype: float64"
      ]
     },
     "execution_count": 13,
     "metadata": {},
     "output_type": "execute_result"
    }
   ],
   "source": [
    "print('Данные по региону \"1\":')\n",
    "bootstrap(target_1, predicted_1)"
   ]
  },
  {
   "cell_type": "code",
   "execution_count": 14,
   "metadata": {},
   "outputs": [
    {
     "name": "stdout",
     "output_type": "stream",
     "text": [
      "Данные по региону \"2\":\n",
      "Средняя прибыль, млн руб: 61.56\n",
      "2.5%-квантиль, млн. руб: -1.22\n",
      "97.5%-квантиль, млн. руб: 123.06\n"
     ]
    },
    {
     "data": {
      "text/plain": [
       "0      2.283966e+08\n",
       "1      9.444435e+08\n",
       "2      8.828124e+08\n",
       "3      6.853873e+08\n",
       "4      1.229461e+08\n",
       "           ...     \n",
       "995    5.668660e+08\n",
       "996    3.426507e+08\n",
       "997    7.369034e+08\n",
       "998    5.969776e+08\n",
       "999    3.309333e+08\n",
       "Length: 1000, dtype: float64"
      ]
     },
     "execution_count": 14,
     "metadata": {},
     "output_type": "execute_result"
    }
   ],
   "source": [
    "print('Данные по региону \"2\":')\n",
    "bootstrap(target_2, predicted_2)"
   ]
  },
  {
   "cell_type": "markdown",
   "metadata": {},
   "source": [
    "Выбираем для рекомендаций регион 1."
   ]
  },
  {
   "cell_type": "code",
   "execution_count": 15,
   "metadata": {},
   "outputs": [],
   "source": [
    "#from scipy import stats as st\n",
    "#values = bootstrap(target_1, predicted_1)\n",
    "#confidence_interval = st.t.interval(0.95, len(values)-1, values.mean(), values.sem()) \n",
    "\n",
    "#print(\"95%-ый доверительный интервал для средней прибыли:\", confidence_interval)"
   ]
  },
  {
   "cell_type": "code",
   "execution_count": 16,
   "metadata": {},
   "outputs": [
    {
     "name": "stdout",
     "output_type": "stream",
     "text": [
      "Средняя прибыль, млн руб: 66.52\n",
      "2.5%-квантиль, млн. руб: 15.8\n",
      "97.5%-квантиль, млн. руб: 119.76\n"
     ]
    },
    {
     "data": {
      "text/plain": [
       "count    1.000000e+03\n",
       "mean     6.652411e+08\n",
       "std      2.640500e+08\n",
       "min     -1.059347e+08\n",
       "25%      4.837508e+08\n",
       "50%      6.521568e+08\n",
       "75%      8.417419e+08\n",
       "max      1.693444e+09\n",
       "dtype: float64"
      ]
     },
     "execution_count": 16,
     "metadata": {},
     "output_type": "execute_result"
    }
   ],
   "source": [
    "from scipy import stats as st\n",
    "bootstrap(target_1, predicted_1).describe()"
   ]
  },
  {
   "cell_type": "code",
   "execution_count": 17,
   "metadata": {},
   "outputs": [
    {
     "name": "stdout",
     "output_type": "stream",
     "text": [
      "Средняя прибыль, млн руб: 66.52\n",
      "2.5%-квантиль, млн. руб: 15.8\n",
      "97.5%-квантиль, млн. руб: 119.76\n",
      "Риск убытков для региона-1 =  0.30%\n"
     ]
    }
   ],
   "source": [
    "print('Риск убытков для региона-1 = ', \"{:.2%}\".format((bootstrap(target_1, predicted_1)<0).sum() / 1000))"
   ]
  },
  {
   "cell_type": "markdown",
   "metadata": {},
   "source": [
    "### ВЫВОД: <a class=\"anchor\" id=\"5-bullet\"></a>\n",
    "- 2.5%-квантиль для региона с индексом 2 - отрицательный. Откидываем данный регион из предложений для разработки.\n",
    "- У нулевого и первого регионов 2.5%-квантиль - положительный. Однако средняя прибыль (млн. руб.) у региона с индексом 1 больше, чем у региона с индексом 0 `(66.52 против 60.07, млн. руб.)`. Также нижний порог доверительного интервала - `15.8 млн.руб.` у региона 1 против `1.29 млн.руб` у региона 2.\n",
    "- техница `bootstrap` позволила сместить приоритет в разработке с региона-0 на регион-1.\n",
    "\n",
    "#### Таким образом риск убытков для региона 1 ниже (0.3%), средняя прибыль наибольгая. Будем рекомендовать его для разработки.\n"
   ]
  }
 ],
 "metadata": {
  "kernelspec": {
   "display_name": "Python 3",
   "language": "python",
   "name": "python3"
  },
  "language_info": {
   "codemirror_mode": {
    "name": "ipython",
    "version": 3
   },
   "file_extension": ".py",
   "mimetype": "text/x-python",
   "name": "python",
   "nbconvert_exporter": "python",
   "pygments_lexer": "ipython3",
   "version": "3.7.8"
  },
  "toc": {
   "base_numbering": 1,
   "nav_menu": {},
   "number_sections": true,
   "sideBar": true,
   "skip_h1_title": false,
   "title_cell": "Table of Contents",
   "title_sidebar": "Contents",
   "toc_cell": false,
   "toc_position": {},
   "toc_section_display": true,
   "toc_window_display": false
  }
 },
 "nbformat": 4,
 "nbformat_minor": 2
}
