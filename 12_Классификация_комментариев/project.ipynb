{
 "cells": [
  {
   "cell_type": "markdown",
   "metadata": {},
   "source": [
    "# Проект для «Викишоп»\n",
    "\n",
    "Интернет-магазин «Викишоп» запускает новый сервис. Теперь пользователи могут редактировать и дополнять описания товаров, как в вики-сообществах. То есть клиенты предлагают свои правки и комментируют изменения других. Магазину нужен инструмент, который будет искать токсичные комментарии и отправлять их на модерацию. \n",
    "\n",
    "Обучите модель классифицировать комментарии на позитивные и негативные. В вашем распоряжении набор данных с разметкой о токсичности правок.\n",
    "\n",
    "Постройте модель со значением метрики качества *F1* не меньше 0.75. \n",
    "\n",
    "**Инструкция по выполнению проекта**\n",
    "\n",
    "1. Загрузите и подготовьте данные.\n",
    "2. Обучите разные модели. \n",
    "3. Сделайте выводы.\n",
    "\n",
    "Для выполнения проекта применять *BERT* необязательно, но вы можете попробовать.\n",
    "\n",
    "**Описание данных**\n",
    "\n",
    "Данные находятся в файле `toxic_comments.csv`. Столбец *text* в нём содержит текст комментария, а *toxic* — целевой признак."
   ]
  },
  {
   "cell_type": "markdown",
   "metadata": {},
   "source": [
    "## Подготовка"
   ]
  },
  {
   "cell_type": "code",
   "execution_count": 1,
   "metadata": {},
   "outputs": [],
   "source": [
    "import pandas as pd\n",
    "import matplotlib.pyplot as plt\n",
    "\n",
    "import warnings\n",
    "warnings.filterwarnings(\"ignore\")\n",
    "\n",
    "import re\n",
    "import nltk\n",
    "from nltk.corpus import stopwords as stopwords_nltk\n",
    "from nltk.stem import WordNetLemmatizer\n",
    "from nltk.corpus import stopwords as nltk_stopwords\n",
    "from sklearn.feature_extraction.text import TfidfVectorizer\n",
    "\n",
    "\n",
    "from sklearn.model_selection import train_test_split\n",
    "\n",
    "from sklearn.tree import DecisionTreeClassifier\n",
    "from sklearn.linear_model import LogisticRegression\n",
    "from sklearn.ensemble import RandomForestClassifier\n",
    "from sklearn.metrics import roc_auc_score, f1_score, roc_curve\n"
   ]
  },
  {
   "cell_type": "code",
   "execution_count": 2,
   "metadata": {},
   "outputs": [],
   "source": [
    "df = pd.read_csv('/datasets/toxic_comments.csv')"
   ]
  },
  {
   "cell_type": "code",
   "execution_count": 3,
   "metadata": {},
   "outputs": [
    {
     "name": "stdout",
     "output_type": "stream",
     "text": [
      "<class 'pandas.core.frame.DataFrame'>\n",
      "RangeIndex: 159571 entries, 0 to 159570\n",
      "Data columns (total 2 columns):\n",
      "text     159571 non-null object\n",
      "toxic    159571 non-null int64\n",
      "dtypes: int64(1), object(1)\n",
      "memory usage: 2.4+ MB\n"
     ]
    }
   ],
   "source": [
    "df.info()"
   ]
  },
  {
   "cell_type": "markdown",
   "metadata": {},
   "source": [
    "Пропусков нет."
   ]
  },
  {
   "cell_type": "code",
   "execution_count": 4,
   "metadata": {},
   "outputs": [
    {
     "data": {
      "text/html": [
       "<div>\n",
       "<style scoped>\n",
       "    .dataframe tbody tr th:only-of-type {\n",
       "        vertical-align: middle;\n",
       "    }\n",
       "\n",
       "    .dataframe tbody tr th {\n",
       "        vertical-align: top;\n",
       "    }\n",
       "\n",
       "    .dataframe thead th {\n",
       "        text-align: right;\n",
       "    }\n",
       "</style>\n",
       "<table border=\"1\" class=\"dataframe\">\n",
       "  <thead>\n",
       "    <tr style=\"text-align: right;\">\n",
       "      <th></th>\n",
       "      <th>text</th>\n",
       "      <th>toxic</th>\n",
       "    </tr>\n",
       "  </thead>\n",
       "  <tbody>\n",
       "    <tr>\n",
       "      <td>0</td>\n",
       "      <td>Explanation\\nWhy the edits made under my usern...</td>\n",
       "      <td>0</td>\n",
       "    </tr>\n",
       "    <tr>\n",
       "      <td>1</td>\n",
       "      <td>D'aww! He matches this background colour I'm s...</td>\n",
       "      <td>0</td>\n",
       "    </tr>\n",
       "    <tr>\n",
       "      <td>2</td>\n",
       "      <td>Hey man, I'm really not trying to edit war. It...</td>\n",
       "      <td>0</td>\n",
       "    </tr>\n",
       "    <tr>\n",
       "      <td>3</td>\n",
       "      <td>\"\\nMore\\nI can't make any real suggestions on ...</td>\n",
       "      <td>0</td>\n",
       "    </tr>\n",
       "    <tr>\n",
       "      <td>4</td>\n",
       "      <td>You, sir, are my hero. Any chance you remember...</td>\n",
       "      <td>0</td>\n",
       "    </tr>\n",
       "  </tbody>\n",
       "</table>\n",
       "</div>"
      ],
      "text/plain": [
       "                                                text  toxic\n",
       "0  Explanation\\nWhy the edits made under my usern...      0\n",
       "1  D'aww! He matches this background colour I'm s...      0\n",
       "2  Hey man, I'm really not trying to edit war. It...      0\n",
       "3  \"\\nMore\\nI can't make any real suggestions on ...      0\n",
       "4  You, sir, are my hero. Any chance you remember...      0"
      ]
     },
     "execution_count": 4,
     "metadata": {},
     "output_type": "execute_result"
    }
   ],
   "source": [
    "df.head()"
   ]
  },
  {
   "cell_type": "code",
   "execution_count": 5,
   "metadata": {},
   "outputs": [
    {
     "data": {
      "text/plain": [
       "0    143346\n",
       "1     16225\n",
       "Name: toxic, dtype: int64"
      ]
     },
     "execution_count": 5,
     "metadata": {},
     "output_type": "execute_result"
    }
   ],
   "source": [
    "df['toxic'].value_counts()"
   ]
  },
  {
   "cell_type": "markdown",
   "metadata": {},
   "source": [
    "Имеем дисбаланс классов"
   ]
  },
  {
   "cell_type": "code",
   "execution_count": 6,
   "metadata": {},
   "outputs": [],
   "source": [
    "# переведем текст в нижний регистр.\n",
    "df['text'] = df['text'].str.lower()"
   ]
  },
  {
   "cell_type": "markdown",
   "metadata": {},
   "source": [
    "Подготовим текст по следующему алгоритму:\n",
    "    1. Очищаем его от лишних символов.\n",
    "    2. Лемматизируем текст.\n",
    "    3. Удаляем стоп-слова."
   ]
  },
  {
   "cell_type": "code",
   "execution_count": 7,
   "metadata": {},
   "outputs": [],
   "source": [
    "# напишем функцию, которая будет очищать текст от лишних символов.\n",
    "def clear_text(text):\n",
    "    clear_text = re.sub(r\"[^a-zA-Z ]\", \" \", str(text))\n",
    "    clear_text = \" \".join(clear_text.split())\n",
    "    return clear_text"
   ]
  },
  {
   "cell_type": "code",
   "execution_count": 8,
   "metadata": {},
   "outputs": [],
   "source": [
    "# прогоним текст через функцию clear_text\n",
    "df['clear_text'] = df['text'].apply(lambda x: clear_text(x))"
   ]
  },
  {
   "cell_type": "code",
   "execution_count": 9,
   "metadata": {},
   "outputs": [
    {
     "data": {
      "text/plain": [
       "0         explanation why the edits made under my userna...\n",
       "1         d aww he matches this background colour i m se...\n",
       "2         hey man i m really not trying to edit war it s...\n",
       "3         more i can t make any real suggestions on impr...\n",
       "4         you sir are my hero any chance you remember wh...\n",
       "                                ...                        \n",
       "159566    and for the second time of asking when your vi...\n",
       "159567    you should be ashamed of yourself that is a ho...\n",
       "159568    spitzer umm theres no actual article for prost...\n",
       "159569    and it looks like it was actually you who put ...\n",
       "159570    and i really don t think you understand i came...\n",
       "Name: clear_text, Length: 159571, dtype: object"
      ]
     },
     "execution_count": 9,
     "metadata": {},
     "output_type": "execute_result"
    }
   ],
   "source": [
    "df['clear_text'] "
   ]
  },
  {
   "cell_type": "code",
   "execution_count": 10,
   "metadata": {},
   "outputs": [],
   "source": [
    "# напишем функцию, которая будет лемматизировать текст от лишних символов.\n",
    "def lemmatize_text(text):\n",
    "    lemmatize_text = nltk.word_tokenize(text)\n",
    "    return lemmatize_text"
   ]
  },
  {
   "cell_type": "code",
   "execution_count": 11,
   "metadata": {},
   "outputs": [
    {
     "data": {
      "text/plain": [
       "0         [explanation, why, the, edits, made, under, my...\n",
       "1         [d, aww, he, matches, this, background, colour...\n",
       "2         [hey, man, i, m, really, not, trying, to, edit...\n",
       "3         [more, i, can, t, make, any, real, suggestions...\n",
       "4         [you, sir, are, my, hero, any, chance, you, re...\n",
       "                                ...                        \n",
       "159566    [and, for, the, second, time, of, asking, when...\n",
       "159567    [you, should, be, ashamed, of, yourself, that,...\n",
       "159568    [spitzer, umm, theres, no, actual, article, fo...\n",
       "159569    [and, it, looks, like, it, was, actually, you,...\n",
       "159570    [and, i, really, don, t, think, you, understan...\n",
       "Name: lemmatize_text, Length: 159571, dtype: object"
      ]
     },
     "execution_count": 11,
     "metadata": {},
     "output_type": "execute_result"
    }
   ],
   "source": [
    "# прогоним текст через функцию lemmatize_text\n",
    "df['lemmatize_text'] = df['clear_text'].apply(lambda x: lemmatize_text(x))\n",
    "df['lemmatize_text']"
   ]
  },
  {
   "cell_type": "code",
   "execution_count": 12,
   "metadata": {},
   "outputs": [],
   "source": [
    "# напишем функцию, которая будет очищать текст от стоп-слов.\n",
    "STOP_WORDS = set(stopwords_nltk.words('english')) \n",
    "def without_stopwords(text):\n",
    "    without_stopwords = []\n",
    "    for i in text.split(' '):\n",
    "        if i not in STOP_WORDS: \n",
    "            without_stopwords.append(i)\n",
    "    return without_stopwords"
   ]
  },
  {
   "cell_type": "code",
   "execution_count": 13,
   "metadata": {},
   "outputs": [
    {
     "data": {
      "text/plain": [
       "0         [explanation, edits, made, username, hardcore,...\n",
       "1         [aww, matches, background, colour, seemingly, ...\n",
       "2         [hey, man, really, trying, edit, war, guy, con...\n",
       "3         [make, real, suggestions, improvement, wondere...\n",
       "4                       [sir, hero, chance, remember, page]\n",
       "                                ...                        \n",
       "159566    [second, time, asking, view, completely, contr...\n",
       "159567          [ashamed, horrible, thing, put, talk, page]\n",
       "159568    [spitzer, umm, theres, actual, article, prosti...\n",
       "159569    [looks, like, actually, put, speedy, first, ve...\n",
       "159570    [really, think, understand, came, idea, bad, r...\n",
       "Name: without_stopwords, Length: 159571, dtype: object"
      ]
     },
     "execution_count": 13,
     "metadata": {},
     "output_type": "execute_result"
    }
   ],
   "source": [
    "# прогоним текст через функцию without_stopwords\n",
    "df['without_stopwords'] = df['clear_text'].apply(lambda x: without_stopwords(x))\n",
    "df['without_stopwords']"
   ]
  },
  {
   "cell_type": "code",
   "execution_count": 14,
   "metadata": {},
   "outputs": [],
   "source": [
    "# переведем столбец 'without_stopwords' в формат unicode\n",
    "df['without_stopwords'] = df['without_stopwords'].astype('U')"
   ]
  },
  {
   "cell_type": "code",
   "execution_count": 15,
   "metadata": {},
   "outputs": [
    {
     "data": {
      "text/html": [
       "<div>\n",
       "<style scoped>\n",
       "    .dataframe tbody tr th:only-of-type {\n",
       "        vertical-align: middle;\n",
       "    }\n",
       "\n",
       "    .dataframe tbody tr th {\n",
       "        vertical-align: top;\n",
       "    }\n",
       "\n",
       "    .dataframe thead th {\n",
       "        text-align: right;\n",
       "    }\n",
       "</style>\n",
       "<table border=\"1\" class=\"dataframe\">\n",
       "  <thead>\n",
       "    <tr style=\"text-align: right;\">\n",
       "      <th></th>\n",
       "      <th>text</th>\n",
       "      <th>toxic</th>\n",
       "      <th>clear_text</th>\n",
       "      <th>lemmatize_text</th>\n",
       "      <th>without_stopwords</th>\n",
       "    </tr>\n",
       "  </thead>\n",
       "  <tbody>\n",
       "    <tr>\n",
       "      <td>0</td>\n",
       "      <td>explanation\\nwhy the edits made under my usern...</td>\n",
       "      <td>0</td>\n",
       "      <td>explanation why the edits made under my userna...</td>\n",
       "      <td>[explanation, why, the, edits, made, under, my...</td>\n",
       "      <td>['explanation', 'edits', 'made', 'username', '...</td>\n",
       "    </tr>\n",
       "    <tr>\n",
       "      <td>1</td>\n",
       "      <td>d'aww! he matches this background colour i'm s...</td>\n",
       "      <td>0</td>\n",
       "      <td>d aww he matches this background colour i m se...</td>\n",
       "      <td>[d, aww, he, matches, this, background, colour...</td>\n",
       "      <td>['aww', 'matches', 'background', 'colour', 'se...</td>\n",
       "    </tr>\n",
       "    <tr>\n",
       "      <td>2</td>\n",
       "      <td>hey man, i'm really not trying to edit war. it...</td>\n",
       "      <td>0</td>\n",
       "      <td>hey man i m really not trying to edit war it s...</td>\n",
       "      <td>[hey, man, i, m, really, not, trying, to, edit...</td>\n",
       "      <td>['hey', 'man', 'really', 'trying', 'edit', 'wa...</td>\n",
       "    </tr>\n",
       "    <tr>\n",
       "      <td>3</td>\n",
       "      <td>\"\\nmore\\ni can't make any real suggestions on ...</td>\n",
       "      <td>0</td>\n",
       "      <td>more i can t make any real suggestions on impr...</td>\n",
       "      <td>[more, i, can, t, make, any, real, suggestions...</td>\n",
       "      <td>['make', 'real', 'suggestions', 'improvement',...</td>\n",
       "    </tr>\n",
       "    <tr>\n",
       "      <td>4</td>\n",
       "      <td>you, sir, are my hero. any chance you remember...</td>\n",
       "      <td>0</td>\n",
       "      <td>you sir are my hero any chance you remember wh...</td>\n",
       "      <td>[you, sir, are, my, hero, any, chance, you, re...</td>\n",
       "      <td>['sir', 'hero', 'chance', 'remember', 'page']</td>\n",
       "    </tr>\n",
       "  </tbody>\n",
       "</table>\n",
       "</div>"
      ],
      "text/plain": [
       "                                                text  toxic  \\\n",
       "0  explanation\\nwhy the edits made under my usern...      0   \n",
       "1  d'aww! he matches this background colour i'm s...      0   \n",
       "2  hey man, i'm really not trying to edit war. it...      0   \n",
       "3  \"\\nmore\\ni can't make any real suggestions on ...      0   \n",
       "4  you, sir, are my hero. any chance you remember...      0   \n",
       "\n",
       "                                          clear_text  \\\n",
       "0  explanation why the edits made under my userna...   \n",
       "1  d aww he matches this background colour i m se...   \n",
       "2  hey man i m really not trying to edit war it s...   \n",
       "3  more i can t make any real suggestions on impr...   \n",
       "4  you sir are my hero any chance you remember wh...   \n",
       "\n",
       "                                      lemmatize_text  \\\n",
       "0  [explanation, why, the, edits, made, under, my...   \n",
       "1  [d, aww, he, matches, this, background, colour...   \n",
       "2  [hey, man, i, m, really, not, trying, to, edit...   \n",
       "3  [more, i, can, t, make, any, real, suggestions...   \n",
       "4  [you, sir, are, my, hero, any, chance, you, re...   \n",
       "\n",
       "                                   without_stopwords  \n",
       "0  ['explanation', 'edits', 'made', 'username', '...  \n",
       "1  ['aww', 'matches', 'background', 'colour', 'se...  \n",
       "2  ['hey', 'man', 'really', 'trying', 'edit', 'wa...  \n",
       "3  ['make', 'real', 'suggestions', 'improvement',...  \n",
       "4      ['sir', 'hero', 'chance', 'remember', 'page']  "
      ]
     },
     "execution_count": 15,
     "metadata": {},
     "output_type": "execute_result"
    }
   ],
   "source": [
    "df.head()"
   ]
  },
  {
   "cell_type": "code",
   "execution_count": 16,
   "metadata": {},
   "outputs": [
    {
     "name": "stdout",
     "output_type": "stream",
     "text": [
      "<class 'pandas.core.frame.DataFrame'>\n",
      "RangeIndex: 159571 entries, 0 to 159570\n",
      "Data columns (total 5 columns):\n",
      "text                 159571 non-null object\n",
      "toxic                159571 non-null int64\n",
      "clear_text           159571 non-null object\n",
      "lemmatize_text       159571 non-null object\n",
      "without_stopwords    159571 non-null object\n",
      "dtypes: int64(1), object(4)\n",
      "memory usage: 6.1+ MB\n"
     ]
    }
   ],
   "source": [
    "df.info()"
   ]
  },
  {
   "cell_type": "markdown",
   "metadata": {},
   "source": [
    "## Обучение"
   ]
  },
  {
   "cell_type": "code",
   "execution_count": 17,
   "metadata": {},
   "outputs": [],
   "source": [
    "# выделим признаки и цель для обучения\n",
    "\n",
    "target = df['toxic']\n",
    "features = df.drop('toxic', axis = 1)"
   ]
  },
  {
   "cell_type": "code",
   "execution_count": 18,
   "metadata": {},
   "outputs": [
    {
     "name": "stdout",
     "output_type": "stream",
     "text": [
      "(159571,) (159571, 4)\n"
     ]
    }
   ],
   "source": [
    "print(target.shape, features.shape)"
   ]
  },
  {
   "cell_type": "code",
   "execution_count": 19,
   "metadata": {},
   "outputs": [],
   "source": [
    "# разделим данные features и target на две части (train и test) в соотношении 75% к 25% \n",
    "features_train, features_test, target_train, target_test = train_test_split(\n",
    "    features, target, test_size=0.25, random_state=12345)"
   ]
  },
  {
   "cell_type": "code",
   "execution_count": 20,
   "metadata": {},
   "outputs": [
    {
     "name": "stderr",
     "output_type": "stream",
     "text": [
      "[nltk_data] Downloading package stopwords to /home/jovyan/nltk_data...\n",
      "[nltk_data]   Package stopwords is already up-to-date!\n"
     ]
    }
   ],
   "source": [
    "# посчитаем TF-IDF для корпуса текстов\n",
    "\n",
    "nltk.download('stopwords')\n",
    "stopwords = set(nltk_stopwords.words('english'))\n",
    "\n",
    "corpus_train = features_train['without_stopwords']\n",
    "corpus_test = features_test['without_stopwords']\n",
    "\n",
    "count_tf_idf = TfidfVectorizer(stop_words=stopwords) \n",
    "tf_idf = count_tf_idf.fit(corpus_train) \n",
    "\n",
    "x_train = tf_idf.transform(corpus_train)\n",
    "x_test = tf_idf.transform(corpus_test)"
   ]
  },
  {
   "cell_type": "code",
   "execution_count": 21,
   "metadata": {},
   "outputs": [
    {
     "name": "stdout",
     "output_type": "stream",
     "text": [
      "(119678, 143178) (119678,)\n"
     ]
    }
   ],
   "source": [
    "print(x_train.shape, target_train.shape)"
   ]
  },
  {
   "cell_type": "code",
   "execution_count": 22,
   "metadata": {},
   "outputs": [
    {
     "name": "stdout",
     "output_type": "stream",
     "text": [
      "(39893, 143178) (39893,)\n"
     ]
    }
   ],
   "source": [
    "print(x_test.shape, target_test.shape)"
   ]
  },
  {
   "cell_type": "markdown",
   "metadata": {},
   "source": [
    "Рассмотрем три модели для обучения:\n",
    "- DecisionTreeClassifier\n",
    "- RandomForestClassifier\n",
    "- LogisticRegression"
   ]
  },
  {
   "cell_type": "markdown",
   "metadata": {},
   "source": [
    "### DecisionTreeClassifier"
   ]
  },
  {
   "cell_type": "code",
   "execution_count": 23,
   "metadata": {},
   "outputs": [
    {
     "name": "stdout",
     "output_type": "stream",
     "text": [
      "Лучший результат F1 = 0.598381244766955 при depth =  21\n"
     ]
    }
   ],
   "source": [
    "best_result = 0\n",
    "for depth in range(1, 22, 10): \n",
    "    model = DecisionTreeClassifier(random_state=12345, class_weight = 'balanced', max_depth=depth)\n",
    "    model.fit(x_train, target_train)\n",
    "    predictions = model.predict(x_test)\n",
    "    f1 = f1_score(target_test, predictions)\n",
    "    if best_result <= f1:\n",
    "        best_result = f1\n",
    "        best_depth = depth\n",
    "        \n",
    "print('Лучший результат F1 =', best_result, 'при depth = ', best_depth)"
   ]
  },
  {
   "cell_type": "markdown",
   "metadata": {},
   "source": [
    "### RandomForestClassifier"
   ]
  },
  {
   "cell_type": "code",
   "execution_count": 24,
   "metadata": {},
   "outputs": [
    {
     "name": "stdout",
     "output_type": "stream",
     "text": [
      "Лучший результат F1 = 0.3932013916614385 при depth =  21 и при n_estimators =  101\n"
     ]
    }
   ],
   "source": [
    "best_result = 0\n",
    "for depth in range(1,22,10): \n",
    "    for estimators in range(1,102,50):\n",
    "        model = RandomForestClassifier(n_estimators=estimators, class_weight = 'balanced', max_depth=depth, random_state=12345)\n",
    "        model.fit(x_train, target_train)\n",
    "        predictions = model.predict(x_test)\n",
    "        f1 = f1_score(target_test, predictions)\n",
    "        if best_result <= f1:\n",
    "            best_result = f1\n",
    "            best_depth = depth\n",
    "            best_n_estimators = estimators\n",
    "            \n",
    "print('Лучший результат F1 =', best_result, 'при depth = ', best_depth, 'и при n_estimators = ', estimators)"
   ]
  },
  {
   "cell_type": "markdown",
   "metadata": {},
   "source": [
    "### LogisticRegression"
   ]
  },
  {
   "cell_type": "code",
   "execution_count": 25,
   "metadata": {},
   "outputs": [
    {
     "name": "stdout",
     "output_type": "stream",
     "text": [
      "Результат F1 = 0.7588081774684645\n"
     ]
    }
   ],
   "source": [
    "model = LogisticRegression(class_weight = 'balanced', solver = 'liblinear', random_state=12345)\n",
    "model.fit(x_train, target_train)\n",
    "predictions = model.predict(x_test)\n",
    "f1 = f1_score(target_test, predictions) \n",
    "print('Результат F1 =', f1)"
   ]
  },
  {
   "cell_type": "markdown",
   "metadata": {},
   "source": [
    "## Выводы\n"
   ]
  },
  {
   "cell_type": "markdown",
   "metadata": {},
   "source": [
    "Лучше других показала себя модель `LogisticRegression`. "
   ]
  },
  {
   "cell_type": "code",
   "execution_count": 26,
   "metadata": {},
   "outputs": [
    {
     "name": "stdout",
     "output_type": "stream",
     "text": [
      "Значение AUC-ROC = 0.9719745961028794\n",
      "Значение F1 = 0.7588081774684645\n"
     ]
    }
   ],
   "source": [
    "probabilities_valid = model.predict_proba(x_test)\n",
    "probabilities_one_valid = probabilities_valid[:, 1]\n",
    "auc_roc = roc_auc_score(target_test, probabilities_one_valid)\n",
    "\n",
    "print('Значение AUC-ROC =', auc_roc)\n",
    "print('Значение F1 =', f1)"
   ]
  },
  {
   "cell_type": "code",
   "execution_count": 27,
   "metadata": {},
   "outputs": [
    {
     "data": {
      "image/png": "[encoded data removed]",
      "text/plain": [
       "<Figure size 432x288 with 1 Axes>"
      ]
     },
     "metadata": {
      "needs_background": "light"
     },
     "output_type": "display_data"
    }
   ],
   "source": [
    "fpr, tpr, thresholds = roc_curve(target_test, probabilities_one_valid) \n",
    "plt.figure()\n",
    "plt.plot(fpr, tpr)\n",
    "plt.xlim([0.0, 1.0])\n",
    "plt.ylim([0.0, 1.0])\n",
    "plt.xlabel('False Positive Rate')\n",
    "plt.ylabel('True Positive Rate')\n",
    "plt.title('ROC-кривая')\n",
    "plt.show() "
   ]
  },
  {
   "cell_type": "markdown",
   "metadata": {},
   "source": [
    "<b>Вывод:"
   ]
  },
  {
   "cell_type": "markdown",
   "metadata": {},
   "source": [
    "- В качестве итоговой модели выбираем `LogisticRegression`, для которой получили значение метрики `F1 = 0.7588081774684645`.\n",
    "- ROC - кривая находится выше диагонали. Значение `AUC-ROC` для итоговой модели `0.9719745961028794`."
   ]
  }
 ],
 "metadata": {
  "kernelspec": {
   "display_name": "Python 3",
   "language": "python",
   "name": "python3"
  },
  "language_info": {
   "codemirror_mode": {
    "name": "ipython",
    "version": 3
   },
   "file_extension": ".py",
   "mimetype": "text/x-python",
   "name": "python",
   "nbconvert_exporter": "python",
   "pygments_lexer": "ipython3",
   "version": "3.7.8"
  },
  "toc": {
   "base_numbering": 1,
   "nav_menu": {},
   "number_sections": true,
   "sideBar": true,
   "skip_h1_title": false,
   "title_cell": "Table of Contents",
   "title_sidebar": "Contents",
   "toc_cell": false,
   "toc_position": {},
   "toc_section_display": true,
   "toc_window_display": false
  }
 },
 "nbformat": 4,
 "nbformat_minor": 2
}
