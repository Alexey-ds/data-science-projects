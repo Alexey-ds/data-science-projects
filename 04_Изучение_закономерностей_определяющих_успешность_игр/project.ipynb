{
 "cells": [
  {
   "cell_type": "markdown",
   "metadata": {},
   "source": [
    "# Сборный проект\n",
    "## Описание проекта\n",
    "Из открытых источников доступны исторические данные о продажах игр, оценки пользователей и экспертов, жанры и платформы (например, Xbox или PlayStation). Необходимо выявить определяющие успешность игры закономерности, которые помогут сделать ставку на потенциально популярный продукт и спланировать рекламные кампании.\n",
    "\n",
    "В наборе данных попадается аббревиатура ESRB (Entertainment Software Rating Board) — это ассоциация, определяющая возрастной рейтинг компьютерных игр. ESRB оценивает игровой контент и присваивает ему подходящую возрастную категорию, например, «Для взрослых», «Для детей младшего возраста» или «Для подростков».\n",
    "\n",
    "#### Описание данных\n",
    "- `Name` — название игры\n",
    "- `Platform` — платформа\n",
    "- `Year_of_Release` — год выпуска\n",
    "- `Genre` — жанр игры\n",
    "- `NA_sales` — продажи в Северной Америке (миллионы проданных копий)\n",
    "- `EU_sales` — продажи в Европе (миллионы проданных копий)\n",
    "- `JP_sales` — продажи в Японии (миллионы проданных копий)\n",
    "- `Other_sales` — продажи в других странах (миллионы проданных копий)\n",
    "- `Critic_Score` — оценка критиков (максимум 100)\n",
    "- `User_Score` — оценка пользователей (максимум 10)\n",
    "- `Rating` — рейтинг от организации ESRB (англ. Entertainment Software Rating Board). Эта ассоциация определяет рейтинг компьютерных игр и присваивает им подходящую возрастную категорию.\n"
   ]
  },
  {
   "cell_type": "markdown",
   "metadata": {},
   "source": [
    "## Шаг 1. Откроем файл с данными и изучим общую информацию <a class=\"anchor\" id=\"first-bullet\"></a>"
   ]
  },
  {
   "cell_type": "code",
   "execution_count": 1,
   "metadata": {},
   "outputs": [],
   "source": [
    "import pandas as pd\n",
    "import numpy as np\n",
    "import matplotlib.pyplot as plt \n",
    "import seaborn as sns\n",
    "\n",
    "import warnings\n",
    "warnings.filterwarnings(\"ignore\")"
   ]
  },
  {
   "cell_type": "code",
   "execution_count": 2,
   "metadata": {},
   "outputs": [],
   "source": [
    "df = pd.read_csv('/datasets/games.csv')"
   ]
  },
  {
   "cell_type": "code",
   "execution_count": 3,
   "metadata": {},
   "outputs": [
    {
     "data": {
      "text/html": [
       "<div>\n",
       "<style scoped>\n",
       "    .dataframe tbody tr th:only-of-type {\n",
       "        vertical-align: middle;\n",
       "    }\n",
       "\n",
       "    .dataframe tbody tr th {\n",
       "        vertical-align: top;\n",
       "    }\n",
       "\n",
       "    .dataframe thead th {\n",
       "        text-align: right;\n",
       "    }\n",
       "</style>\n",
       "<table border=\"1\" class=\"dataframe\">\n",
       "  <thead>\n",
       "    <tr style=\"text-align: right;\">\n",
       "      <th></th>\n",
       "      <th>Name</th>\n",
       "      <th>Platform</th>\n",
       "      <th>Year_of_Release</th>\n",
       "      <th>Genre</th>\n",
       "      <th>NA_sales</th>\n",
       "      <th>EU_sales</th>\n",
       "      <th>JP_sales</th>\n",
       "      <th>Other_sales</th>\n",
       "      <th>Critic_Score</th>\n",
       "      <th>User_Score</th>\n",
       "      <th>Rating</th>\n",
       "    </tr>\n",
       "  </thead>\n",
       "  <tbody>\n",
       "    <tr>\n",
       "      <td>0</td>\n",
       "      <td>Wii Sports</td>\n",
       "      <td>Wii</td>\n",
       "      <td>2006.0</td>\n",
       "      <td>Sports</td>\n",
       "      <td>41.36</td>\n",
       "      <td>28.96</td>\n",
       "      <td>3.77</td>\n",
       "      <td>8.45</td>\n",
       "      <td>76.0</td>\n",
       "      <td>8</td>\n",
       "      <td>E</td>\n",
       "    </tr>\n",
       "    <tr>\n",
       "      <td>1</td>\n",
       "      <td>Super Mario Bros.</td>\n",
       "      <td>NES</td>\n",
       "      <td>1985.0</td>\n",
       "      <td>Platform</td>\n",
       "      <td>29.08</td>\n",
       "      <td>3.58</td>\n",
       "      <td>6.81</td>\n",
       "      <td>0.77</td>\n",
       "      <td>NaN</td>\n",
       "      <td>NaN</td>\n",
       "      <td>NaN</td>\n",
       "    </tr>\n",
       "    <tr>\n",
       "      <td>2</td>\n",
       "      <td>Mario Kart Wii</td>\n",
       "      <td>Wii</td>\n",
       "      <td>2008.0</td>\n",
       "      <td>Racing</td>\n",
       "      <td>15.68</td>\n",
       "      <td>12.76</td>\n",
       "      <td>3.79</td>\n",
       "      <td>3.29</td>\n",
       "      <td>82.0</td>\n",
       "      <td>8.3</td>\n",
       "      <td>E</td>\n",
       "    </tr>\n",
       "    <tr>\n",
       "      <td>3</td>\n",
       "      <td>Wii Sports Resort</td>\n",
       "      <td>Wii</td>\n",
       "      <td>2009.0</td>\n",
       "      <td>Sports</td>\n",
       "      <td>15.61</td>\n",
       "      <td>10.93</td>\n",
       "      <td>3.28</td>\n",
       "      <td>2.95</td>\n",
       "      <td>80.0</td>\n",
       "      <td>8</td>\n",
       "      <td>E</td>\n",
       "    </tr>\n",
       "    <tr>\n",
       "      <td>4</td>\n",
       "      <td>Pokemon Red/Pokemon Blue</td>\n",
       "      <td>GB</td>\n",
       "      <td>1996.0</td>\n",
       "      <td>Role-Playing</td>\n",
       "      <td>11.27</td>\n",
       "      <td>8.89</td>\n",
       "      <td>10.22</td>\n",
       "      <td>1.00</td>\n",
       "      <td>NaN</td>\n",
       "      <td>NaN</td>\n",
       "      <td>NaN</td>\n",
       "    </tr>\n",
       "    <tr>\n",
       "      <td>...</td>\n",
       "      <td>...</td>\n",
       "      <td>...</td>\n",
       "      <td>...</td>\n",
       "      <td>...</td>\n",
       "      <td>...</td>\n",
       "      <td>...</td>\n",
       "      <td>...</td>\n",
       "      <td>...</td>\n",
       "      <td>...</td>\n",
       "      <td>...</td>\n",
       "      <td>...</td>\n",
       "    </tr>\n",
       "    <tr>\n",
       "      <td>16710</td>\n",
       "      <td>Samurai Warriors: Sanada Maru</td>\n",
       "      <td>PS3</td>\n",
       "      <td>2016.0</td>\n",
       "      <td>Action</td>\n",
       "      <td>0.00</td>\n",
       "      <td>0.00</td>\n",
       "      <td>0.01</td>\n",
       "      <td>0.00</td>\n",
       "      <td>NaN</td>\n",
       "      <td>NaN</td>\n",
       "      <td>NaN</td>\n",
       "    </tr>\n",
       "    <tr>\n",
       "      <td>16711</td>\n",
       "      <td>LMA Manager 2007</td>\n",
       "      <td>X360</td>\n",
       "      <td>2006.0</td>\n",
       "      <td>Sports</td>\n",
       "      <td>0.00</td>\n",
       "      <td>0.01</td>\n",
       "      <td>0.00</td>\n",
       "      <td>0.00</td>\n",
       "      <td>NaN</td>\n",
       "      <td>NaN</td>\n",
       "      <td>NaN</td>\n",
       "    </tr>\n",
       "    <tr>\n",
       "      <td>16712</td>\n",
       "      <td>Haitaka no Psychedelica</td>\n",
       "      <td>PSV</td>\n",
       "      <td>2016.0</td>\n",
       "      <td>Adventure</td>\n",
       "      <td>0.00</td>\n",
       "      <td>0.00</td>\n",
       "      <td>0.01</td>\n",
       "      <td>0.00</td>\n",
       "      <td>NaN</td>\n",
       "      <td>NaN</td>\n",
       "      <td>NaN</td>\n",
       "    </tr>\n",
       "    <tr>\n",
       "      <td>16713</td>\n",
       "      <td>Spirits &amp; Spells</td>\n",
       "      <td>GBA</td>\n",
       "      <td>2003.0</td>\n",
       "      <td>Platform</td>\n",
       "      <td>0.01</td>\n",
       "      <td>0.00</td>\n",
       "      <td>0.00</td>\n",
       "      <td>0.00</td>\n",
       "      <td>NaN</td>\n",
       "      <td>NaN</td>\n",
       "      <td>NaN</td>\n",
       "    </tr>\n",
       "    <tr>\n",
       "      <td>16714</td>\n",
       "      <td>Winning Post 8 2016</td>\n",
       "      <td>PSV</td>\n",
       "      <td>2016.0</td>\n",
       "      <td>Simulation</td>\n",
       "      <td>0.00</td>\n",
       "      <td>0.00</td>\n",
       "      <td>0.01</td>\n",
       "      <td>0.00</td>\n",
       "      <td>NaN</td>\n",
       "      <td>NaN</td>\n",
       "      <td>NaN</td>\n",
       "    </tr>\n",
       "  </tbody>\n",
       "</table>\n",
       "<p>16715 rows × 11 columns</p>\n",
       "</div>"
      ],
      "text/plain": [
       "                                Name Platform  Year_of_Release         Genre  \\\n",
       "0                         Wii Sports      Wii           2006.0        Sports   \n",
       "1                  Super Mario Bros.      NES           1985.0      Platform   \n",
       "2                     Mario Kart Wii      Wii           2008.0        Racing   \n",
       "3                  Wii Sports Resort      Wii           2009.0        Sports   \n",
       "4           Pokemon Red/Pokemon Blue       GB           1996.0  Role-Playing   \n",
       "...                              ...      ...              ...           ...   \n",
       "16710  Samurai Warriors: Sanada Maru      PS3           2016.0        Action   \n",
       "16711               LMA Manager 2007     X360           2006.0        Sports   \n",
       "16712        Haitaka no Psychedelica      PSV           2016.0     Adventure   \n",
       "16713               Spirits & Spells      GBA           2003.0      Platform   \n",
       "16714            Winning Post 8 2016      PSV           2016.0    Simulation   \n",
       "\n",
       "       NA_sales  EU_sales  JP_sales  Other_sales  Critic_Score User_Score  \\\n",
       "0         41.36     28.96      3.77         8.45          76.0          8   \n",
       "1         29.08      3.58      6.81         0.77           NaN        NaN   \n",
       "2         15.68     12.76      3.79         3.29          82.0        8.3   \n",
       "3         15.61     10.93      3.28         2.95          80.0          8   \n",
       "4         11.27      8.89     10.22         1.00           NaN        NaN   \n",
       "...         ...       ...       ...          ...           ...        ...   \n",
       "16710      0.00      0.00      0.01         0.00           NaN        NaN   \n",
       "16711      0.00      0.01      0.00         0.00           NaN        NaN   \n",
       "16712      0.00      0.00      0.01         0.00           NaN        NaN   \n",
       "16713      0.01      0.00      0.00         0.00           NaN        NaN   \n",
       "16714      0.00      0.00      0.01         0.00           NaN        NaN   \n",
       "\n",
       "      Rating  \n",
       "0          E  \n",
       "1        NaN  \n",
       "2          E  \n",
       "3          E  \n",
       "4        NaN  \n",
       "...      ...  \n",
       "16710    NaN  \n",
       "16711    NaN  \n",
       "16712    NaN  \n",
       "16713    NaN  \n",
       "16714    NaN  \n",
       "\n",
       "[16715 rows x 11 columns]"
      ]
     },
     "execution_count": 3,
     "metadata": {},
     "output_type": "execute_result"
    }
   ],
   "source": [
    "df"
   ]
  },
  {
   "cell_type": "code",
   "execution_count": 4,
   "metadata": {},
   "outputs": [
    {
     "data": {
      "text/plain": [
       "0"
      ]
     },
     "execution_count": 4,
     "metadata": {},
     "output_type": "execute_result"
    }
   ],
   "source": [
    "df.duplicated().sum()"
   ]
  },
  {
   "cell_type": "code",
   "execution_count": 5,
   "metadata": {},
   "outputs": [
    {
     "name": "stdout",
     "output_type": "stream",
     "text": [
      "<class 'pandas.core.frame.DataFrame'>\n",
      "RangeIndex: 16715 entries, 0 to 16714\n",
      "Data columns (total 11 columns):\n",
      "Name               16713 non-null object\n",
      "Platform           16715 non-null object\n",
      "Year_of_Release    16446 non-null float64\n",
      "Genre              16713 non-null object\n",
      "NA_sales           16715 non-null float64\n",
      "EU_sales           16715 non-null float64\n",
      "JP_sales           16715 non-null float64\n",
      "Other_sales        16715 non-null float64\n",
      "Critic_Score       8137 non-null float64\n",
      "User_Score         10014 non-null object\n",
      "Rating             9949 non-null object\n",
      "dtypes: float64(6), object(5)\n",
      "memory usage: 1.4+ MB\n"
     ]
    }
   ],
   "source": [
    "df.info()"
   ]
  },
  {
   "cell_type": "markdown",
   "metadata": {},
   "source": [
    "- Данные содержат строчные и прописные символы. Переведем все данные в нижний региср.\n",
    "- Дубликатов на данном этапе не обнаружено. Перепроверим это после всех изменений с данными.\n",
    "- Данные содержат пропуски. Рассморим их подробнее дальше.\n",
    "- Тип данных в некоторых столбцах можно заменить (например, в `User_Score`). Заменять будем, скорее всего, на `float`, т.к. таблица содержить `NaN`."
   ]
  },
  {
   "cell_type": "markdown",
   "metadata": {},
   "source": [
    "## Шаг 2. Подготовка данных"
   ]
  },
  {
   "cell_type": "markdown",
   "metadata": {},
   "source": [
    "Переведем данные в нижний регистр."
   ]
  },
  {
   "cell_type": "code",
   "execution_count": 6,
   "metadata": {},
   "outputs": [
    {
     "data": {
      "text/plain": [
       "Index(['name', 'platform', 'year_of_release', 'genre', 'na_sales', 'eu_sales',\n",
       "       'jp_sales', 'other_sales', 'critic_score', 'user_score', 'rating'],\n",
       "      dtype='object')"
      ]
     },
     "execution_count": 6,
     "metadata": {},
     "output_type": "execute_result"
    }
   ],
   "source": [
    "df.columns = df.columns.str.lower()\n",
    "df.columns"
   ]
  },
  {
   "cell_type": "code",
   "execution_count": 7,
   "metadata": {},
   "outputs": [],
   "source": [
    "for column in ['name', 'platform', 'genre']:\n",
    "    df[column] = df[column].str.lower()"
   ]
  },
  {
   "cell_type": "code",
   "execution_count": 8,
   "metadata": {},
   "outputs": [
    {
     "data": {
      "text/html": [
       "<div>\n",
       "<style scoped>\n",
       "    .dataframe tbody tr th:only-of-type {\n",
       "        vertical-align: middle;\n",
       "    }\n",
       "\n",
       "    .dataframe tbody tr th {\n",
       "        vertical-align: top;\n",
       "    }\n",
       "\n",
       "    .dataframe thead th {\n",
       "        text-align: right;\n",
       "    }\n",
       "</style>\n",
       "<table border=\"1\" class=\"dataframe\">\n",
       "  <thead>\n",
       "    <tr style=\"text-align: right;\">\n",
       "      <th></th>\n",
       "      <th>name</th>\n",
       "      <th>platform</th>\n",
       "      <th>year_of_release</th>\n",
       "      <th>genre</th>\n",
       "      <th>na_sales</th>\n",
       "      <th>eu_sales</th>\n",
       "      <th>jp_sales</th>\n",
       "      <th>other_sales</th>\n",
       "      <th>critic_score</th>\n",
       "      <th>user_score</th>\n",
       "      <th>rating</th>\n",
       "    </tr>\n",
       "  </thead>\n",
       "  <tbody>\n",
       "    <tr>\n",
       "      <td>0</td>\n",
       "      <td>wii sports</td>\n",
       "      <td>wii</td>\n",
       "      <td>2006.0</td>\n",
       "      <td>sports</td>\n",
       "      <td>41.36</td>\n",
       "      <td>28.96</td>\n",
       "      <td>3.77</td>\n",
       "      <td>8.45</td>\n",
       "      <td>76.0</td>\n",
       "      <td>8</td>\n",
       "      <td>E</td>\n",
       "    </tr>\n",
       "    <tr>\n",
       "      <td>1</td>\n",
       "      <td>super mario bros.</td>\n",
       "      <td>nes</td>\n",
       "      <td>1985.0</td>\n",
       "      <td>platform</td>\n",
       "      <td>29.08</td>\n",
       "      <td>3.58</td>\n",
       "      <td>6.81</td>\n",
       "      <td>0.77</td>\n",
       "      <td>NaN</td>\n",
       "      <td>NaN</td>\n",
       "      <td>NaN</td>\n",
       "    </tr>\n",
       "    <tr>\n",
       "      <td>2</td>\n",
       "      <td>mario kart wii</td>\n",
       "      <td>wii</td>\n",
       "      <td>2008.0</td>\n",
       "      <td>racing</td>\n",
       "      <td>15.68</td>\n",
       "      <td>12.76</td>\n",
       "      <td>3.79</td>\n",
       "      <td>3.29</td>\n",
       "      <td>82.0</td>\n",
       "      <td>8.3</td>\n",
       "      <td>E</td>\n",
       "    </tr>\n",
       "    <tr>\n",
       "      <td>3</td>\n",
       "      <td>wii sports resort</td>\n",
       "      <td>wii</td>\n",
       "      <td>2009.0</td>\n",
       "      <td>sports</td>\n",
       "      <td>15.61</td>\n",
       "      <td>10.93</td>\n",
       "      <td>3.28</td>\n",
       "      <td>2.95</td>\n",
       "      <td>80.0</td>\n",
       "      <td>8</td>\n",
       "      <td>E</td>\n",
       "    </tr>\n",
       "    <tr>\n",
       "      <td>4</td>\n",
       "      <td>pokemon red/pokemon blue</td>\n",
       "      <td>gb</td>\n",
       "      <td>1996.0</td>\n",
       "      <td>role-playing</td>\n",
       "      <td>11.27</td>\n",
       "      <td>8.89</td>\n",
       "      <td>10.22</td>\n",
       "      <td>1.00</td>\n",
       "      <td>NaN</td>\n",
       "      <td>NaN</td>\n",
       "      <td>NaN</td>\n",
       "    </tr>\n",
       "  </tbody>\n",
       "</table>\n",
       "</div>"
      ],
      "text/plain": [
       "                       name platform  year_of_release         genre  na_sales  \\\n",
       "0                wii sports      wii           2006.0        sports     41.36   \n",
       "1         super mario bros.      nes           1985.0      platform     29.08   \n",
       "2            mario kart wii      wii           2008.0        racing     15.68   \n",
       "3         wii sports resort      wii           2009.0        sports     15.61   \n",
       "4  pokemon red/pokemon blue       gb           1996.0  role-playing     11.27   \n",
       "\n",
       "   eu_sales  jp_sales  other_sales  critic_score user_score rating  \n",
       "0     28.96      3.77         8.45          76.0          8      E  \n",
       "1      3.58      6.81         0.77           NaN        NaN    NaN  \n",
       "2     12.76      3.79         3.29          82.0        8.3      E  \n",
       "3     10.93      3.28         2.95          80.0          8      E  \n",
       "4      8.89     10.22         1.00           NaN        NaN    NaN  "
      ]
     },
     "execution_count": 8,
     "metadata": {},
     "output_type": "execute_result"
    }
   ],
   "source": [
    "df.head()"
   ]
  },
  {
   "cell_type": "markdown",
   "metadata": {},
   "source": [
    "Рассмотрим каждый столбец отдельно."
   ]
  },
  {
   "cell_type": "markdown",
   "metadata": {},
   "source": [
    "#### Столбец `name`"
   ]
  },
  {
   "cell_type": "code",
   "execution_count": 9,
   "metadata": {},
   "outputs": [
    {
     "data": {
      "text/plain": [
       "count                           16713\n",
       "unique                          11559\n",
       "top       need for speed: most wanted\n",
       "freq                               12\n",
       "Name: name, dtype: object"
      ]
     },
     "execution_count": 9,
     "metadata": {},
     "output_type": "execute_result"
    }
   ],
   "source": [
    "df['name'].describe()"
   ]
  },
  {
   "cell_type": "markdown",
   "metadata": {},
   "source": [
    "- В таблице есть одни и те же игры, которые, вероятно, выходили под разные игровые платформы."
   ]
  },
  {
   "cell_type": "code",
   "execution_count": 10,
   "metadata": {},
   "outputs": [
    {
     "data": {
      "text/plain": [
       "2"
      ]
     },
     "execution_count": 10,
     "metadata": {},
     "output_type": "execute_result"
    }
   ],
   "source": [
    "df['name'].isnull().sum()"
   ]
  },
  {
   "cell_type": "code",
   "execution_count": 11,
   "metadata": {},
   "outputs": [
    {
     "data": {
      "text/html": [
       "<div>\n",
       "<style scoped>\n",
       "    .dataframe tbody tr th:only-of-type {\n",
       "        vertical-align: middle;\n",
       "    }\n",
       "\n",
       "    .dataframe tbody tr th {\n",
       "        vertical-align: top;\n",
       "    }\n",
       "\n",
       "    .dataframe thead th {\n",
       "        text-align: right;\n",
       "    }\n",
       "</style>\n",
       "<table border=\"1\" class=\"dataframe\">\n",
       "  <thead>\n",
       "    <tr style=\"text-align: right;\">\n",
       "      <th></th>\n",
       "      <th>name</th>\n",
       "      <th>platform</th>\n",
       "      <th>year_of_release</th>\n",
       "      <th>genre</th>\n",
       "      <th>na_sales</th>\n",
       "      <th>eu_sales</th>\n",
       "      <th>jp_sales</th>\n",
       "      <th>other_sales</th>\n",
       "      <th>critic_score</th>\n",
       "      <th>user_score</th>\n",
       "      <th>rating</th>\n",
       "    </tr>\n",
       "  </thead>\n",
       "  <tbody>\n",
       "    <tr>\n",
       "      <td>659</td>\n",
       "      <td>NaN</td>\n",
       "      <td>gen</td>\n",
       "      <td>1993.0</td>\n",
       "      <td>NaN</td>\n",
       "      <td>1.78</td>\n",
       "      <td>0.53</td>\n",
       "      <td>0.00</td>\n",
       "      <td>0.08</td>\n",
       "      <td>NaN</td>\n",
       "      <td>NaN</td>\n",
       "      <td>NaN</td>\n",
       "    </tr>\n",
       "    <tr>\n",
       "      <td>14244</td>\n",
       "      <td>NaN</td>\n",
       "      <td>gen</td>\n",
       "      <td>1993.0</td>\n",
       "      <td>NaN</td>\n",
       "      <td>0.00</td>\n",
       "      <td>0.00</td>\n",
       "      <td>0.03</td>\n",
       "      <td>0.00</td>\n",
       "      <td>NaN</td>\n",
       "      <td>NaN</td>\n",
       "      <td>NaN</td>\n",
       "    </tr>\n",
       "  </tbody>\n",
       "</table>\n",
       "</div>"
      ],
      "text/plain": [
       "      name platform  year_of_release genre  na_sales  eu_sales  jp_sales  \\\n",
       "659    NaN      gen           1993.0   NaN      1.78      0.53      0.00   \n",
       "14244  NaN      gen           1993.0   NaN      0.00      0.00      0.03   \n",
       "\n",
       "       other_sales  critic_score user_score rating  \n",
       "659           0.08           NaN        NaN    NaN  \n",
       "14244         0.00           NaN        NaN    NaN  "
      ]
     },
     "execution_count": 11,
     "metadata": {},
     "output_type": "execute_result"
    }
   ],
   "source": [
    "df.query('name.isnull()')"
   ]
  },
  {
   "cell_type": "markdown",
   "metadata": {},
   "source": [
    "- Если платформа `gen` - это Sega Mega Drive/Genesis, то в 1993 году для не вышло несколько игр:\n",
    "    - 15 марта — \"Sunsoft\" выпустила \"Blaster Master 2\".\n",
    "    - 9 сентября — \"Treasure\" дебютировала с игрой \"Gunstar Heroes\".\n",
    "    - 23 сентября — \"Treasure\" выпустила игру \"McDonald's Treasure Land Adventure\".\n",
    "- В результате строки с пропущенными названиями игр удаляем, потому что определить, какое название игры пропущено сложно. Кроме этого, данные в этих строках имеют пропуски и по другим столбцам."
   ]
  },
  {
   "cell_type": "code",
   "execution_count": 12,
   "metadata": {
    "scrolled": true
   },
   "outputs": [
    {
     "data": {
      "text/plain": [
       "(16715, 11)"
      ]
     },
     "execution_count": 12,
     "metadata": {},
     "output_type": "execute_result"
    }
   ],
   "source": [
    "df.shape"
   ]
  },
  {
   "cell_type": "code",
   "execution_count": 13,
   "metadata": {},
   "outputs": [],
   "source": [
    "df = df.loc[df['name'].notnull()]"
   ]
  },
  {
   "cell_type": "code",
   "execution_count": 14,
   "metadata": {},
   "outputs": [
    {
     "data": {
      "text/plain": [
       "(16713, 11)"
      ]
     },
     "execution_count": 14,
     "metadata": {},
     "output_type": "execute_result"
    }
   ],
   "source": [
    "df.shape"
   ]
  },
  {
   "cell_type": "markdown",
   "metadata": {},
   "source": [
    "- Строки удалены."
   ]
  },
  {
   "cell_type": "markdown",
   "metadata": {},
   "source": [
    "#### Столбец `platform`"
   ]
  },
  {
   "cell_type": "code",
   "execution_count": 15,
   "metadata": {},
   "outputs": [
    {
     "data": {
      "text/plain": [
       "count     16713\n",
       "unique       31\n",
       "top         ps2\n",
       "freq       2161\n",
       "Name: platform, dtype: object"
      ]
     },
     "execution_count": 15,
     "metadata": {},
     "output_type": "execute_result"
    }
   ],
   "source": [
    "df['platform'].describe()"
   ]
  },
  {
   "cell_type": "markdown",
   "metadata": {},
   "source": [
    "Чаще других упоминается приставка PlayStation2, выпущенная компанией Sony.\n",
    "Посмотрим на то, какие еще игровые платформы представлены в исходной таблице."
   ]
  },
  {
   "cell_type": "code",
   "execution_count": 16,
   "metadata": {},
   "outputs": [
    {
     "data": {
      "text/plain": [
       "ps2     2161\n",
       "ds      2151\n",
       "ps3     1331\n",
       "wii     1320\n",
       "x360    1262\n",
       "psp     1209\n",
       "ps      1197\n",
       "pc       974\n",
       "xb       824\n",
       "gba      822\n",
       "gc       556\n",
       "3ds      520\n",
       "psv      430\n",
       "ps4      392\n",
       "n64      319\n",
       "xone     247\n",
       "snes     239\n",
       "sat      173\n",
       "wiiu     147\n",
       "2600     133\n",
       "gb        98\n",
       "nes       98\n",
       "dc        52\n",
       "gen       27\n",
       "ng        12\n",
       "ws         6\n",
       "scd        6\n",
       "3do        3\n",
       "tg16       2\n",
       "pcfx       1\n",
       "gg         1\n",
       "Name: platform, dtype: int64"
      ]
     },
     "execution_count": 16,
     "metadata": {},
     "output_type": "execute_result"
    }
   ],
   "source": [
    "df['platform'].value_counts()"
   ]
  },
  {
   "cell_type": "code",
   "execution_count": 17,
   "metadata": {},
   "outputs": [
    {
     "data": {
      "text/plain": [
       "0"
      ]
     },
     "execution_count": 17,
     "metadata": {},
     "output_type": "execute_result"
    }
   ],
   "source": [
    "df['platform'].isnull().sum()"
   ]
  },
  {
   "cell_type": "markdown",
   "metadata": {},
   "source": [
    "#### Столбец `year_of_release`"
   ]
  },
  {
   "cell_type": "code",
   "execution_count": 18,
   "metadata": {},
   "outputs": [
    {
     "data": {
      "text/plain": [
       "count    16444.000000\n",
       "mean      2006.486256\n",
       "std          5.875525\n",
       "min       1980.000000\n",
       "25%       2003.000000\n",
       "50%       2007.000000\n",
       "75%       2010.000000\n",
       "max       2016.000000\n",
       "Name: year_of_release, dtype: float64"
      ]
     },
     "execution_count": 18,
     "metadata": {},
     "output_type": "execute_result"
    }
   ],
   "source": [
    "df['year_of_release'].describe()"
   ]
  },
  {
   "cell_type": "code",
   "execution_count": 19,
   "metadata": {},
   "outputs": [
    {
     "data": {
      "image/png": "[encoded data removed]",
      "text/plain": [
       "<Figure size 432x288 with 1 Axes>"
      ]
     },
     "metadata": {
      "needs_background": "light"
     },
     "output_type": "display_data"
    },
    {
     "name": "stdout",
     "output_type": "stream",
     "text": [
      "Больше всего игр выпущено в 2008 году.\n"
     ]
    }
   ],
   "source": [
    "plt.hist(df['year_of_release'], bins = 100)\n",
    "plt.grid()\n",
    "plt.xlabel('Год выпуска игр')\n",
    "plt.ylabel('Количество выпущенных игр')\n",
    "plt.title('Гистрограмма выпуска игр в разные годы')\n",
    "plt.show()\n",
    "print('Больше всего игр выпущено в', int(df['year_of_release'].mode()[0]), 'году.')"
   ]
  },
  {
   "cell_type": "markdown",
   "metadata": {},
   "source": [
    " - Два года 2008 и 2009 лидеры по количеству выпущенных игр. Далее идет спад, который может быть связан с мировым экономическим кризисом 2008 года и/или концетрацией компаний на конкретных продуктах и их развитии."
   ]
  },
  {
   "cell_type": "code",
   "execution_count": 20,
   "metadata": {},
   "outputs": [
    {
     "data": {
      "text/plain": [
       "269"
      ]
     },
     "execution_count": 20,
     "metadata": {},
     "output_type": "execute_result"
    }
   ],
   "source": [
    "df['year_of_release'].isnull().sum()"
   ]
  },
  {
   "cell_type": "code",
   "execution_count": 21,
   "metadata": {},
   "outputs": [
    {
     "data": {
      "text/plain": [
       "array(['ps2', 'wii', '2600', 'x360', 'gba', 'pc', 'ps3', 'ps', 'psp',\n",
       "       'xb', 'gb', 'ds', 'gc', '3ds', 'n64', 'psv'], dtype=object)"
      ]
     },
     "execution_count": 21,
     "metadata": {},
     "output_type": "execute_result"
    }
   ],
   "source": [
    "df['platform'].loc[df['year_of_release'].isnull()].unique()"
   ]
  },
  {
   "cell_type": "code",
   "execution_count": 22,
   "metadata": {},
   "outputs": [
    {
     "data": {
      "text/plain": [
       "array(['madden nfl 2004', 'fifa soccer 2004',\n",
       "       'lego batman: the videogame', 'wwe smackdown vs. raw 2006',\n",
       "       'space invaders', 'rock band',\n",
       "       \"frogger's adventures: temple of the frog\",\n",
       "       'lego indiana jones: the original adventures', 'call of duty 3',\n",
       "       'call of duty: black ops', 'triple play 99', 'adventure', 'combat',\n",
       "       'lego harry potter: years 5-7', 'nascar thunder 2003',\n",
       "       'hitman 2: silent assassin', 'legacy of kain: soul reaver',\n",
       "       'donkey kong land iii', 'air-sea battle', 'suikoden iii',\n",
       "       'wheel of fortune', 'yakuza 4', 'namco museum', 'rhythm heaven',\n",
       "       'the lord of the rings: war in the north', 'madden nfl 07',\n",
       "       'mlb slugfest 20-03', 'shaun white snowboarding',\n",
       "       'pes 2009: pro evolution soccer', 'warioware: twisted!',\n",
       "       'madden nfl 11', 'test drive unlimited 2',\n",
       "       'the chronicles of narnia: the lion, the witch and the wardrobe',\n",
       "       'monster hunter 2', 'metal gear solid 2: substance',\n",
       "       'advance wars: days of ruin', 'the golden compass',\n",
       "       'madden nfl 06', 'nascar: dirt to daytona', 'madden nfl 2002',\n",
       "       'def jam: fight for ny', 'nba street vol. 2', 'fishing derby',\n",
       "       'wet', 'sonic the hedgehog', 'karate', 'tiger woods pga tour 07',\n",
       "       'circus atari',\n",
       "       'the chronicles of riddick: escape from butcher bay',\n",
       "       \"maze craze: a game of cops 'n robbers\", 'silent hill: homecoming',\n",
       "       'super breakout', \"robert ludlum's the bourne conspiracy\",\n",
       "       'nhl slapshot', 'tera', 'nfl gameday 2003',\n",
       "       'harvest moon: save the homeland', 'hangman', 'nba live 2003',\n",
       "       \"cubix robots for everyone: clash 'n' bash\",\n",
       "       'dragon ball z: budokai tenkaichi 2 (jp sales)', 'tropico 4',\n",
       "       'tomb raider (2013)', 'bejeweled 3', 'custom robo',\n",
       "       'final fantasy xi', 'singularity', 'dragster',\n",
       "       'all-star baseball 2005', 'star wars jedi knight ii: jedi outcast',\n",
       "       'slot machine', 'the dukes of hazzard ii: daisy dukes it out',\n",
       "       'harvest moon: the tale of two towns', 'shrek the third',\n",
       "       'nicktoons: battle for volcano island', 'haven: call of the king',\n",
       "       'unreal championship 2: the liandri conflict', 'pac-man fever',\n",
       "       'the legend of zelda: the minish cap(weekly jp sales)', 'indy 500',\n",
       "       'disgaea 3: absence of detention', 'flag capture', 'gun',\n",
       "       'rock revolution', 'college hoops 2k6',\n",
       "       'jonah lomu rugby challenge', 'mega man x collection',\n",
       "       'bioshock 2', 'danganronpa: trigger happy havoc', 'jet x20',\n",
       "       \"tony hawk's downhill jam\", 'tribes: aerial assault',\n",
       "       'big beach sports 2', 'yu yu hakusho: dark tournament',\n",
       "       'ghostbusters ii', 'breakaway iv', 'robotech: battlecry',\n",
       "       'move fitness', 'valkyria chronicles iii: unrecorded chronicles',\n",
       "       'dancedancerevolution ii', 'wrc: fia world rally championship',\n",
       "       'famista 64', 'dead space 3', 'pet zombies', 'star trek: legacy',\n",
       "       'backbreaker', 'twisted metal: small brawl', 'otomedius excellent',\n",
       "       'nba starting five', 'teen titans', 'trauma team',\n",
       "       \"james cameron's dark angel\", 'sword of the samurai',\n",
       "       'splatterhouse', 'alone in the dark: the new nightmare',\n",
       "       'vegas party', 'jurassic park: the game', 'home run',\n",
       "       'ejay clubworld', 'our house party!', 'wcw backstage assault',\n",
       "       \"disney's cinderella: magical dreams\", 'transworld surf',\n",
       "       'street fighter iv', 'nintendo puzzle collection',\n",
       "       'charm girls club: my fashion mall', 'record of agarest war zero',\n",
       "       'rocksmith',\n",
       "       'super robot wars og saga: masou kishin ii - revelation of evil god',\n",
       "       'saru! get you! million monkeys', 'street hoops',\n",
       "       'godzilla: destroy all monsters melee',\n",
       "       'the daring game for girls', 'major league baseball 2k6',\n",
       "       'star trek: conquest', 'giftpia', 'happy feet two',\n",
       "       \"disney's chicken little: ace in action\",\n",
       "       'atsumare! power pro kun no ds koushien',\n",
       "       'my healthy cooking coach', 'luminous arc 2 (jp sales)',\n",
       "       'egg monster hero', 'demon chaos', 'samurai shodown anthology',\n",
       "       'action man-operation extreme', 'super puzzle fighter ii',\n",
       "       'charm girls club: my fashion show', 'face racers: photo finish',\n",
       "       'zero: tsukihami no kamen', 'the hidden', 'get fit with mel b',\n",
       "       'mega man battle network: operation shooting star',\n",
       "       'smashing drive', 'port royale 3', 'dream trigger 3d',\n",
       "       'dead island: riptide', 'yoostar on mtv', 'tornado',\n",
       "       \"mcfarlane's evil prophecy\", 'drake of the 99 dragons',\n",
       "       'build-a-bear workshop: friendship valley', 'rayman arena',\n",
       "       'national geographic challenge!', 'alex rider: stormbreaker',\n",
       "       'chou soujuu mecha mg',\n",
       "       'prinny: can i really be the hero? (us sales)',\n",
       "       'combat elite: wwii paratroopers', \"flip's twisted world\",\n",
       "       'mobile ops: the one year war',\n",
       "       \"tom clancy's rainbow six: critical hour\",\n",
       "       'jewel link chronicles: mountains of madness',\n",
       "       'captain america: super soldier', 'mountain bike adrenaline',\n",
       "       'drill dozer', 'grid', 'tour de france 2011',\n",
       "       'reader rabbit 2nd grade', 'monster hunter frontier online',\n",
       "       'rollercoaster tycoon', 'battle vs. chess',\n",
       "       'the history channel: great battles - medieval',\n",
       "       'clockwork empires', 'b.l.u.e.: legend of water', 'nhl hitz pro',\n",
       "       \"luxor: pharaoh's challenge\", 'sega rally 2006',\n",
       "       'half-minute hero 2', 'housekeeping', 'major league baseball 2k8',\n",
       "       'sabre wulf', 'swords', 'beyond the labyrinth',\n",
       "       'bikkuriman daijiten', 'majesty 2: the fantasy kingdom sim',\n",
       "       'fullmetal alchemist: brotherhood',\n",
       "       'samurai spirits: tenkaichi kenkakuden', 'world of tanks',\n",
       "       'tom and jerry in war of the whiskers', 'super duper sumos',\n",
       "       'the king of fighters: maximum impact - maniax',\n",
       "       'combat wings: the great battles of wwii', 'tube slider',\n",
       "       'umineko no naku koro ni san: shinjitsu to gensou no yasoukyoku',\n",
       "       'payout poker & casino', 'wii de asobu: metroid prime',\n",
       "       'legacy of ys: books i & ii', 'saint', 'steal princess',\n",
       "       'mario tennis', 'runaway: a twist of fate',\n",
       "       \"yu-gi-oh! 5d's wheelie breakers (jp sales)\",\n",
       "       \"cabela's alaskan adventure\",\n",
       "       'writing and speaking beautiful japanese ds', 'virtua quest',\n",
       "       \"shonen jump's yu-gi-oh! gx card almanac\", 'without warning',\n",
       "       'pdc world championship darts 2008',\n",
       "       'dinotopia: the sunstone odyssey', 'jet impulse', 'dream dancer',\n",
       "       \"dance! it's your stage\", 'football manager 2007',\n",
       "       'ferrari: the race experience', 'aquaman: battle for atlantis',\n",
       "       'homeworld remastered collection', 'shorts',\n",
       "       'akb1/48: idol to guam de koishitara...',\n",
       "       'brothers in arms: furious 4', 'agarest senki: re-appearance',\n",
       "       'freaky flyers', 'inversion', 'hakuouki: shinsengumi kitan'],\n",
       "      dtype=object)"
      ]
     },
     "execution_count": 22,
     "metadata": {},
     "output_type": "execute_result"
    }
   ],
   "source": [
    "df['name'].loc[df['year_of_release'].isnull()].unique()"
   ]
  },
  {
   "cell_type": "markdown",
   "metadata": {},
   "source": [
    "- Заполнить вручную год выпуска для каждой из игр не представляется разумным, т.к. таких игр очень много, и они могли выпускаться в разное время на разные игровые платформы. Оставляем пропуски, как есть."
   ]
  },
  {
   "cell_type": "code",
   "execution_count": 23,
   "metadata": {},
   "outputs": [
    {
     "data": {
      "text/plain": [
       "(16713, 11)"
      ]
     },
     "execution_count": 23,
     "metadata": {},
     "output_type": "execute_result"
    }
   ],
   "source": [
    "df.shape"
   ]
  },
  {
   "cell_type": "code",
   "execution_count": 24,
   "metadata": {},
   "outputs": [],
   "source": [
    "df = df.query('year_of_release.notnull()')"
   ]
  },
  {
   "cell_type": "code",
   "execution_count": 25,
   "metadata": {},
   "outputs": [
    {
     "data": {
      "text/plain": [
       "(16444, 11)"
      ]
     },
     "execution_count": 25,
     "metadata": {},
     "output_type": "execute_result"
    }
   ],
   "source": [
    "df.shape"
   ]
  },
  {
   "cell_type": "markdown",
   "metadata": {},
   "source": [
    "#### Столбец `genre`"
   ]
  },
  {
   "cell_type": "code",
   "execution_count": 26,
   "metadata": {},
   "outputs": [
    {
     "data": {
      "text/plain": [
       "0"
      ]
     },
     "execution_count": 26,
     "metadata": {},
     "output_type": "execute_result"
    }
   ],
   "source": [
    "df['genre'].isnull().sum()"
   ]
  },
  {
   "cell_type": "code",
   "execution_count": 27,
   "metadata": {},
   "outputs": [
    {
     "data": {
      "text/plain": [
       "action          3307\n",
       "sports          2306\n",
       "misc            1721\n",
       "role-playing    1481\n",
       "shooter         1296\n",
       "adventure       1293\n",
       "racing          1226\n",
       "platform         878\n",
       "simulation       857\n",
       "fighting         837\n",
       "strategy         673\n",
       "puzzle           569\n",
       "Name: genre, dtype: int64"
      ]
     },
     "execution_count": 27,
     "metadata": {},
     "output_type": "execute_result"
    }
   ],
   "source": [
    "df['genre'].value_counts()"
   ]
  },
  {
   "cell_type": "markdown",
   "metadata": {},
   "source": [
    "- Данные чистые"
   ]
  },
  {
   "cell_type": "markdown",
   "metadata": {},
   "source": [
    "#### Столбцы `na_sales`, `eu_sales`, `jp_sales`, `other_sales`"
   ]
  },
  {
   "cell_type": "code",
   "execution_count": 28,
   "metadata": {},
   "outputs": [
    {
     "name": "stdout",
     "output_type": "stream",
     "text": [
      "В столбце na_sales отрицательных значений нет.\n",
      "В столбце eu_sales отрицательных значений нет.\n",
      "В столбце jp_sales отрицательных значений нет.\n",
      "В столбце other_sales отрицательных значений нет.\n"
     ]
    }
   ],
   "source": [
    "for column in ['na_sales', 'eu_sales', 'jp_sales', 'other_sales']:\n",
    "    if (df[column] < 0).sum():\n",
    "        print('В столбце', column, 'есть отрицательные значения.')\n",
    "    else:\n",
    "        print('В столбце', column, 'отрицательных значений нет.')\n",
    "        "
   ]
  },
  {
   "cell_type": "markdown",
   "metadata": {},
   "source": [
    "#### Столбец `critic_score`"
   ]
  },
  {
   "cell_type": "code",
   "execution_count": 29,
   "metadata": {},
   "outputs": [
    {
     "data": {
      "text/plain": [
       "array([76., 82., 80., 89., 58., 87., 91., 61., 97., 95., 77., 88., 83.,\n",
       "       94., 93., 85., 86., 98., 96., 90., 84., 73., 74., 78., 92., 71.,\n",
       "       72., 68., 62., 49., 67., 81., 66., 56., 79., 70., 59., 64., 75.,\n",
       "       60., 63., 69., 50., 25., 42., 44., 55., 48., 57., 29., 47., 65.,\n",
       "       54., 20., 53., 37., 38., 33., 52., 30., 32., 43., 45., 51., 40.,\n",
       "       46., 39., 34., 41., 36., 31., 27., 35., 26., 19., 28., 23., 24.,\n",
       "       21., 17., 13.])"
      ]
     },
     "execution_count": 29,
     "metadata": {},
     "output_type": "execute_result"
    }
   ],
   "source": [
    "df['critic_score'].loc[df['critic_score'].notnull()].unique()"
   ]
  },
  {
   "cell_type": "markdown",
   "metadata": {},
   "source": [
    "#### Столбец `user_score`"
   ]
  },
  {
   "cell_type": "code",
   "execution_count": 30,
   "metadata": {},
   "outputs": [
    {
     "data": {
      "text/plain": [
       "array(['8', '8.3', '8.5', '6.6', '8.4', '8.6', '7.7', '6.3', '7.4', '8.2',\n",
       "       '9', '7.9', '8.1', '8.7', '7.1', '3.4', '5.3', '4.8', '3.2', '8.9',\n",
       "       '6.4', '7.8', '7.5', '2.6', '7.2', '9.2', '7', '7.3', '4.3', '7.6',\n",
       "       '5.7', '5', '9.1', '6.5', 'tbd', '8.8', '6.9', '9.4', '6.8', '6.1',\n",
       "       '6.7', '5.4', '4', '4.9', '4.5', '9.3', '6.2', '4.2', '6', '3.7',\n",
       "       '4.1', '5.8', '5.6', '5.5', '4.4', '4.6', '5.9', '3.9', '3.1',\n",
       "       '2.9', '5.2', '3.3', '4.7', '5.1', '3.5', '2.5', '1.9', '3', '2.7',\n",
       "       '2.2', '2', '9.5', '2.1', '3.6', '2.8', '1.8', '3.8', '0', '1.6',\n",
       "       '9.6', '2.4', '1.7', '1.1', '0.3', '1.5', '0.7', '1.2', '2.3',\n",
       "       '0.5', '1.3', '0.2', '0.6', '1.4', '0.9', '1', '9.7'], dtype=object)"
      ]
     },
     "execution_count": 30,
     "metadata": {},
     "output_type": "execute_result"
    }
   ],
   "source": [
    "df['user_score'].loc[df['user_score'].notnull()].unique()"
   ]
  },
  {
   "cell_type": "markdown",
   "metadata": {},
   "source": [
    "- <b>tbd</b> - это рейтинг еще не присвоен (недостаточно данных)."
   ]
  },
  {
   "cell_type": "code",
   "execution_count": 31,
   "metadata": {
    "scrolled": true
   },
   "outputs": [
    {
     "data": {
      "text/html": [
       "<div>\n",
       "<style scoped>\n",
       "    .dataframe tbody tr th:only-of-type {\n",
       "        vertical-align: middle;\n",
       "    }\n",
       "\n",
       "    .dataframe tbody tr th {\n",
       "        vertical-align: top;\n",
       "    }\n",
       "\n",
       "    .dataframe thead th {\n",
       "        text-align: right;\n",
       "    }\n",
       "</style>\n",
       "<table border=\"1\" class=\"dataframe\">\n",
       "  <thead>\n",
       "    <tr style=\"text-align: right;\">\n",
       "      <th></th>\n",
       "      <th>name</th>\n",
       "      <th>platform</th>\n",
       "      <th>year_of_release</th>\n",
       "      <th>genre</th>\n",
       "      <th>na_sales</th>\n",
       "      <th>eu_sales</th>\n",
       "      <th>jp_sales</th>\n",
       "      <th>other_sales</th>\n",
       "      <th>critic_score</th>\n",
       "      <th>user_score</th>\n",
       "      <th>rating</th>\n",
       "    </tr>\n",
       "  </thead>\n",
       "  <tbody>\n",
       "    <tr>\n",
       "      <td>119</td>\n",
       "      <td>zumba fitness</td>\n",
       "      <td>wii</td>\n",
       "      <td>2010.0</td>\n",
       "      <td>sports</td>\n",
       "      <td>3.45</td>\n",
       "      <td>2.59</td>\n",
       "      <td>0.0</td>\n",
       "      <td>0.66</td>\n",
       "      <td>NaN</td>\n",
       "      <td>tbd</td>\n",
       "      <td>E</td>\n",
       "    </tr>\n",
       "    <tr>\n",
       "      <td>301</td>\n",
       "      <td>namco museum: 50th anniversary</td>\n",
       "      <td>ps2</td>\n",
       "      <td>2005.0</td>\n",
       "      <td>misc</td>\n",
       "      <td>2.08</td>\n",
       "      <td>1.35</td>\n",
       "      <td>0.0</td>\n",
       "      <td>0.54</td>\n",
       "      <td>61.0</td>\n",
       "      <td>tbd</td>\n",
       "      <td>E10+</td>\n",
       "    </tr>\n",
       "    <tr>\n",
       "      <td>520</td>\n",
       "      <td>zumba fitness 2</td>\n",
       "      <td>wii</td>\n",
       "      <td>2011.0</td>\n",
       "      <td>sports</td>\n",
       "      <td>1.51</td>\n",
       "      <td>1.03</td>\n",
       "      <td>0.0</td>\n",
       "      <td>0.27</td>\n",
       "      <td>NaN</td>\n",
       "      <td>tbd</td>\n",
       "      <td>T</td>\n",
       "    </tr>\n",
       "    <tr>\n",
       "      <td>645</td>\n",
       "      <td>udraw studio</td>\n",
       "      <td>wii</td>\n",
       "      <td>2010.0</td>\n",
       "      <td>misc</td>\n",
       "      <td>1.65</td>\n",
       "      <td>0.57</td>\n",
       "      <td>0.0</td>\n",
       "      <td>0.20</td>\n",
       "      <td>71.0</td>\n",
       "      <td>tbd</td>\n",
       "      <td>E</td>\n",
       "    </tr>\n",
       "    <tr>\n",
       "      <td>718</td>\n",
       "      <td>just dance kids</td>\n",
       "      <td>wii</td>\n",
       "      <td>2010.0</td>\n",
       "      <td>misc</td>\n",
       "      <td>1.52</td>\n",
       "      <td>0.54</td>\n",
       "      <td>0.0</td>\n",
       "      <td>0.18</td>\n",
       "      <td>NaN</td>\n",
       "      <td>tbd</td>\n",
       "      <td>E</td>\n",
       "    </tr>\n",
       "    <tr>\n",
       "      <td>...</td>\n",
       "      <td>...</td>\n",
       "      <td>...</td>\n",
       "      <td>...</td>\n",
       "      <td>...</td>\n",
       "      <td>...</td>\n",
       "      <td>...</td>\n",
       "      <td>...</td>\n",
       "      <td>...</td>\n",
       "      <td>...</td>\n",
       "      <td>...</td>\n",
       "      <td>...</td>\n",
       "    </tr>\n",
       "    <tr>\n",
       "      <td>16695</td>\n",
       "      <td>planet monsters</td>\n",
       "      <td>gba</td>\n",
       "      <td>2001.0</td>\n",
       "      <td>action</td>\n",
       "      <td>0.01</td>\n",
       "      <td>0.00</td>\n",
       "      <td>0.0</td>\n",
       "      <td>0.00</td>\n",
       "      <td>67.0</td>\n",
       "      <td>tbd</td>\n",
       "      <td>E</td>\n",
       "    </tr>\n",
       "    <tr>\n",
       "      <td>16697</td>\n",
       "      <td>bust-a-move 3000</td>\n",
       "      <td>gc</td>\n",
       "      <td>2003.0</td>\n",
       "      <td>puzzle</td>\n",
       "      <td>0.01</td>\n",
       "      <td>0.00</td>\n",
       "      <td>0.0</td>\n",
       "      <td>0.00</td>\n",
       "      <td>53.0</td>\n",
       "      <td>tbd</td>\n",
       "      <td>E</td>\n",
       "    </tr>\n",
       "    <tr>\n",
       "      <td>16698</td>\n",
       "      <td>mega brain boost</td>\n",
       "      <td>ds</td>\n",
       "      <td>2008.0</td>\n",
       "      <td>puzzle</td>\n",
       "      <td>0.01</td>\n",
       "      <td>0.00</td>\n",
       "      <td>0.0</td>\n",
       "      <td>0.00</td>\n",
       "      <td>48.0</td>\n",
       "      <td>tbd</td>\n",
       "      <td>E</td>\n",
       "    </tr>\n",
       "    <tr>\n",
       "      <td>16704</td>\n",
       "      <td>plushees</td>\n",
       "      <td>ds</td>\n",
       "      <td>2008.0</td>\n",
       "      <td>simulation</td>\n",
       "      <td>0.01</td>\n",
       "      <td>0.00</td>\n",
       "      <td>0.0</td>\n",
       "      <td>0.00</td>\n",
       "      <td>NaN</td>\n",
       "      <td>tbd</td>\n",
       "      <td>E</td>\n",
       "    </tr>\n",
       "    <tr>\n",
       "      <td>16706</td>\n",
       "      <td>men in black ii: alien escape</td>\n",
       "      <td>gc</td>\n",
       "      <td>2003.0</td>\n",
       "      <td>shooter</td>\n",
       "      <td>0.01</td>\n",
       "      <td>0.00</td>\n",
       "      <td>0.0</td>\n",
       "      <td>0.00</td>\n",
       "      <td>NaN</td>\n",
       "      <td>tbd</td>\n",
       "      <td>T</td>\n",
       "    </tr>\n",
       "  </tbody>\n",
       "</table>\n",
       "<p>2376 rows × 11 columns</p>\n",
       "</div>"
      ],
      "text/plain": [
       "                                 name platform  year_of_release       genre  \\\n",
       "119                     zumba fitness      wii           2010.0      sports   \n",
       "301    namco museum: 50th anniversary      ps2           2005.0        misc   \n",
       "520                   zumba fitness 2      wii           2011.0      sports   \n",
       "645                      udraw studio      wii           2010.0        misc   \n",
       "718                   just dance kids      wii           2010.0        misc   \n",
       "...                               ...      ...              ...         ...   \n",
       "16695                 planet monsters      gba           2001.0      action   \n",
       "16697                bust-a-move 3000       gc           2003.0      puzzle   \n",
       "16698                mega brain boost       ds           2008.0      puzzle   \n",
       "16704                        plushees       ds           2008.0  simulation   \n",
       "16706   men in black ii: alien escape       gc           2003.0     shooter   \n",
       "\n",
       "       na_sales  eu_sales  jp_sales  other_sales  critic_score user_score  \\\n",
       "119        3.45      2.59       0.0         0.66           NaN        tbd   \n",
       "301        2.08      1.35       0.0         0.54          61.0        tbd   \n",
       "520        1.51      1.03       0.0         0.27           NaN        tbd   \n",
       "645        1.65      0.57       0.0         0.20          71.0        tbd   \n",
       "718        1.52      0.54       0.0         0.18           NaN        tbd   \n",
       "...         ...       ...       ...          ...           ...        ...   \n",
       "16695      0.01      0.00       0.0         0.00          67.0        tbd   \n",
       "16697      0.01      0.00       0.0         0.00          53.0        tbd   \n",
       "16698      0.01      0.00       0.0         0.00          48.0        tbd   \n",
       "16704      0.01      0.00       0.0         0.00           NaN        tbd   \n",
       "16706      0.01      0.00       0.0         0.00           NaN        tbd   \n",
       "\n",
       "      rating  \n",
       "119        E  \n",
       "301     E10+  \n",
       "520        T  \n",
       "645        E  \n",
       "718        E  \n",
       "...      ...  \n",
       "16695      E  \n",
       "16697      E  \n",
       "16698      E  \n",
       "16704      E  \n",
       "16706      T  \n",
       "\n",
       "[2376 rows x 11 columns]"
      ]
     },
     "execution_count": 31,
     "metadata": {},
     "output_type": "execute_result"
    }
   ],
   "source": [
    "df.query('user_score == \"tbd\"')"
   ]
  },
  {
   "cell_type": "markdown",
   "metadata": {},
   "source": [
    "Данных с рейтингом <b>tbd</b> достаточно много. Поэтому заменяем рейтинг `tbd` на `NaN`, т.к. с `NaN` работает большинство математических операций."
   ]
  },
  {
   "cell_type": "code",
   "execution_count": 32,
   "metadata": {},
   "outputs": [],
   "source": [
    "df.loc[df['user_score'] == 'tbd', 'user_score'] = np.NaN"
   ]
  },
  {
   "cell_type": "code",
   "execution_count": 33,
   "metadata": {},
   "outputs": [
    {
     "data": {
      "text/plain": [
       "name               zumba fitness\n",
       "platform                     wii\n",
       "year_of_release             2010\n",
       "genre                     sports\n",
       "na_sales                    3.45\n",
       "eu_sales                    2.59\n",
       "jp_sales                       0\n",
       "other_sales                 0.66\n",
       "critic_score                 NaN\n",
       "user_score                   NaN\n",
       "rating                         E\n",
       "Name: 119, dtype: object"
      ]
     },
     "execution_count": 33,
     "metadata": {},
     "output_type": "execute_result"
    }
   ],
   "source": [
    "df.iloc[119]"
   ]
  },
  {
   "cell_type": "markdown",
   "metadata": {},
   "source": [
    "Замена на `Nan` прошла успешно."
   ]
  },
  {
   "cell_type": "markdown",
   "metadata": {},
   "source": [
    "#### Столбец `rating`\n"
   ]
  },
  {
   "cell_type": "code",
   "execution_count": 34,
   "metadata": {},
   "outputs": [
    {
     "data": {
      "text/plain": [
       "array(['E', nan, 'M', 'T', 'E10+', 'K-A', 'AO', 'EC', 'RP'], dtype=object)"
      ]
     },
     "execution_count": 34,
     "metadata": {},
     "output_type": "execute_result"
    }
   ],
   "source": [
    "df['rating'].unique()"
   ]
  },
  {
   "cell_type": "markdown",
   "metadata": {},
   "source": [
    "- `E` - Содержание вполне подходит для возрастной категории от 6 лет и старше; такие игры могут понравиться и взрослым. \n",
    "- `M` - «Для взрослых»: Материалы игры не подходят для подростков младше 17 лет.\n",
    "- `T` - «Подросткам»: Игра подходит для лиц от 13 лет и старше.\n",
    "- `E10+` - «Для всех от 10 лет и старше»: Проекты с данным рейтингом могут содержать немного больше мультипликационного или мягкого насилия, или несколько откровенные сцены или минимальное количество крови.\n",
    "- `K-A` - \"Kids to Adults\". Это тоже самое, что и `E («Everyone»)`. Поэтому переименуем в дальнейшем в таблице значения `K-A` в `E`.\n",
    "- `AO` - «Только для взрослых»: Содержание игры только для взрослых старше 18 лет.\n",
    "- `EC` - Для детей младшего возраста»: Игра подходит для детей от 3 лет и старше и не содержит материалов, которые родители могли бы счесть неподходящими. \n",
    "- `RP` - «Рейтинг ожидается»: Продукт был отправлен в ESRB и ожидает присвоения рейтинга. Данный логотип используется только на рекламных презентациях и в демо-версиях игр до официальной даты выпуска в продажу."
   ]
  },
  {
   "cell_type": "markdown",
   "metadata": {},
   "source": [
    "Заменяем рейтинг `K-A` на рейтинг `E`."
   ]
  },
  {
   "cell_type": "code",
   "execution_count": 35,
   "metadata": {},
   "outputs": [],
   "source": [
    "df.loc[df['rating'] == 'K-A', 'rating'] = 'E'"
   ]
  },
  {
   "cell_type": "code",
   "execution_count": 36,
   "metadata": {},
   "outputs": [
    {
     "data": {
      "text/plain": [
       "array(['E', nan, 'M', 'T', 'E10+', 'AO', 'EC', 'RP'], dtype=object)"
      ]
     },
     "execution_count": 36,
     "metadata": {},
     "output_type": "execute_result"
    }
   ],
   "source": [
    "df['rating'].unique()"
   ]
  },
  {
   "cell_type": "code",
   "execution_count": 37,
   "metadata": {},
   "outputs": [
    {
     "data": {
      "text/plain": [
       "E       3924\n",
       "T       2905\n",
       "M       1536\n",
       "E10+    1393\n",
       "EC         8\n",
       "AO         1\n",
       "RP         1\n",
       "Name: rating, dtype: int64"
      ]
     },
     "execution_count": 37,
     "metadata": {},
     "output_type": "execute_result"
    }
   ],
   "source": [
    "df['rating'].value_counts()"
   ]
  },
  {
   "cell_type": "code",
   "execution_count": 38,
   "metadata": {},
   "outputs": [
    {
     "data": {
      "text/plain": [
       "6676"
      ]
     },
     "execution_count": 38,
     "metadata": {},
     "output_type": "execute_result"
    }
   ],
   "source": [
    "df['rating'].isnull().sum()"
   ]
  },
  {
   "cell_type": "markdown",
   "metadata": {},
   "source": [
    "Остальное всё оставляем так, как есть. Хотя многие аспекты непонятны. Например, кто такие дети, какая разница между взрослым 18+ и подростком 17+ и т.д."
   ]
  },
  {
   "cell_type": "markdown",
   "metadata": {},
   "source": [
    "#### Посчитаем суммарные продажи во всех регионах и запишем их в отдельный столбец `total_sales` "
   ]
  },
  {
   "cell_type": "code",
   "execution_count": 39,
   "metadata": {},
   "outputs": [],
   "source": [
    "df['total_sales'] = df['na_sales'] + df['eu_sales'] + df['jp_sales'] + df['other_sales']"
   ]
  },
  {
   "cell_type": "markdown",
   "metadata": {},
   "source": [
    "#### Преобразуем типы данных. Замену делаем на тип `float`, т.к. в данных есть пропуски и тип `int` не сработает."
   ]
  },
  {
   "cell_type": "code",
   "execution_count": 40,
   "metadata": {},
   "outputs": [],
   "source": [
    "df['user_score'] = df['user_score'].astype(float)"
   ]
  },
  {
   "cell_type": "code",
   "execution_count": 41,
   "metadata": {},
   "outputs": [
    {
     "data": {
      "text/html": [
       "<div>\n",
       "<style scoped>\n",
       "    .dataframe tbody tr th:only-of-type {\n",
       "        vertical-align: middle;\n",
       "    }\n",
       "\n",
       "    .dataframe tbody tr th {\n",
       "        vertical-align: top;\n",
       "    }\n",
       "\n",
       "    .dataframe thead th {\n",
       "        text-align: right;\n",
       "    }\n",
       "</style>\n",
       "<table border=\"1\" class=\"dataframe\">\n",
       "  <thead>\n",
       "    <tr style=\"text-align: right;\">\n",
       "      <th></th>\n",
       "      <th>name</th>\n",
       "      <th>platform</th>\n",
       "      <th>year_of_release</th>\n",
       "      <th>genre</th>\n",
       "      <th>na_sales</th>\n",
       "      <th>eu_sales</th>\n",
       "      <th>jp_sales</th>\n",
       "      <th>other_sales</th>\n",
       "      <th>critic_score</th>\n",
       "      <th>user_score</th>\n",
       "      <th>rating</th>\n",
       "      <th>total_sales</th>\n",
       "    </tr>\n",
       "  </thead>\n",
       "  <tbody>\n",
       "    <tr>\n",
       "      <td>0</td>\n",
       "      <td>wii sports</td>\n",
       "      <td>wii</td>\n",
       "      <td>2006.0</td>\n",
       "      <td>sports</td>\n",
       "      <td>41.36</td>\n",
       "      <td>28.96</td>\n",
       "      <td>3.77</td>\n",
       "      <td>8.45</td>\n",
       "      <td>76.0</td>\n",
       "      <td>8.0</td>\n",
       "      <td>E</td>\n",
       "      <td>82.54</td>\n",
       "    </tr>\n",
       "    <tr>\n",
       "      <td>1</td>\n",
       "      <td>super mario bros.</td>\n",
       "      <td>nes</td>\n",
       "      <td>1985.0</td>\n",
       "      <td>platform</td>\n",
       "      <td>29.08</td>\n",
       "      <td>3.58</td>\n",
       "      <td>6.81</td>\n",
       "      <td>0.77</td>\n",
       "      <td>NaN</td>\n",
       "      <td>NaN</td>\n",
       "      <td>NaN</td>\n",
       "      <td>40.24</td>\n",
       "    </tr>\n",
       "  </tbody>\n",
       "</table>\n",
       "</div>"
      ],
      "text/plain": [
       "                name platform  year_of_release     genre  na_sales  eu_sales  \\\n",
       "0         wii sports      wii           2006.0    sports     41.36     28.96   \n",
       "1  super mario bros.      nes           1985.0  platform     29.08      3.58   \n",
       "\n",
       "   jp_sales  other_sales  critic_score  user_score rating  total_sales  \n",
       "0      3.77         8.45          76.0         8.0      E        82.54  \n",
       "1      6.81         0.77           NaN         NaN    NaN        40.24  "
      ]
     },
     "execution_count": 41,
     "metadata": {},
     "output_type": "execute_result"
    }
   ],
   "source": [
    "df.head(2)"
   ]
  },
  {
   "cell_type": "code",
   "execution_count": 42,
   "metadata": {},
   "outputs": [
    {
     "data": {
      "text/plain": [
       "0"
      ]
     },
     "execution_count": 42,
     "metadata": {},
     "output_type": "execute_result"
    }
   ],
   "source": [
    "df.duplicated().sum()"
   ]
  },
  {
   "cell_type": "markdown",
   "metadata": {},
   "source": [
    "После всех изменений полных дублей не нашлось."
   ]
  },
  {
   "cell_type": "code",
   "execution_count": 43,
   "metadata": {},
   "outputs": [
    {
     "name": "stdout",
     "output_type": "stream",
     "text": [
      "<class 'pandas.core.frame.DataFrame'>\n",
      "Int64Index: 16444 entries, 0 to 16714\n",
      "Data columns (total 12 columns):\n",
      "name               16444 non-null object\n",
      "platform           16444 non-null object\n",
      "year_of_release    16444 non-null float64\n",
      "genre              16444 non-null object\n",
      "na_sales           16444 non-null float64\n",
      "eu_sales           16444 non-null float64\n",
      "jp_sales           16444 non-null float64\n",
      "other_sales        16444 non-null float64\n",
      "critic_score       7983 non-null float64\n",
      "user_score         7463 non-null float64\n",
      "rating             9768 non-null object\n",
      "total_sales        16444 non-null float64\n",
      "dtypes: float64(8), object(4)\n",
      "memory usage: 1.6+ MB\n"
     ]
    }
   ],
   "source": [
    "df.info()"
   ]
  },
  {
   "cell_type": "code",
   "execution_count": 44,
   "metadata": {},
   "outputs": [],
   "source": [
    "for col in ['year_of_release', 'critic_score']:\n",
    "    df['year_of_release'] = df['year_of_release'].astype(pd.Int32Dtype())\n",
    "    df['critic_score'] = df['critic_score'].astype(pd.Int32Dtype())"
   ]
  },
  {
   "cell_type": "code",
   "execution_count": 45,
   "metadata": {},
   "outputs": [
    {
     "data": {
      "text/plain": [
       "name                object\n",
       "platform            object\n",
       "year_of_release      Int32\n",
       "genre               object\n",
       "na_sales           float64\n",
       "eu_sales           float64\n",
       "jp_sales           float64\n",
       "other_sales        float64\n",
       "critic_score         Int32\n",
       "user_score         float64\n",
       "rating              object\n",
       "total_sales        float64\n",
       "dtype: object"
      ]
     },
     "execution_count": 45,
     "metadata": {},
     "output_type": "execute_result"
    }
   ],
   "source": [
    "df.dtypes"
   ]
  },
  {
   "cell_type": "code",
   "execution_count": 46,
   "metadata": {},
   "outputs": [
    {
     "data": {
      "text/html": [
       "<div>\n",
       "<style scoped>\n",
       "    .dataframe tbody tr th:only-of-type {\n",
       "        vertical-align: middle;\n",
       "    }\n",
       "\n",
       "    .dataframe tbody tr th {\n",
       "        vertical-align: top;\n",
       "    }\n",
       "\n",
       "    .dataframe thead th {\n",
       "        text-align: right;\n",
       "    }\n",
       "</style>\n",
       "<table border=\"1\" class=\"dataframe\">\n",
       "  <thead>\n",
       "    <tr style=\"text-align: right;\">\n",
       "      <th></th>\n",
       "      <th>name</th>\n",
       "      <th>platform</th>\n",
       "      <th>year_of_release</th>\n",
       "      <th>genre</th>\n",
       "      <th>na_sales</th>\n",
       "      <th>eu_sales</th>\n",
       "      <th>jp_sales</th>\n",
       "      <th>other_sales</th>\n",
       "      <th>critic_score</th>\n",
       "      <th>user_score</th>\n",
       "      <th>rating</th>\n",
       "      <th>total_sales</th>\n",
       "    </tr>\n",
       "  </thead>\n",
       "  <tbody>\n",
       "    <tr>\n",
       "      <td>0</td>\n",
       "      <td>wii sports</td>\n",
       "      <td>wii</td>\n",
       "      <td>2006</td>\n",
       "      <td>sports</td>\n",
       "      <td>41.36</td>\n",
       "      <td>28.96</td>\n",
       "      <td>3.77</td>\n",
       "      <td>8.45</td>\n",
       "      <td>76</td>\n",
       "      <td>8.0</td>\n",
       "      <td>E</td>\n",
       "      <td>82.54</td>\n",
       "    </tr>\n",
       "    <tr>\n",
       "      <td>1</td>\n",
       "      <td>super mario bros.</td>\n",
       "      <td>nes</td>\n",
       "      <td>1985</td>\n",
       "      <td>platform</td>\n",
       "      <td>29.08</td>\n",
       "      <td>3.58</td>\n",
       "      <td>6.81</td>\n",
       "      <td>0.77</td>\n",
       "      <td>NaN</td>\n",
       "      <td>NaN</td>\n",
       "      <td>NaN</td>\n",
       "      <td>40.24</td>\n",
       "    </tr>\n",
       "  </tbody>\n",
       "</table>\n",
       "</div>"
      ],
      "text/plain": [
       "                name platform  year_of_release     genre  na_sales  eu_sales  \\\n",
       "0         wii sports      wii             2006    sports     41.36     28.96   \n",
       "1  super mario bros.      nes             1985  platform     29.08      3.58   \n",
       "\n",
       "   jp_sales  other_sales  critic_score  user_score rating  total_sales  \n",
       "0      3.77         8.45            76         8.0      E        82.54  \n",
       "1      6.81         0.77           NaN         NaN    NaN        40.24  "
      ]
     },
     "execution_count": 46,
     "metadata": {},
     "output_type": "execute_result"
    }
   ],
   "source": [
    "df.head(2)"
   ]
  },
  {
   "cell_type": "markdown",
   "metadata": {},
   "source": [
    "## Шаг 3. Исследовательский анализ данных"
   ]
  },
  {
   "cell_type": "markdown",
   "metadata": {},
   "source": [
    "Посмотрим, сколько игр выпускалось в разные годы."
   ]
  },
  {
   "cell_type": "code",
   "execution_count": 47,
   "metadata": {},
   "outputs": [
    {
     "data": {
      "image/png": "[encoded data removed]",
      "text/plain": [
       "<Figure size 432x288 with 1 Axes>"
      ]
     },
     "metadata": {
      "needs_background": "light"
     },
     "output_type": "display_data"
    }
   ],
   "source": [
    "plt.plot(df.groupby('year_of_release')['year_of_release'].count())\n",
    "plt.title('Количество выпущенных игр в разные годы')\n",
    "plt.xlabel('Год')\n",
    "plt.ylabel('Количество выпущенных игр, шт.')\n",
    "plt.grid()\n",
    "plt.show()"
   ]
  },
  {
   "cell_type": "markdown",
   "metadata": {},
   "source": [
    "Рост выпуска игр начался с начала 90-х годов. Пик выпуска игр, как ранее отмечали, приходится на 2008 - 2009 год, потом падение."
   ]
  },
  {
   "cell_type": "code",
   "execution_count": 48,
   "metadata": {},
   "outputs": [
    {
     "data": {
      "text/html": [
       "<style  type=\"text/css\" >\n",
       "    #T_8660430a_19e3_11eb_98c6_02420a390ed5row0_col0 {\n",
       "            background-color:  #00441b;\n",
       "            color:  #f1f1f1;\n",
       "        }    #T_8660430a_19e3_11eb_98c6_02420a390ed5row1_col0 {\n",
       "            background-color:  #2a924a;\n",
       "            color:  #000000;\n",
       "        }    #T_8660430a_19e3_11eb_98c6_02420a390ed5row2_col0 {\n",
       "            background-color:  #319a50;\n",
       "            color:  #000000;\n",
       "        }    #T_8660430a_19e3_11eb_98c6_02420a390ed5row3_col0 {\n",
       "            background-color:  #3ba458;\n",
       "            color:  #000000;\n",
       "        }    #T_8660430a_19e3_11eb_98c6_02420a390ed5row4_col0 {\n",
       "            background-color:  #5db96b;\n",
       "            color:  #000000;\n",
       "        }    #T_8660430a_19e3_11eb_98c6_02420a390ed5row5_col0 {\n",
       "            background-color:  #7ac77b;\n",
       "            color:  #000000;\n",
       "        }    #T_8660430a_19e3_11eb_98c6_02420a390ed5row6_col0 {\n",
       "            background-color:  #eff9ec;\n",
       "            color:  #000000;\n",
       "        }    #T_8660430a_19e3_11eb_98c6_02420a390ed5row7_col0 {\n",
       "            background-color:  #eff9ec;\n",
       "            color:  #000000;\n",
       "        }    #T_8660430a_19e3_11eb_98c6_02420a390ed5row8_col0 {\n",
       "            background-color:  #f2faf0;\n",
       "            color:  #000000;\n",
       "        }    #T_8660430a_19e3_11eb_98c6_02420a390ed5row9_col0 {\n",
       "            background-color:  #f7fcf5;\n",
       "            color:  #000000;\n",
       "        }</style><table id=\"T_8660430a_19e3_11eb_98c6_02420a390ed5\" ><thead>    <tr>        <th class=\"blank level0\" ></th>        <th class=\"col_heading level0 col0\" >total_sales</th>    </tr>    <tr>        <th class=\"index_name level0\" >platform</th>        <th class=\"blank\" ></th>    </tr></thead><tbody>\n",
       "                <tr>\n",
       "                        <th id=\"T_8660430a_19e3_11eb_98c6_02420a390ed5level0_row0\" class=\"row_heading level0 row0\" >ps2</th>\n",
       "                        <td id=\"T_8660430a_19e3_11eb_98c6_02420a390ed5row0_col0\" class=\"data row0 col0\" >1233.56</td>\n",
       "            </tr>\n",
       "            <tr>\n",
       "                        <th id=\"T_8660430a_19e3_11eb_98c6_02420a390ed5level0_row1\" class=\"row_heading level0 row1\" >x360</th>\n",
       "                        <td id=\"T_8660430a_19e3_11eb_98c6_02420a390ed5row1_col0\" class=\"data row1 col0\" >961.24</td>\n",
       "            </tr>\n",
       "            <tr>\n",
       "                        <th id=\"T_8660430a_19e3_11eb_98c6_02420a390ed5level0_row2\" class=\"row_heading level0 row2\" >ps3</th>\n",
       "                        <td id=\"T_8660430a_19e3_11eb_98c6_02420a390ed5row2_col0\" class=\"data row2 col0\" >931.34</td>\n",
       "            </tr>\n",
       "            <tr>\n",
       "                        <th id=\"T_8660430a_19e3_11eb_98c6_02420a390ed5level0_row3\" class=\"row_heading level0 row3\" >wii</th>\n",
       "                        <td id=\"T_8660430a_19e3_11eb_98c6_02420a390ed5row3_col0\" class=\"data row3 col0\" >891.18</td>\n",
       "            </tr>\n",
       "            <tr>\n",
       "                        <th id=\"T_8660430a_19e3_11eb_98c6_02420a390ed5level0_row4\" class=\"row_heading level0 row4\" >ds</th>\n",
       "                        <td id=\"T_8660430a_19e3_11eb_98c6_02420a390ed5row4_col0\" class=\"data row4 col0\" >802.78</td>\n",
       "            </tr>\n",
       "            <tr>\n",
       "                        <th id=\"T_8660430a_19e3_11eb_98c6_02420a390ed5level0_row5\" class=\"row_heading level0 row5\" >ps</th>\n",
       "                        <td id=\"T_8660430a_19e3_11eb_98c6_02420a390ed5row5_col0\" class=\"data row5 col0\" >727.58</td>\n",
       "            </tr>\n",
       "            <tr>\n",
       "                        <th id=\"T_8660430a_19e3_11eb_98c6_02420a390ed5level0_row6\" class=\"row_heading level0 row6\" >ps4</th>\n",
       "                        <td id=\"T_8660430a_19e3_11eb_98c6_02420a390ed5row6_col0\" class=\"data row6 col0\" >314.14</td>\n",
       "            </tr>\n",
       "            <tr>\n",
       "                        <th id=\"T_8660430a_19e3_11eb_98c6_02420a390ed5level0_row7\" class=\"row_heading level0 row7\" >gba</th>\n",
       "                        <td id=\"T_8660430a_19e3_11eb_98c6_02420a390ed5row7_col0\" class=\"data row7 col0\" >312.88</td>\n",
       "            </tr>\n",
       "            <tr>\n",
       "                        <th id=\"T_8660430a_19e3_11eb_98c6_02420a390ed5level0_row8\" class=\"row_heading level0 row8\" >psp</th>\n",
       "                        <td id=\"T_8660430a_19e3_11eb_98c6_02420a390ed5row8_col0\" class=\"data row8 col0\" >289.53</td>\n",
       "            </tr>\n",
       "            <tr>\n",
       "                        <th id=\"T_8660430a_19e3_11eb_98c6_02420a390ed5level0_row9\" class=\"row_heading level0 row9\" >3ds</th>\n",
       "                        <td id=\"T_8660430a_19e3_11eb_98c6_02420a390ed5row9_col0\" class=\"data row9 col0\" >257.81</td>\n",
       "            </tr>\n",
       "    </tbody></table>"
      ],
      "text/plain": [
       "<pandas.io.formats.style.Styler at 0x7f324a56a810>"
      ]
     },
     "execution_count": 48,
     "metadata": {},
     "output_type": "execute_result"
    }
   ],
   "source": [
    "(df\n",
    " .groupby('platform')['total_sales'].sum()\n",
    " .to_frame()\n",
    " .round(2)\n",
    " .sort_values('total_sales', ascending = False).head(10)\n",
    " .style\n",
    " .background_gradient(cmap=\"Greens\")\n",
    ")"
   ]
  },
  {
   "cell_type": "markdown",
   "metadata": {},
   "source": [
    "Больше всего продаж пришлось на платформы `ps2`, `x360`, `ps3`, `wii`, `ds` и `ps`. Далее идет уже заметный спад, что также показано бледно-зеленым цветом."
   ]
  },
  {
   "cell_type": "code",
   "execution_count": 49,
   "metadata": {},
   "outputs": [],
   "source": [
    "top6_platforms = ['ps2', 'x360', 'ps3', 'wii', 'ds', 'ps']"
   ]
  },
  {
   "cell_type": "code",
   "execution_count": 50,
   "metadata": {},
   "outputs": [
    {
     "data": {
      "image/png": "[encoded data removed]",
      "text/plain": [
       "<Figure size 648x432 with 1 Axes>"
      ]
     },
     "metadata": {
      "needs_background": "light"
     },
     "output_type": "display_data"
    }
   ],
   "source": [
    "for column in top6_platforms:\n",
    "    df_top6 = df.query('platform == @column').groupby('year_of_release')['total_sales'].sum()\n",
    "    df_top6.plot(grid = True, figsize = (9,6))\n",
    "    plt.legend(top6_platforms)\n",
    "    plt.title('Количество продаж на ТОП6 платформах в разные годы, млн. копий')\n",
    "    plt.xlabel('Год')\n",
    "    plt.ylabel('Суммарные продажи, млн. шт.')"
   ]
  },
  {
   "cell_type": "markdown",
   "metadata": {},
   "source": [
    "- Платформы живут около 10 лет. Пик продаж приходится где-то чуть ранее середины жизни платформы. Далее идет спад, возможно, из-за устаревания платформы и выхода новой."
   ]
  },
  {
   "cell_type": "code",
   "execution_count": 51,
   "metadata": {},
   "outputs": [
    {
     "data": {
      "text/plain": [
       "1985"
      ]
     },
     "execution_count": 51,
     "metadata": {},
     "output_type": "execute_result"
    }
   ],
   "source": [
    "df['year_of_release'].loc[df['platform'] == 'ds'].min()"
   ]
  },
  {
   "cell_type": "code",
   "execution_count": 52,
   "metadata": {},
   "outputs": [
    {
     "data": {
      "text/html": [
       "<div>\n",
       "<style scoped>\n",
       "    .dataframe tbody tr th:only-of-type {\n",
       "        vertical-align: middle;\n",
       "    }\n",
       "\n",
       "    .dataframe tbody tr th {\n",
       "        vertical-align: top;\n",
       "    }\n",
       "\n",
       "    .dataframe thead th {\n",
       "        text-align: right;\n",
       "    }\n",
       "</style>\n",
       "<table border=\"1\" class=\"dataframe\">\n",
       "  <thead>\n",
       "    <tr style=\"text-align: right;\">\n",
       "      <th></th>\n",
       "      <th>name</th>\n",
       "      <th>platform</th>\n",
       "      <th>year_of_release</th>\n",
       "      <th>genre</th>\n",
       "      <th>na_sales</th>\n",
       "      <th>eu_sales</th>\n",
       "      <th>jp_sales</th>\n",
       "      <th>other_sales</th>\n",
       "      <th>critic_score</th>\n",
       "      <th>user_score</th>\n",
       "      <th>rating</th>\n",
       "      <th>total_sales</th>\n",
       "    </tr>\n",
       "  </thead>\n",
       "  <tbody>\n",
       "    <tr>\n",
       "      <td>15957</td>\n",
       "      <td>strongest tokyo university shogi ds</td>\n",
       "      <td>ds</td>\n",
       "      <td>1985</td>\n",
       "      <td>action</td>\n",
       "      <td>0.0</td>\n",
       "      <td>0.0</td>\n",
       "      <td>0.02</td>\n",
       "      <td>0.0</td>\n",
       "      <td>NaN</td>\n",
       "      <td>NaN</td>\n",
       "      <td>NaN</td>\n",
       "      <td>0.02</td>\n",
       "    </tr>\n",
       "  </tbody>\n",
       "</table>\n",
       "</div>"
      ],
      "text/plain": [
       "                                      name platform  year_of_release   genre  \\\n",
       "15957  strongest tokyo university shogi ds       ds             1985  action   \n",
       "\n",
       "       na_sales  eu_sales  jp_sales  other_sales  critic_score  user_score  \\\n",
       "15957       0.0       0.0      0.02          0.0           NaN         NaN   \n",
       "\n",
       "      rating  total_sales  \n",
       "15957    NaN         0.02  "
      ]
     },
     "execution_count": 52,
     "metadata": {},
     "output_type": "execute_result"
    }
   ],
   "source": [
    "df.loc[(df['platform'] == 'ds')&(df['year_of_release'] < 2004)]"
   ]
  },
  {
   "cell_type": "markdown",
   "metadata": {},
   "source": [
    " - Игра была выпущена в 1985 году для игры на платформе DS. Сильнейший токийский университет Shogi DS в основном определяется как жанр Action.\n",
    " - Возможно это DS не та DS, что вышла в 2004 году."
   ]
  },
  {
   "cell_type": "markdown",
   "metadata": {},
   "source": [
    "Посмотрим какие платформы существовали в разные годы."
   ]
  },
  {
   "cell_type": "code",
   "execution_count": 53,
   "metadata": {},
   "outputs": [
    {
     "data": {
      "text/plain": [
       "year_of_release\n",
       "1980                                               [2600]\n",
       "1981                                               [2600]\n",
       "1982                                               [2600]\n",
       "1983                                          [nes, 2600]\n",
       "1984                                          [nes, 2600]\n",
       "1985                                  [nes, 2600, pc, ds]\n",
       "1986                                          [nes, 2600]\n",
       "1987                                          [nes, 2600]\n",
       "1988                                  [nes, gb, 2600, pc]\n",
       "1989                                      [gb, nes, 2600]\n",
       "1990                                 [snes, nes, gb, gen]\n",
       "1991                                 [snes, gen, gb, nes]\n",
       "1992                         [gb, snes, gen, pc, nes, gg]\n",
       "1993                            [snes, nes, scd, gen, ng]\n",
       "1994      [snes, gb, pc, gen, ps, sat, ng, scd, nes, 3do]\n",
       "1995               [snes, pc, ps, gb, sat, ng, tg16, 3do]\n",
       "1996               [gb, n64, ps, pc, snes, sat, ng, pcfx]\n",
       "1997                         [ps, n64, pc, gb, sat, snes]\n",
       "1998                     [gb, n64, ps, dc, pc, sat, snes]\n",
       "1999                 [gb, ps, n64, pc, dc, ws, snes, sat]\n",
       "2000              [gb, ps, ps2, n64, pc, dc, xb, ws, gba]\n",
       "2001          [ps2, gc, xb, gba, ps, pc, gb, n64, dc, ws]\n",
       "2002                  [ps2, gba, gc, pc, xb, ps, dc, n64]\n",
       "2003                           [ps2, gc, gba, xb, pc, ps]\n",
       "2004                      [ps2, gba, ds, xb, pc, gc, psp]\n",
       "2005                [ds, psp, ps2, gba, x360, xb, gc, pc]\n",
       "2006      [wii, ds, x360, ps2, psp, ps3, gc, gba, xb, pc]\n",
       "2007    [wii, x360, ds, ps3, ps2, pc, psp, gba, xb, gc...\n",
       "2008           [wii, x360, ps3, ds, psp, ps2, pc, xb, dc]\n",
       "2009                   [wii, x360, ds, ps3, pc, psp, ps2]\n",
       "2010                   [x360, ds, ps3, wii, psp, pc, ps2]\n",
       "2011         [x360, ps3, 3ds, wii, pc, ds, psv, psp, ps2]\n",
       "2012        [ps3, x360, 3ds, ds, wii, wiiu, pc, psv, psp]\n",
       "2013    [ps3, x360, 3ds, wiiu, ps4, wii, xone, pc, psv...\n",
       "2014    [ps4, 3ds, wiiu, xone, ps3, x360, pc, wii, psv...\n",
       "2015    [ps4, xone, wiiu, 3ds, ps3, x360, pc, wii, psv...\n",
       "2016      [ps4, 3ds, xone, wiiu, ps3, pc, x360, psv, wii]\n",
       "Name: platform, dtype: object"
      ]
     },
     "execution_count": 53,
     "metadata": {},
     "output_type": "execute_result"
    }
   ],
   "source": [
    "df.groupby('year_of_release')['platform'].unique()"
   ]
  },
  {
   "cell_type": "markdown",
   "metadata": {},
   "source": [
    "- Основываясь на том, что ТОП-6 платформ начинает свою жизнь с 1994 года, то актуальный период выбираем с 1994 года по 2016.\n",
    "- Создадим для этого периода новую базу данных `df_94`."
   ]
  },
  {
   "cell_type": "code",
   "execution_count": 54,
   "metadata": {},
   "outputs": [
    {
     "data": {
      "text/html": [
       "<div>\n",
       "<style scoped>\n",
       "    .dataframe tbody tr th:only-of-type {\n",
       "        vertical-align: middle;\n",
       "    }\n",
       "\n",
       "    .dataframe tbody tr th {\n",
       "        vertical-align: top;\n",
       "    }\n",
       "\n",
       "    .dataframe thead th {\n",
       "        text-align: right;\n",
       "    }\n",
       "</style>\n",
       "<table border=\"1\" class=\"dataframe\">\n",
       "  <thead>\n",
       "    <tr style=\"text-align: right;\">\n",
       "      <th></th>\n",
       "      <th>platform</th>\n",
       "      <th>min</th>\n",
       "      <th>max</th>\n",
       "    </tr>\n",
       "  </thead>\n",
       "  <tbody>\n",
       "    <tr>\n",
       "      <td>0</td>\n",
       "      <td>2600</td>\n",
       "      <td>1980</td>\n",
       "      <td>1989</td>\n",
       "    </tr>\n",
       "    <tr>\n",
       "      <td>1</td>\n",
       "      <td>3do</td>\n",
       "      <td>1994</td>\n",
       "      <td>1995</td>\n",
       "    </tr>\n",
       "  </tbody>\n",
       "</table>\n",
       "</div>"
      ],
      "text/plain": [
       "  platform   min   max\n",
       "0     2600  1980  1989\n",
       "1      3do  1994  1995"
      ]
     },
     "execution_count": 54,
     "metadata": {},
     "output_type": "execute_result"
    }
   ],
   "source": [
    "temp = df.groupby('platform')['year_of_release'].agg([min,max]).reset_index()\n",
    "temp.head(2)"
   ]
  },
  {
   "cell_type": "code",
   "execution_count": 55,
   "metadata": {},
   "outputs": [
    {
     "name": "stdout",
     "output_type": "stream",
     "text": [
      "Срок жизни платформы около =  6.0\n"
     ]
    }
   ],
   "source": [
    "temp['delta'] = temp['max'] - temp['min']\n",
    "print('Срок жизни платформы около = ', temp['delta'].median())"
   ]
  },
  {
   "cell_type": "code",
   "execution_count": 56,
   "metadata": {},
   "outputs": [
    {
     "data": {
      "text/html": [
       "<div>\n",
       "<style scoped>\n",
       "    .dataframe tbody tr th:only-of-type {\n",
       "        vertical-align: middle;\n",
       "    }\n",
       "\n",
       "    .dataframe tbody tr th {\n",
       "        vertical-align: top;\n",
       "    }\n",
       "\n",
       "    .dataframe thead th {\n",
       "        text-align: right;\n",
       "    }\n",
       "</style>\n",
       "<table border=\"1\" class=\"dataframe\">\n",
       "  <thead>\n",
       "    <tr style=\"text-align: right;\">\n",
       "      <th></th>\n",
       "      <th>name</th>\n",
       "      <th>platform</th>\n",
       "      <th>year_of_release</th>\n",
       "      <th>genre</th>\n",
       "      <th>na_sales</th>\n",
       "      <th>eu_sales</th>\n",
       "      <th>jp_sales</th>\n",
       "      <th>other_sales</th>\n",
       "      <th>critic_score</th>\n",
       "      <th>user_score</th>\n",
       "      <th>rating</th>\n",
       "      <th>total_sales</th>\n",
       "    </tr>\n",
       "  </thead>\n",
       "  <tbody>\n",
       "    <tr>\n",
       "      <td>16</td>\n",
       "      <td>grand theft auto v</td>\n",
       "      <td>ps3</td>\n",
       "      <td>2013</td>\n",
       "      <td>action</td>\n",
       "      <td>7.02</td>\n",
       "      <td>9.09</td>\n",
       "      <td>0.98</td>\n",
       "      <td>3.96</td>\n",
       "      <td>97</td>\n",
       "      <td>8.2</td>\n",
       "      <td>M</td>\n",
       "      <td>21.05</td>\n",
       "    </tr>\n",
       "    <tr>\n",
       "      <td>23</td>\n",
       "      <td>grand theft auto v</td>\n",
       "      <td>x360</td>\n",
       "      <td>2013</td>\n",
       "      <td>action</td>\n",
       "      <td>9.66</td>\n",
       "      <td>5.14</td>\n",
       "      <td>0.06</td>\n",
       "      <td>1.41</td>\n",
       "      <td>97</td>\n",
       "      <td>8.1</td>\n",
       "      <td>M</td>\n",
       "      <td>16.27</td>\n",
       "    </tr>\n",
       "    <tr>\n",
       "      <td>31</td>\n",
       "      <td>call of duty: black ops 3</td>\n",
       "      <td>ps4</td>\n",
       "      <td>2015</td>\n",
       "      <td>shooter</td>\n",
       "      <td>6.03</td>\n",
       "      <td>5.86</td>\n",
       "      <td>0.36</td>\n",
       "      <td>2.38</td>\n",
       "      <td>NaN</td>\n",
       "      <td>NaN</td>\n",
       "      <td>NaN</td>\n",
       "      <td>14.63</td>\n",
       "    </tr>\n",
       "    <tr>\n",
       "      <td>33</td>\n",
       "      <td>pokemon x/pokemon y</td>\n",
       "      <td>3ds</td>\n",
       "      <td>2013</td>\n",
       "      <td>role-playing</td>\n",
       "      <td>5.28</td>\n",
       "      <td>4.19</td>\n",
       "      <td>4.35</td>\n",
       "      <td>0.78</td>\n",
       "      <td>NaN</td>\n",
       "      <td>NaN</td>\n",
       "      <td>NaN</td>\n",
       "      <td>14.60</td>\n",
       "    </tr>\n",
       "    <tr>\n",
       "      <td>42</td>\n",
       "      <td>grand theft auto v</td>\n",
       "      <td>ps4</td>\n",
       "      <td>2014</td>\n",
       "      <td>action</td>\n",
       "      <td>3.96</td>\n",
       "      <td>6.31</td>\n",
       "      <td>0.38</td>\n",
       "      <td>1.97</td>\n",
       "      <td>97</td>\n",
       "      <td>8.3</td>\n",
       "      <td>M</td>\n",
       "      <td>12.62</td>\n",
       "    </tr>\n",
       "    <tr>\n",
       "      <td>...</td>\n",
       "      <td>...</td>\n",
       "      <td>...</td>\n",
       "      <td>...</td>\n",
       "      <td>...</td>\n",
       "      <td>...</td>\n",
       "      <td>...</td>\n",
       "      <td>...</td>\n",
       "      <td>...</td>\n",
       "      <td>...</td>\n",
       "      <td>...</td>\n",
       "      <td>...</td>\n",
       "      <td>...</td>\n",
       "    </tr>\n",
       "    <tr>\n",
       "      <td>16703</td>\n",
       "      <td>strawberry nauts</td>\n",
       "      <td>psv</td>\n",
       "      <td>2016</td>\n",
       "      <td>adventure</td>\n",
       "      <td>0.00</td>\n",
       "      <td>0.00</td>\n",
       "      <td>0.01</td>\n",
       "      <td>0.00</td>\n",
       "      <td>NaN</td>\n",
       "      <td>NaN</td>\n",
       "      <td>NaN</td>\n",
       "      <td>0.01</td>\n",
       "    </tr>\n",
       "    <tr>\n",
       "      <td>16707</td>\n",
       "      <td>aiyoku no eustia</td>\n",
       "      <td>psv</td>\n",
       "      <td>2014</td>\n",
       "      <td>misc</td>\n",
       "      <td>0.00</td>\n",
       "      <td>0.00</td>\n",
       "      <td>0.01</td>\n",
       "      <td>0.00</td>\n",
       "      <td>NaN</td>\n",
       "      <td>NaN</td>\n",
       "      <td>NaN</td>\n",
       "      <td>0.01</td>\n",
       "    </tr>\n",
       "    <tr>\n",
       "      <td>16710</td>\n",
       "      <td>samurai warriors: sanada maru</td>\n",
       "      <td>ps3</td>\n",
       "      <td>2016</td>\n",
       "      <td>action</td>\n",
       "      <td>0.00</td>\n",
       "      <td>0.00</td>\n",
       "      <td>0.01</td>\n",
       "      <td>0.00</td>\n",
       "      <td>NaN</td>\n",
       "      <td>NaN</td>\n",
       "      <td>NaN</td>\n",
       "      <td>0.01</td>\n",
       "    </tr>\n",
       "    <tr>\n",
       "      <td>16712</td>\n",
       "      <td>haitaka no psychedelica</td>\n",
       "      <td>psv</td>\n",
       "      <td>2016</td>\n",
       "      <td>adventure</td>\n",
       "      <td>0.00</td>\n",
       "      <td>0.00</td>\n",
       "      <td>0.01</td>\n",
       "      <td>0.00</td>\n",
       "      <td>NaN</td>\n",
       "      <td>NaN</td>\n",
       "      <td>NaN</td>\n",
       "      <td>0.01</td>\n",
       "    </tr>\n",
       "    <tr>\n",
       "      <td>16714</td>\n",
       "      <td>winning post 8 2016</td>\n",
       "      <td>psv</td>\n",
       "      <td>2016</td>\n",
       "      <td>simulation</td>\n",
       "      <td>0.00</td>\n",
       "      <td>0.00</td>\n",
       "      <td>0.01</td>\n",
       "      <td>0.00</td>\n",
       "      <td>NaN</td>\n",
       "      <td>NaN</td>\n",
       "      <td>NaN</td>\n",
       "      <td>0.01</td>\n",
       "    </tr>\n",
       "  </tbody>\n",
       "</table>\n",
       "<p>2233 rows × 12 columns</p>\n",
       "</div>"
      ],
      "text/plain": [
       "                                name platform  year_of_release         genre  \\\n",
       "16                grand theft auto v      ps3             2013        action   \n",
       "23                grand theft auto v     x360             2013        action   \n",
       "31         call of duty: black ops 3      ps4             2015       shooter   \n",
       "33               pokemon x/pokemon y      3ds             2013  role-playing   \n",
       "42                grand theft auto v      ps4             2014        action   \n",
       "...                              ...      ...              ...           ...   \n",
       "16703               strawberry nauts      psv             2016     adventure   \n",
       "16707               aiyoku no eustia      psv             2014          misc   \n",
       "16710  samurai warriors: sanada maru      ps3             2016        action   \n",
       "16712        haitaka no psychedelica      psv             2016     adventure   \n",
       "16714            winning post 8 2016      psv             2016    simulation   \n",
       "\n",
       "       na_sales  eu_sales  jp_sales  other_sales  critic_score  user_score  \\\n",
       "16         7.02      9.09      0.98         3.96            97         8.2   \n",
       "23         9.66      5.14      0.06         1.41            97         8.1   \n",
       "31         6.03      5.86      0.36         2.38           NaN         NaN   \n",
       "33         5.28      4.19      4.35         0.78           NaN         NaN   \n",
       "42         3.96      6.31      0.38         1.97            97         8.3   \n",
       "...         ...       ...       ...          ...           ...         ...   \n",
       "16703      0.00      0.00      0.01         0.00           NaN         NaN   \n",
       "16707      0.00      0.00      0.01         0.00           NaN         NaN   \n",
       "16710      0.00      0.00      0.01         0.00           NaN         NaN   \n",
       "16712      0.00      0.00      0.01         0.00           NaN         NaN   \n",
       "16714      0.00      0.00      0.01         0.00           NaN         NaN   \n",
       "\n",
       "      rating  total_sales  \n",
       "16         M        21.05  \n",
       "23         M        16.27  \n",
       "31       NaN        14.63  \n",
       "33       NaN        14.60  \n",
       "42         M        12.62  \n",
       "...      ...          ...  \n",
       "16703    NaN         0.01  \n",
       "16707    NaN         0.01  \n",
       "16710    NaN         0.01  \n",
       "16712    NaN         0.01  \n",
       "16714    NaN         0.01  \n",
       "\n",
       "[2233 rows x 12 columns]"
      ]
     },
     "execution_count": 56,
     "metadata": {},
     "output_type": "execute_result"
    }
   ],
   "source": [
    "df_13 = df.loc[df['year_of_release'] >= 2013]\n",
    "df_13"
   ]
  },
  {
   "cell_type": "code",
   "execution_count": 57,
   "metadata": {},
   "outputs": [
    {
     "data": {
      "text/html": [
       "<div>\n",
       "<style scoped>\n",
       "    .dataframe tbody tr th:only-of-type {\n",
       "        vertical-align: middle;\n",
       "    }\n",
       "\n",
       "    .dataframe tbody tr th {\n",
       "        vertical-align: top;\n",
       "    }\n",
       "\n",
       "    .dataframe thead th {\n",
       "        text-align: right;\n",
       "    }\n",
       "</style>\n",
       "<table border=\"1\" class=\"dataframe\">\n",
       "  <thead>\n",
       "    <tr style=\"text-align: right;\">\n",
       "      <th></th>\n",
       "      <th>name</th>\n",
       "      <th>platform</th>\n",
       "      <th>year_of_release</th>\n",
       "      <th>genre</th>\n",
       "      <th>na_sales</th>\n",
       "      <th>eu_sales</th>\n",
       "      <th>jp_sales</th>\n",
       "      <th>other_sales</th>\n",
       "      <th>critic_score</th>\n",
       "      <th>user_score</th>\n",
       "      <th>rating</th>\n",
       "      <th>total_sales</th>\n",
       "    </tr>\n",
       "  </thead>\n",
       "  <tbody>\n",
       "    <tr>\n",
       "      <td>16</td>\n",
       "      <td>grand theft auto v</td>\n",
       "      <td>ps3</td>\n",
       "      <td>2013</td>\n",
       "      <td>action</td>\n",
       "      <td>7.02</td>\n",
       "      <td>9.09</td>\n",
       "      <td>0.98</td>\n",
       "      <td>3.96</td>\n",
       "      <td>97</td>\n",
       "      <td>8.2</td>\n",
       "      <td>M</td>\n",
       "      <td>21.05</td>\n",
       "    </tr>\n",
       "    <tr>\n",
       "      <td>23</td>\n",
       "      <td>grand theft auto v</td>\n",
       "      <td>x360</td>\n",
       "      <td>2013</td>\n",
       "      <td>action</td>\n",
       "      <td>9.66</td>\n",
       "      <td>5.14</td>\n",
       "      <td>0.06</td>\n",
       "      <td>1.41</td>\n",
       "      <td>97</td>\n",
       "      <td>8.1</td>\n",
       "      <td>M</td>\n",
       "      <td>16.27</td>\n",
       "    </tr>\n",
       "  </tbody>\n",
       "</table>\n",
       "</div>"
      ],
      "text/plain": [
       "                  name platform  year_of_release   genre  na_sales  eu_sales  \\\n",
       "16  grand theft auto v      ps3             2013  action      7.02      9.09   \n",
       "23  grand theft auto v     x360             2013  action      9.66      5.14   \n",
       "\n",
       "    jp_sales  other_sales  critic_score  user_score rating  total_sales  \n",
       "16      0.98         3.96            97         8.2      M        21.05  \n",
       "23      0.06         1.41            97         8.1      M        16.27  "
      ]
     },
     "execution_count": 57,
     "metadata": {},
     "output_type": "execute_result"
    }
   ],
   "source": [
    "df_13.head(2)"
   ]
  },
  {
   "cell_type": "markdown",
   "metadata": {},
   "source": [
    "Определим, какие платформы лидируют по продажам на 2016 год, а также узнаем растут или падают продажи."
   ]
  },
  {
   "cell_type": "code",
   "execution_count": 58,
   "metadata": {},
   "outputs": [
    {
     "data": {
      "image/png": "[encoded data removed]",
      "text/plain": [
       "<Figure size 1152x864 with 1 Axes>"
      ]
     },
     "metadata": {
      "needs_background": "light"
     },
     "output_type": "display_data"
    }
   ],
   "source": [
    "for column in df_13['platform'].unique():\n",
    "    df_top6 = df_13.query('platform == @column').groupby('year_of_release')['total_sales'].sum()\n",
    "    df_top6.plot(grid = True, figsize = (16,12), style='o--')\n",
    "    plt.legend(df_13['platform'].unique())\n",
    "    plt.title('Количество продаж на платформах в разные годы, млн. копий')\n",
    "    plt.xlabel('Год')\n",
    "    plt.ylabel('Суммарные продажи, млн. шт.')"
   ]
  },
  {
   "cell_type": "markdown",
   "metadata": {},
   "source": [
    "- С 2014 года вперед по продажам вырываются платформы `ps4`, `xone` и `3ds`. Однако и у них падают продажи."
   ]
  },
  {
   "cell_type": "markdown",
   "metadata": {},
   "source": [
    "_Примечание:_\n",
    "- `ps4` - продажи игровой платформы стартовали 15 ноября 2013 года.\n",
    "- `xone` - продажи игровой платформы стартовали 22 ноября 2013 года.\n",
    "- `3ds` - продажи игровой платформы стартовали 26 февраля 2011 года."
   ]
  },
  {
   "cell_type": "code",
   "execution_count": 59,
   "metadata": {},
   "outputs": [
    {
     "data": {
      "text/html": [
       "<div>\n",
       "<style scoped>\n",
       "    .dataframe tbody tr th:only-of-type {\n",
       "        vertical-align: middle;\n",
       "    }\n",
       "\n",
       "    .dataframe tbody tr th {\n",
       "        vertical-align: top;\n",
       "    }\n",
       "\n",
       "    .dataframe thead th {\n",
       "        text-align: right;\n",
       "    }\n",
       "</style>\n",
       "<table border=\"1\" class=\"dataframe\">\n",
       "  <thead>\n",
       "    <tr style=\"text-align: right;\">\n",
       "      <th></th>\n",
       "      <th>name</th>\n",
       "      <th>platform</th>\n",
       "      <th>year_of_release</th>\n",
       "      <th>genre</th>\n",
       "      <th>na_sales</th>\n",
       "      <th>eu_sales</th>\n",
       "      <th>jp_sales</th>\n",
       "      <th>other_sales</th>\n",
       "      <th>critic_score</th>\n",
       "      <th>user_score</th>\n",
       "      <th>rating</th>\n",
       "      <th>total_sales</th>\n",
       "    </tr>\n",
       "  </thead>\n",
       "  <tbody>\n",
       "    <tr>\n",
       "      <td>16</td>\n",
       "      <td>grand theft auto v</td>\n",
       "      <td>ps3</td>\n",
       "      <td>2013</td>\n",
       "      <td>action</td>\n",
       "      <td>7.02</td>\n",
       "      <td>9.09</td>\n",
       "      <td>0.98</td>\n",
       "      <td>3.96</td>\n",
       "      <td>97</td>\n",
       "      <td>8.2</td>\n",
       "      <td>M</td>\n",
       "      <td>21.05</td>\n",
       "    </tr>\n",
       "    <tr>\n",
       "      <td>23</td>\n",
       "      <td>grand theft auto v</td>\n",
       "      <td>x360</td>\n",
       "      <td>2013</td>\n",
       "      <td>action</td>\n",
       "      <td>9.66</td>\n",
       "      <td>5.14</td>\n",
       "      <td>0.06</td>\n",
       "      <td>1.41</td>\n",
       "      <td>97</td>\n",
       "      <td>8.1</td>\n",
       "      <td>M</td>\n",
       "      <td>16.27</td>\n",
       "    </tr>\n",
       "  </tbody>\n",
       "</table>\n",
       "</div>"
      ],
      "text/plain": [
       "                  name platform  year_of_release   genre  na_sales  eu_sales  \\\n",
       "16  grand theft auto v      ps3             2013  action      7.02      9.09   \n",
       "23  grand theft auto v     x360             2013  action      9.66      5.14   \n",
       "\n",
       "    jp_sales  other_sales  critic_score  user_score rating  total_sales  \n",
       "16      0.98         3.96            97         8.2      M        21.05  \n",
       "23      0.06         1.41            97         8.1      M        16.27  "
      ]
     },
     "execution_count": 59,
     "metadata": {},
     "output_type": "execute_result"
    }
   ],
   "source": [
    "df_13.head(2)"
   ]
  },
  {
   "cell_type": "markdown",
   "metadata": {},
   "source": [
    "Проанализируем данные по ТОП-6 платформам с 1994 года."
   ]
  },
  {
   "cell_type": "code",
   "execution_count": 60,
   "metadata": {},
   "outputs": [],
   "source": [
    "top3_platforms = ['ps4', 'xone', '3ds']"
   ]
  },
  {
   "cell_type": "code",
   "execution_count": 61,
   "metadata": {},
   "outputs": [],
   "source": [
    "df_13_top3 = df_13.query(\"platform.isin(@top3_platforms)\")"
   ]
  },
  {
   "cell_type": "code",
   "execution_count": 62,
   "metadata": {},
   "outputs": [
    {
     "data": {
      "image/png": "[encoded data removed]",
      "text/plain": [
       "<Figure size 432x288 with 1 Axes>"
      ]
     },
     "metadata": {
      "needs_background": "light"
     },
     "output_type": "display_data"
    }
   ],
   "source": [
    "sns.boxplot(data = df_13_top3, x = 'platform', y = 'total_sales')\n",
    "plt.ylim(0,1)\n",
    "plt.title('Продажи по каждой из ТОП-3 игровых платформ')\n",
    "plt.ylabel('млн. копий')\n",
    "plt.xlabel('Название игровой платформы')\n",
    "plt.grid(True)\n",
    "plt.show()"
   ]
  },
  {
   "cell_type": "markdown",
   "metadata": {},
   "source": [
    "- Медиана продаж находится около 200 тыс. копий для  игровых платформ `ps4` и `xone`, для платформы `ds`- Nintendo DS, здесь медиана около 80 тыс. копий. `ps4` и `xone` явные конкуренты.\n",
    "- Лидируют по продажам полноценные игровые платформы. Предположу, что \"карманные приставки\" вымирают, т.к. смартфоны пришли на замену."
   ]
  },
  {
   "cell_type": "markdown",
   "metadata": {},
   "source": [
    "Посмотрим, как влияют на продажи внутри одной популярной платформы отзывы пользователей и критиков. Построим диаграмму рассеяния и посчитаем корреляцию между отзывами и продажами."
   ]
  },
  {
   "cell_type": "markdown",
   "metadata": {},
   "source": [
    "#### Рассмотрим платформу `ps2`, как самую крупную по продажам."
   ]
  },
  {
   "cell_type": "code",
   "execution_count": 63,
   "metadata": {},
   "outputs": [
    {
     "data": {
      "text/html": [
       "<div>\n",
       "<style scoped>\n",
       "    .dataframe tbody tr th:only-of-type {\n",
       "        vertical-align: middle;\n",
       "    }\n",
       "\n",
       "    .dataframe tbody tr th {\n",
       "        vertical-align: top;\n",
       "    }\n",
       "\n",
       "    .dataframe thead th {\n",
       "        text-align: right;\n",
       "    }\n",
       "</style>\n",
       "<table border=\"1\" class=\"dataframe\">\n",
       "  <thead>\n",
       "    <tr style=\"text-align: right;\">\n",
       "      <th></th>\n",
       "      <th>name</th>\n",
       "      <th>platform</th>\n",
       "      <th>year_of_release</th>\n",
       "      <th>genre</th>\n",
       "      <th>na_sales</th>\n",
       "      <th>eu_sales</th>\n",
       "      <th>jp_sales</th>\n",
       "      <th>other_sales</th>\n",
       "      <th>critic_score</th>\n",
       "      <th>user_score</th>\n",
       "      <th>rating</th>\n",
       "      <th>total_sales</th>\n",
       "    </tr>\n",
       "  </thead>\n",
       "  <tbody>\n",
       "    <tr>\n",
       "      <td>31</td>\n",
       "      <td>call of duty: black ops 3</td>\n",
       "      <td>ps4</td>\n",
       "      <td>2015</td>\n",
       "      <td>shooter</td>\n",
       "      <td>6.03</td>\n",
       "      <td>5.86</td>\n",
       "      <td>0.36</td>\n",
       "      <td>2.38</td>\n",
       "      <td>NaN</td>\n",
       "      <td>NaN</td>\n",
       "      <td>NaN</td>\n",
       "      <td>14.63</td>\n",
       "    </tr>\n",
       "    <tr>\n",
       "      <td>42</td>\n",
       "      <td>grand theft auto v</td>\n",
       "      <td>ps4</td>\n",
       "      <td>2014</td>\n",
       "      <td>action</td>\n",
       "      <td>3.96</td>\n",
       "      <td>6.31</td>\n",
       "      <td>0.38</td>\n",
       "      <td>1.97</td>\n",
       "      <td>97</td>\n",
       "      <td>8.3</td>\n",
       "      <td>M</td>\n",
       "      <td>12.62</td>\n",
       "    </tr>\n",
       "  </tbody>\n",
       "</table>\n",
       "</div>"
      ],
      "text/plain": [
       "                         name platform  year_of_release    genre  na_sales  \\\n",
       "31  call of duty: black ops 3      ps4             2015  shooter      6.03   \n",
       "42         grand theft auto v      ps4             2014   action      3.96   \n",
       "\n",
       "    eu_sales  jp_sales  other_sales  critic_score  user_score rating  \\\n",
       "31      5.86      0.36         2.38           NaN         NaN    NaN   \n",
       "42      6.31      0.38         1.97            97         8.3      M   \n",
       "\n",
       "    total_sales  \n",
       "31        14.63  \n",
       "42        12.62  "
      ]
     },
     "execution_count": 63,
     "metadata": {},
     "output_type": "execute_result"
    }
   ],
   "source": [
    "df_13.query('platform == \"ps4\"').head(2)"
   ]
  },
  {
   "cell_type": "code",
   "execution_count": 64,
   "metadata": {},
   "outputs": [
    {
     "data": {
      "image/png": "[encoded data removed]",
      "text/plain": [
       "<Figure size 648x432 with 1 Axes>"
      ]
     },
     "metadata": {
      "needs_background": "light"
     },
     "output_type": "display_data"
    }
   ],
   "source": [
    "df_13.query('platform == \"ps4\"').plot.scatter(x='critic_score', y='total_sales', figsize = (9,6), grid = True)\n",
    "plt.title('Диаграмма рассеяния для ps2')\n",
    "plt.xlabel('Оценка критиков')\n",
    "plt.ylabel('Суммарные продажи, млн.')\n",
    "plt.show()"
   ]
  },
  {
   "cell_type": "code",
   "execution_count": 65,
   "metadata": {},
   "outputs": [
    {
     "data": {
      "text/html": [
       "<div>\n",
       "<style scoped>\n",
       "    .dataframe tbody tr th:only-of-type {\n",
       "        vertical-align: middle;\n",
       "    }\n",
       "\n",
       "    .dataframe tbody tr th {\n",
       "        vertical-align: top;\n",
       "    }\n",
       "\n",
       "    .dataframe thead th {\n",
       "        text-align: right;\n",
       "    }\n",
       "</style>\n",
       "<table border=\"1\" class=\"dataframe\">\n",
       "  <thead>\n",
       "    <tr style=\"text-align: right;\">\n",
       "      <th></th>\n",
       "      <th>name</th>\n",
       "      <th>platform</th>\n",
       "      <th>year_of_release</th>\n",
       "      <th>genre</th>\n",
       "      <th>na_sales</th>\n",
       "      <th>eu_sales</th>\n",
       "      <th>jp_sales</th>\n",
       "      <th>other_sales</th>\n",
       "      <th>critic_score</th>\n",
       "      <th>user_score</th>\n",
       "      <th>rating</th>\n",
       "      <th>total_sales</th>\n",
       "    </tr>\n",
       "  </thead>\n",
       "  <tbody>\n",
       "    <tr>\n",
       "      <td>31</td>\n",
       "      <td>call of duty: black ops 3</td>\n",
       "      <td>ps4</td>\n",
       "      <td>2015</td>\n",
       "      <td>shooter</td>\n",
       "      <td>6.03</td>\n",
       "      <td>5.86</td>\n",
       "      <td>0.36</td>\n",
       "      <td>2.38</td>\n",
       "      <td>NaN</td>\n",
       "      <td>NaN</td>\n",
       "      <td>NaN</td>\n",
       "      <td>14.63</td>\n",
       "    </tr>\n",
       "    <tr>\n",
       "      <td>42</td>\n",
       "      <td>grand theft auto v</td>\n",
       "      <td>ps4</td>\n",
       "      <td>2014</td>\n",
       "      <td>action</td>\n",
       "      <td>3.96</td>\n",
       "      <td>6.31</td>\n",
       "      <td>0.38</td>\n",
       "      <td>1.97</td>\n",
       "      <td>97</td>\n",
       "      <td>8.3</td>\n",
       "      <td>M</td>\n",
       "      <td>12.62</td>\n",
       "    </tr>\n",
       "  </tbody>\n",
       "</table>\n",
       "</div>"
      ],
      "text/plain": [
       "                         name platform  year_of_release    genre  na_sales  \\\n",
       "31  call of duty: black ops 3      ps4             2015  shooter      6.03   \n",
       "42         grand theft auto v      ps4             2014   action      3.96   \n",
       "\n",
       "    eu_sales  jp_sales  other_sales  critic_score  user_score rating  \\\n",
       "31      5.86      0.36         2.38           NaN         NaN    NaN   \n",
       "42      6.31      0.38         1.97            97         8.3      M   \n",
       "\n",
       "    total_sales  \n",
       "31        14.63  \n",
       "42        12.62  "
      ]
     },
     "execution_count": 65,
     "metadata": {},
     "output_type": "execute_result"
    }
   ],
   "source": [
    "df_13.query('platform == \"ps4\"').loc[df_13['total_sales'] > 10]"
   ]
  },
  {
   "cell_type": "markdown",
   "metadata": {},
   "source": [
    "- Игры, имеющие высокую оценку критиков, продаются лучше или наооборот, те игры, которые продаются хорошо, критики оценивают выше. Причинно-следственная связь неизвестна. \n",
    "- По платформе `ps4` игра `grand theft auto v` имела выдающийся успех.\t"
   ]
  },
  {
   "cell_type": "code",
   "execution_count": 66,
   "metadata": {},
   "outputs": [
    {
     "data": {
      "image/png": "[encoded data removed]",
      "text/plain": [
       "<Figure size 432x288 with 2 Axes>"
      ]
     },
     "metadata": {
      "needs_background": "light"
     },
     "output_type": "display_data"
    }
   ],
   "source": [
    "sns.heatmap(df_13.loc[df['platform'] == 'ps4'].corr(), annot=True, fmt=\".2f\", linewidths=0.01)\n",
    "plt.title('График корреляции для платформы ps4')\n",
    "plt.show()"
   ]
  },
  {
   "cell_type": "code",
   "execution_count": 67,
   "metadata": {},
   "outputs": [
    {
     "data": {
      "image/png": "[encoded data removed]",
      "text/plain": [
       "<Figure size 864x432 with 1 Axes>"
      ]
     },
     "metadata": {
      "needs_background": "light"
     },
     "output_type": "display_data"
    },
    {
     "data": {
      "image/png": "[encoded data removed]",
      "text/plain": [
       "<Figure size 432x288 with 2 Axes>"
      ]
     },
     "metadata": {
      "needs_background": "light"
     },
     "output_type": "display_data"
    },
    {
     "name": "stdout",
     "output_type": "stream",
     "text": [
      "Для игровой платформы - ps4 -:\n",
      "- значение корреляции между суммарными продажами и оценкой критиков = 0.41\n",
      "- значение корреляции между суммарными продажами и оценкой пользователей = -0.03\n",
      "____________________________________________________________________________________________________\n"
     ]
    },
    {
     "data": {
      "image/png": "[encoded data removed]",
      "text/plain": [
       "<Figure size 864x432 with 1 Axes>"
      ]
     },
     "metadata": {
      "needs_background": "light"
     },
     "output_type": "display_data"
    },
    {
     "data": {
      "image/png": "[encoded data removed]",
      "text/plain": [
       "<Figure size 432x288 with 2 Axes>"
      ]
     },
     "metadata": {
      "needs_background": "light"
     },
     "output_type": "display_data"
    },
    {
     "name": "stdout",
     "output_type": "stream",
     "text": [
      "Для игровой платформы - xone -:\n",
      "- значение корреляции между суммарными продажами и оценкой критиков = 0.42\n",
      "- значение корреляции между суммарными продажами и оценкой пользователей = -0.07\n",
      "____________________________________________________________________________________________________\n"
     ]
    },
    {
     "data": {
      "image/png": "[encoded data removed]",
      "text/plain": [
       "<Figure size 864x432 with 1 Axes>"
      ]
     },
     "metadata": {
      "needs_background": "light"
     },
     "output_type": "display_data"
    },
    {
     "data": {
      "image/png": "[encoded data removed]",
      "text/plain": [
       "<Figure size 432x288 with 2 Axes>"
      ]
     },
     "metadata": {
      "needs_background": "light"
     },
     "output_type": "display_data"
    },
    {
     "name": "stdout",
     "output_type": "stream",
     "text": [
      "Для игровой платформы - 3ds -:\n",
      "- значение корреляции между суммарными продажами и оценкой критиков = 0.36\n",
      "- значение корреляции между суммарными продажами и оценкой пользователей = 0.24\n",
      "____________________________________________________________________________________________________\n"
     ]
    }
   ],
   "source": [
    "for platform in top3_platforms:\n",
    "    df_13.query('platform == @platform').plot.scatter(x='critic_score', y='total_sales', figsize = (12,6), grid = True)\n",
    "    \n",
    "    plt.title('Диаграмма рассеяния для ' + platform)\n",
    "    plt.xlabel('Оценка критиков')\n",
    "    plt.ylabel('Суммарные продажи, млн.')\n",
    "    plt.show()\n",
    "\n",
    "    temp = df_13.loc[df['platform'] == platform]\n",
    "    temp['critic_score'] = temp['critic_score'].astype(float)\n",
    "    sns.heatmap(temp.corr(), annot=True, fmt=\".2f\", linewidths=0.01)\n",
    "    plt.title('График корреляции для платформы ' + platform)\n",
    "    plt.show()\n",
    "    print('Для игровой платформы -', platform,'-:')\n",
    "    print('- значение корреляции между суммарными продажами и оценкой критиков =', temp['total_sales'].corr(temp['critic_score']).round(2))\n",
    "    print('- значение корреляции между суммарными продажами и оценкой пользователей =', temp['total_sales'].corr(temp['user_score']).round(2))\n",
    "    print('_' * 100)"
   ]
  },
  {
   "cell_type": "markdown",
   "metadata": {},
   "source": [
    "- Игровые платформы из ТОП3 можно поделить на две части:\n",
    "    - полноценные игровые консоли (`ps4`, `xone`)\n",
    "    - карманные игровые приставки (`3ds`)\n",
    "\n",
    "- Для полноценных консолей оценка критиков имеет большую корреляцию с общими продажами, чем у карманных. Здесь или критики хорошо оценивают то, что хорошо продается, или наоборот. Я бы отдельно изучил вопрос объективности критиков и ангажированности их с некоторыми корпорациями.\n",
    "- Для карманной приставки `3ds` в отличие от полноценных значение корреляции между `user_score` и `total_sales` уже ненулевое и равно 0,24."
   ]
  },
  {
   "cell_type": "markdown",
   "metadata": {},
   "source": [
    "Корреляция по всему датафрейму df_13."
   ]
  },
  {
   "cell_type": "code",
   "execution_count": 102,
   "metadata": {},
   "outputs": [
    {
     "data": {
      "image/png": "[encoded data removed]",
      "text/plain": [
       "<Figure size 432x288 with 2 Axes>"
      ]
     },
     "metadata": {
      "needs_background": "light"
     },
     "output_type": "display_data"
    },
    {
     "name": "stdout",
     "output_type": "stream",
     "text": [
      "- значение корреляции между суммарными продажами и оценкой критиков = 0.31\n",
      "- значение корреляции между суммарными продажами и оценкой пользователей = -0.003\n",
      "____________________________________________________________________________________________________\n"
     ]
    }
   ],
   "source": [
    "temp = df_13\n",
    "temp['critic_score'] = temp['critic_score'].astype(float)\n",
    "sns.heatmap(temp.corr(), annot=True, fmt=\".2f\", linewidths=0.01)\n",
    "plt.title('График корреляции по всему датафрейму df_13')\n",
    "plt.show()\n",
    "print('- значение корреляции между суммарными продажами и оценкой критиков =', temp['total_sales'].corr(temp['critic_score']).round(2))\n",
    "print('- значение корреляции между суммарными продажами и оценкой пользователей =', temp['total_sales'].corr(temp['user_score']).round(3))\n",
    "print('_' * 100)"
   ]
  },
  {
   "cell_type": "markdown",
   "metadata": {},
   "source": [
    "- Для всех данных имеется корреляция между оценкой критиков и продажами в то время, как сильной связи с оценкой пользователей нет."
   ]
  },
  {
   "cell_type": "markdown",
   "metadata": {},
   "source": [
    "#### Посмотрим на общее распределение игр по жанрам."
   ]
  },
  {
   "cell_type": "code",
   "execution_count": 69,
   "metadata": {},
   "outputs": [
    {
     "data": {
      "text/html": [
       "<style  type=\"text/css\" >\n",
       "    #T_8bae4bd6_19e3_11eb_98c6_02420a390ed5row0_col0 {\n",
       "            background-color:  #00441b;\n",
       "            color:  #f1f1f1;\n",
       "        }    #T_8bae4bd6_19e3_11eb_98c6_02420a390ed5row1_col0 {\n",
       "            background-color:  #a4da9e;\n",
       "            color:  #000000;\n",
       "        }    #T_8bae4bd6_19e3_11eb_98c6_02420a390ed5row2_col0 {\n",
       "            background-color:  #b7e2b1;\n",
       "            color:  #000000;\n",
       "        }    #T_8bae4bd6_19e3_11eb_98c6_02420a390ed5row3_col0 {\n",
       "            background-color:  #c3e7bc;\n",
       "            color:  #000000;\n",
       "        }    #T_8bae4bd6_19e3_11eb_98c6_02420a390ed5row4_col0 {\n",
       "            background-color:  #ccebc6;\n",
       "            color:  #000000;\n",
       "        }    #T_8bae4bd6_19e3_11eb_98c6_02420a390ed5row5_col0 {\n",
       "            background-color:  #d7efd1;\n",
       "            color:  #000000;\n",
       "        }    #T_8bae4bd6_19e3_11eb_98c6_02420a390ed5row6_col0 {\n",
       "            background-color:  #eaf7e6;\n",
       "            color:  #000000;\n",
       "        }    #T_8bae4bd6_19e3_11eb_98c6_02420a390ed5row7_col0 {\n",
       "            background-color:  #ebf7e7;\n",
       "            color:  #000000;\n",
       "        }    #T_8bae4bd6_19e3_11eb_98c6_02420a390ed5row8_col0 {\n",
       "            background-color:  #ecf8e8;\n",
       "            color:  #000000;\n",
       "        }    #T_8bae4bd6_19e3_11eb_98c6_02420a390ed5row9_col0 {\n",
       "            background-color:  #eff9eb;\n",
       "            color:  #000000;\n",
       "        }    #T_8bae4bd6_19e3_11eb_98c6_02420a390ed5row10_col0 {\n",
       "            background-color:  #f0f9ec;\n",
       "            color:  #000000;\n",
       "        }    #T_8bae4bd6_19e3_11eb_98c6_02420a390ed5row11_col0 {\n",
       "            background-color:  #f7fcf5;\n",
       "            color:  #000000;\n",
       "        }</style><table id=\"T_8bae4bd6_19e3_11eb_98c6_02420a390ed5\" ><thead>    <tr>        <th class=\"blank level0\" ></th>        <th class=\"col_heading level0 col0\" >name</th>    </tr>    <tr>        <th class=\"index_name level0\" >genre</th>        <th class=\"blank\" ></th>    </tr></thead><tbody>\n",
       "                <tr>\n",
       "                        <th id=\"T_8bae4bd6_19e3_11eb_98c6_02420a390ed5level0_row0\" class=\"row_heading level0 row0\" >action</th>\n",
       "                        <td id=\"T_8bae4bd6_19e3_11eb_98c6_02420a390ed5row0_col0\" class=\"data row0 col0\" >766</td>\n",
       "            </tr>\n",
       "            <tr>\n",
       "                        <th id=\"T_8bae4bd6_19e3_11eb_98c6_02420a390ed5level0_row1\" class=\"row_heading level0 row1\" >role-playing</th>\n",
       "                        <td id=\"T_8bae4bd6_19e3_11eb_98c6_02420a390ed5row1_col0\" class=\"data row1 col0\" >292</td>\n",
       "            </tr>\n",
       "            <tr>\n",
       "                        <th id=\"T_8bae4bd6_19e3_11eb_98c6_02420a390ed5level0_row2\" class=\"row_heading level0 row2\" >adventure</th>\n",
       "                        <td id=\"T_8bae4bd6_19e3_11eb_98c6_02420a390ed5row2_col0\" class=\"data row2 col0\" >245</td>\n",
       "            </tr>\n",
       "            <tr>\n",
       "                        <th id=\"T_8bae4bd6_19e3_11eb_98c6_02420a390ed5level0_row3\" class=\"row_heading level0 row3\" >sports</th>\n",
       "                        <td id=\"T_8bae4bd6_19e3_11eb_98c6_02420a390ed5row3_col0\" class=\"data row3 col0\" >214</td>\n",
       "            </tr>\n",
       "            <tr>\n",
       "                        <th id=\"T_8bae4bd6_19e3_11eb_98c6_02420a390ed5level0_row4\" class=\"row_heading level0 row4\" >shooter</th>\n",
       "                        <td id=\"T_8bae4bd6_19e3_11eb_98c6_02420a390ed5row4_col0\" class=\"data row4 col0\" >187</td>\n",
       "            </tr>\n",
       "            <tr>\n",
       "                        <th id=\"T_8bae4bd6_19e3_11eb_98c6_02420a390ed5level0_row5\" class=\"row_heading level0 row5\" >misc</th>\n",
       "                        <td id=\"T_8bae4bd6_19e3_11eb_98c6_02420a390ed5row5_col0\" class=\"data row5 col0\" >155</td>\n",
       "            </tr>\n",
       "            <tr>\n",
       "                        <th id=\"T_8bae4bd6_19e3_11eb_98c6_02420a390ed5level0_row6\" class=\"row_heading level0 row6\" >racing</th>\n",
       "                        <td id=\"T_8bae4bd6_19e3_11eb_98c6_02420a390ed5row6_col0\" class=\"data row6 col0\" >85</td>\n",
       "            </tr>\n",
       "            <tr>\n",
       "                        <th id=\"T_8bae4bd6_19e3_11eb_98c6_02420a390ed5level0_row7\" class=\"row_heading level0 row7\" >fighting</th>\n",
       "                        <td id=\"T_8bae4bd6_19e3_11eb_98c6_02420a390ed5row7_col0\" class=\"data row7 col0\" >80</td>\n",
       "            </tr>\n",
       "            <tr>\n",
       "                        <th id=\"T_8bae4bd6_19e3_11eb_98c6_02420a390ed5level0_row8\" class=\"row_heading level0 row8\" >platform</th>\n",
       "                        <td id=\"T_8bae4bd6_19e3_11eb_98c6_02420a390ed5row8_col0\" class=\"data row8 col0\" >74</td>\n",
       "            </tr>\n",
       "            <tr>\n",
       "                        <th id=\"T_8bae4bd6_19e3_11eb_98c6_02420a390ed5level0_row9\" class=\"row_heading level0 row9\" >simulation</th>\n",
       "                        <td id=\"T_8bae4bd6_19e3_11eb_98c6_02420a390ed5row9_col0\" class=\"data row9 col0\" >62</td>\n",
       "            </tr>\n",
       "            <tr>\n",
       "                        <th id=\"T_8bae4bd6_19e3_11eb_98c6_02420a390ed5level0_row10\" class=\"row_heading level0 row10\" >strategy</th>\n",
       "                        <td id=\"T_8bae4bd6_19e3_11eb_98c6_02420a390ed5row10_col0\" class=\"data row10 col0\" >56</td>\n",
       "            </tr>\n",
       "            <tr>\n",
       "                        <th id=\"T_8bae4bd6_19e3_11eb_98c6_02420a390ed5level0_row11\" class=\"row_heading level0 row11\" >puzzle</th>\n",
       "                        <td id=\"T_8bae4bd6_19e3_11eb_98c6_02420a390ed5row11_col0\" class=\"data row11 col0\" >17</td>\n",
       "            </tr>\n",
       "    </tbody></table>"
      ],
      "text/plain": [
       "<pandas.io.formats.style.Styler at 0x7f3249e47790>"
      ]
     },
     "execution_count": 69,
     "metadata": {},
     "output_type": "execute_result"
    }
   ],
   "source": [
    "(df_13\n",
    " .groupby('genre')['name'].count()\n",
    " .to_frame()\n",
    " .sort_values('name', ascending = False)\n",
    " .style\n",
    " .background_gradient(cmap=\"Greens\")\n",
    ")"
   ]
  },
  {
   "cell_type": "code",
   "execution_count": 70,
   "metadata": {},
   "outputs": [
    {
     "data": {
      "text/html": [
       "<style  type=\"text/css\" >\n",
       "    #T_8bb79bfa_19e3_11eb_98c6_02420a390ed5row0_col0 {\n",
       "            background-color:  #00441b;\n",
       "            color:  #f1f1f1;\n",
       "        }    #T_8bb79bfa_19e3_11eb_98c6_02420a390ed5row1_col0 {\n",
       "            background-color:  #2a924a;\n",
       "            color:  #000000;\n",
       "        }    #T_8bb79bfa_19e3_11eb_98c6_02420a390ed5row2_col0 {\n",
       "            background-color:  #81ca81;\n",
       "            color:  #000000;\n",
       "        }    #T_8bb79bfa_19e3_11eb_98c6_02420a390ed5row3_col0 {\n",
       "            background-color:  #87cd86;\n",
       "            color:  #000000;\n",
       "        }    #T_8bb79bfa_19e3_11eb_98c6_02420a390ed5row4_col0 {\n",
       "            background-color:  #d7efd1;\n",
       "            color:  #000000;\n",
       "        }    #T_8bb79bfa_19e3_11eb_98c6_02420a390ed5row5_col0 {\n",
       "            background-color:  #e5f5e1;\n",
       "            color:  #000000;\n",
       "        }    #T_8bb79bfa_19e3_11eb_98c6_02420a390ed5row6_col0 {\n",
       "            background-color:  #e7f6e2;\n",
       "            color:  #000000;\n",
       "        }    #T_8bb79bfa_19e3_11eb_98c6_02420a390ed5row7_col0 {\n",
       "            background-color:  #e9f7e5;\n",
       "            color:  #000000;\n",
       "        }    #T_8bb79bfa_19e3_11eb_98c6_02420a390ed5row8_col0 {\n",
       "            background-color:  #eef8ea;\n",
       "            color:  #000000;\n",
       "        }    #T_8bb79bfa_19e3_11eb_98c6_02420a390ed5row9_col0 {\n",
       "            background-color:  #eff9ec;\n",
       "            color:  #000000;\n",
       "        }    #T_8bb79bfa_19e3_11eb_98c6_02420a390ed5row10_col0 {\n",
       "            background-color:  #f4fbf2;\n",
       "            color:  #000000;\n",
       "        }    #T_8bb79bfa_19e3_11eb_98c6_02420a390ed5row11_col0 {\n",
       "            background-color:  #f7fcf5;\n",
       "            color:  #000000;\n",
       "        }</style><table id=\"T_8bb79bfa_19e3_11eb_98c6_02420a390ed5\" ><thead>    <tr>        <th class=\"blank level0\" ></th>        <th class=\"col_heading level0 col0\" >total_sales</th>    </tr>    <tr>        <th class=\"index_name level0\" >genre</th>        <th class=\"blank\" ></th>    </tr></thead><tbody>\n",
       "                <tr>\n",
       "                        <th id=\"T_8bb79bfa_19e3_11eb_98c6_02420a390ed5level0_row0\" class=\"row_heading level0 row0\" >action</th>\n",
       "                        <td id=\"T_8bb79bfa_19e3_11eb_98c6_02420a390ed5row0_col0\" class=\"data row0 col0\" >321.87</td>\n",
       "            </tr>\n",
       "            <tr>\n",
       "                        <th id=\"T_8bb79bfa_19e3_11eb_98c6_02420a390ed5level0_row1\" class=\"row_heading level0 row1\" >shooter</th>\n",
       "                        <td id=\"T_8bb79bfa_19e3_11eb_98c6_02420a390ed5row1_col0\" class=\"data row1 col0\" >232.98</td>\n",
       "            </tr>\n",
       "            <tr>\n",
       "                        <th id=\"T_8bb79bfa_19e3_11eb_98c6_02420a390ed5level0_row2\" class=\"row_heading level0 row2\" >sports</th>\n",
       "                        <td id=\"T_8bb79bfa_19e3_11eb_98c6_02420a390ed5row2_col0\" class=\"data row2 col0\" >150.65</td>\n",
       "            </tr>\n",
       "            <tr>\n",
       "                        <th id=\"T_8bb79bfa_19e3_11eb_98c6_02420a390ed5level0_row3\" class=\"row_heading level0 row3\" >role-playing</th>\n",
       "                        <td id=\"T_8bb79bfa_19e3_11eb_98c6_02420a390ed5row3_col0\" class=\"data row3 col0\" >145.89</td>\n",
       "            </tr>\n",
       "            <tr>\n",
       "                        <th id=\"T_8bb79bfa_19e3_11eb_98c6_02420a390ed5level0_row4\" class=\"row_heading level0 row4\" >misc</th>\n",
       "                        <td id=\"T_8bb79bfa_19e3_11eb_98c6_02420a390ed5row4_col0\" class=\"data row4 col0\" >62.82</td>\n",
       "            </tr>\n",
       "            <tr>\n",
       "                        <th id=\"T_8bb79bfa_19e3_11eb_98c6_02420a390ed5level0_row5\" class=\"row_heading level0 row5\" >platform</th>\n",
       "                        <td id=\"T_8bb79bfa_19e3_11eb_98c6_02420a390ed5row5_col0\" class=\"data row5 col0\" >42.63</td>\n",
       "            </tr>\n",
       "            <tr>\n",
       "                        <th id=\"T_8bb79bfa_19e3_11eb_98c6_02420a390ed5level0_row6\" class=\"row_heading level0 row6\" >racing</th>\n",
       "                        <td id=\"T_8bb79bfa_19e3_11eb_98c6_02420a390ed5row6_col0\" class=\"data row6 col0\" >39.89</td>\n",
       "            </tr>\n",
       "            <tr>\n",
       "                        <th id=\"T_8bb79bfa_19e3_11eb_98c6_02420a390ed5level0_row7\" class=\"row_heading level0 row7\" >fighting</th>\n",
       "                        <td id=\"T_8bb79bfa_19e3_11eb_98c6_02420a390ed5row7_col0\" class=\"data row7 col0\" >35.31</td>\n",
       "            </tr>\n",
       "            <tr>\n",
       "                        <th id=\"T_8bb79bfa_19e3_11eb_98c6_02420a390ed5level0_row8\" class=\"row_heading level0 row8\" >adventure</th>\n",
       "                        <td id=\"T_8bb79bfa_19e3_11eb_98c6_02420a390ed5row8_col0\" class=\"data row8 col0\" >23.64</td>\n",
       "            </tr>\n",
       "            <tr>\n",
       "                        <th id=\"T_8bb79bfa_19e3_11eb_98c6_02420a390ed5level0_row9\" class=\"row_heading level0 row9\" >simulation</th>\n",
       "                        <td id=\"T_8bb79bfa_19e3_11eb_98c6_02420a390ed5row9_col0\" class=\"data row9 col0\" >21.76</td>\n",
       "            </tr>\n",
       "            <tr>\n",
       "                        <th id=\"T_8bb79bfa_19e3_11eb_98c6_02420a390ed5level0_row10\" class=\"row_heading level0 row10\" >strategy</th>\n",
       "                        <td id=\"T_8bb79bfa_19e3_11eb_98c6_02420a390ed5row10_col0\" class=\"data row10 col0\" >10.08</td>\n",
       "            </tr>\n",
       "            <tr>\n",
       "                        <th id=\"T_8bb79bfa_19e3_11eb_98c6_02420a390ed5level0_row11\" class=\"row_heading level0 row11\" >puzzle</th>\n",
       "                        <td id=\"T_8bb79bfa_19e3_11eb_98c6_02420a390ed5row11_col0\" class=\"data row11 col0\" >3.17</td>\n",
       "            </tr>\n",
       "    </tbody></table>"
      ],
      "text/plain": [
       "<pandas.io.formats.style.Styler at 0x7f324a66c290>"
      ]
     },
     "execution_count": 70,
     "metadata": {},
     "output_type": "execute_result"
    }
   ],
   "source": [
    "(df_13\n",
    " .groupby('genre')['total_sales'].sum()\n",
    " .to_frame()\n",
    " .sort_values('total_sales', ascending = False)\n",
    " .style\n",
    " .background_gradient(cmap=\"Greens\")\n",
    ")"
   ]
  },
  {
   "cell_type": "markdown",
   "metadata": {},
   "source": [
    "- Наиболее продаваемый жанр это `action`, менее продаваемый `puzzle`. Отсюда вывод, что люди предпочитают бегать, стрелять, крушить и ломать, но не логические игры. Этот вывод подтверждает и то, что стратегии `strategy`, которые немного заставляют думать, также покупают неохотно.\n",
    "- Есть близкие жанры, например `action` и `shooter`. Если их объединить, то сортировка сдвинется, но вывод предыдущего пункта останется в силе.\n",
    "- Производители подстраиваются под интересы, поэтому игр с жанров `action` и `sports` выпускается больше, `puzzle` - меньше."
   ]
  },
  {
   "cell_type": "code",
   "execution_count": 1,
   "metadata": {},
   "outputs": [
    {
     "ename": "NameError",
     "evalue": "name 'df_13' is not defined",
     "output_type": "error",
     "traceback": [
      "\u001b[0;31m---------------------------------------------------------------------------\u001b[0m",
      "\u001b[0;31mNameError\u001b[0m                                 Traceback (most recent call last)",
      "\u001b[0;32m<ipython-input-1-bf11ed45f587>\u001b[0m in \u001b[0;36m<module>\u001b[0;34m\u001b[0m\n\u001b[0;32m----> 1\u001b[0;31m (df_13\n\u001b[0m\u001b[1;32m      2\u001b[0m  \u001b[0;34m.\u001b[0m\u001b[0mgroupby\u001b[0m\u001b[0;34m(\u001b[0m\u001b[0;34m'genre'\u001b[0m\u001b[0;34m)\u001b[0m\u001b[0;34m[\u001b[0m\u001b[0;34m'total_sales'\u001b[0m\u001b[0;34m]\u001b[0m\u001b[0;34m.\u001b[0m\u001b[0mmedian\u001b[0m\u001b[0;34m(\u001b[0m\u001b[0;34m)\u001b[0m\u001b[0;34m\u001b[0m\u001b[0;34m\u001b[0m\u001b[0m\n\u001b[1;32m      3\u001b[0m  \u001b[0;34m.\u001b[0m\u001b[0mto_frame\u001b[0m\u001b[0;34m(\u001b[0m\u001b[0;34m)\u001b[0m\u001b[0;34m\u001b[0m\u001b[0;34m\u001b[0m\u001b[0m\n\u001b[1;32m      4\u001b[0m  \u001b[0;34m.\u001b[0m\u001b[0msort_values\u001b[0m\u001b[0;34m(\u001b[0m\u001b[0;34m'total_sales'\u001b[0m\u001b[0;34m,\u001b[0m \u001b[0mascending\u001b[0m \u001b[0;34m=\u001b[0m \u001b[0;32mFalse\u001b[0m\u001b[0;34m)\u001b[0m\u001b[0;34m\u001b[0m\u001b[0;34m\u001b[0m\u001b[0m\n\u001b[1;32m      5\u001b[0m  \u001b[0;34m.\u001b[0m\u001b[0mstyle\u001b[0m\u001b[0;34m\u001b[0m\u001b[0;34m\u001b[0m\u001b[0m\n",
      "\u001b[0;31mNameError\u001b[0m: name 'df_13' is not defined"
     ]
    }
   ],
   "source": [
    "(df_13\n",
    " .groupby('genre')['total_sales'].median()\n",
    " .to_frame()\n",
    " .sort_values('total_sales', ascending = False)\n",
    " .style\n",
    " .background_gradient(cmap=\"Greens\")\n",
    ")"
   ]
  },
  {
   "cell_type": "markdown",
   "metadata": {},
   "source": [
    "- Шутеры (они же часто и экш-игры) продаются дороже, чем все остальные. Второе место между спортом и жанром `platform`. Логические игры продаются за меньшую сумму."
   ]
  },
  {
   "cell_type": "markdown",
   "metadata": {},
   "source": [
    "Платфо́рмер — жанр компьютерных игр, в которых основной чертой игрового процесса является прыгание по платформам, лазанье по лестницам, собирание предметов, обычно необходимых для завершения уровня. Игры подобного жанра характеризуются нереалистичностью, рисованной мультяшной графикой. "
   ]
  },
  {
   "cell_type": "markdown",
   "metadata": {},
   "source": [
    "## Шаг 4. Составьте портрет пользователя каждого региона\n"
   ]
  },
  {
   "cell_type": "markdown",
   "metadata": {},
   "source": [
    "Добавим в таблицу `df_13` столбец `rating_age`, в который передадим численное значение возраста."
   ]
  },
  {
   "cell_type": "code",
   "execution_count": 72,
   "metadata": {},
   "outputs": [],
   "source": [
    "df_13['rating_age'] = np.NaN"
   ]
  },
  {
   "cell_type": "code",
   "execution_count": 73,
   "metadata": {},
   "outputs": [],
   "source": [
    "# функция преобразования кодового рейтинга в числовой\n",
    "def rating_age(row):\n",
    "    if row['rating'] == 'E':\n",
    "        row['rating_age'] = 6\n",
    "    if row['rating'] == 'M':\n",
    "        row['rating_age'] = 17\n",
    "    if row['rating'] == 'T':\n",
    "        row['rating_age'] = 13\n",
    "    if row['rating'] == 'E10+':\n",
    "        row['rating_age'] = 10\n",
    "    if row['rating'] == 'AO':\n",
    "        row['rating_age'] = 18       \n",
    "    if row['rating'] == 'EC':\n",
    "        row['rating_age'] = 3\n",
    "    return row['rating_age']"
   ]
  },
  {
   "cell_type": "code",
   "execution_count": 74,
   "metadata": {},
   "outputs": [],
   "source": [
    "df_13['rating_age'] = df_13.apply(rating_age ,axis=1)"
   ]
  },
  {
   "cell_type": "code",
   "execution_count": 75,
   "metadata": {},
   "outputs": [
    {
     "data": {
      "text/html": [
       "<div>\n",
       "<style scoped>\n",
       "    .dataframe tbody tr th:only-of-type {\n",
       "        vertical-align: middle;\n",
       "    }\n",
       "\n",
       "    .dataframe tbody tr th {\n",
       "        vertical-align: top;\n",
       "    }\n",
       "\n",
       "    .dataframe thead th {\n",
       "        text-align: right;\n",
       "    }\n",
       "</style>\n",
       "<table border=\"1\" class=\"dataframe\">\n",
       "  <thead>\n",
       "    <tr style=\"text-align: right;\">\n",
       "      <th></th>\n",
       "      <th>name</th>\n",
       "      <th>platform</th>\n",
       "      <th>year_of_release</th>\n",
       "      <th>genre</th>\n",
       "      <th>na_sales</th>\n",
       "      <th>eu_sales</th>\n",
       "      <th>jp_sales</th>\n",
       "      <th>other_sales</th>\n",
       "      <th>critic_score</th>\n",
       "      <th>user_score</th>\n",
       "      <th>rating</th>\n",
       "      <th>total_sales</th>\n",
       "      <th>rating_age</th>\n",
       "    </tr>\n",
       "  </thead>\n",
       "  <tbody>\n",
       "    <tr>\n",
       "      <td>16</td>\n",
       "      <td>grand theft auto v</td>\n",
       "      <td>ps3</td>\n",
       "      <td>2013</td>\n",
       "      <td>action</td>\n",
       "      <td>7.02</td>\n",
       "      <td>9.09</td>\n",
       "      <td>0.98</td>\n",
       "      <td>3.96</td>\n",
       "      <td>97</td>\n",
       "      <td>8.2</td>\n",
       "      <td>M</td>\n",
       "      <td>21.05</td>\n",
       "      <td>17.0</td>\n",
       "    </tr>\n",
       "    <tr>\n",
       "      <td>23</td>\n",
       "      <td>grand theft auto v</td>\n",
       "      <td>x360</td>\n",
       "      <td>2013</td>\n",
       "      <td>action</td>\n",
       "      <td>9.66</td>\n",
       "      <td>5.14</td>\n",
       "      <td>0.06</td>\n",
       "      <td>1.41</td>\n",
       "      <td>97</td>\n",
       "      <td>8.1</td>\n",
       "      <td>M</td>\n",
       "      <td>16.27</td>\n",
       "      <td>17.0</td>\n",
       "    </tr>\n",
       "    <tr>\n",
       "      <td>31</td>\n",
       "      <td>call of duty: black ops 3</td>\n",
       "      <td>ps4</td>\n",
       "      <td>2015</td>\n",
       "      <td>shooter</td>\n",
       "      <td>6.03</td>\n",
       "      <td>5.86</td>\n",
       "      <td>0.36</td>\n",
       "      <td>2.38</td>\n",
       "      <td>NaN</td>\n",
       "      <td>NaN</td>\n",
       "      <td>NaN</td>\n",
       "      <td>14.63</td>\n",
       "      <td>NaN</td>\n",
       "    </tr>\n",
       "    <tr>\n",
       "      <td>33</td>\n",
       "      <td>pokemon x/pokemon y</td>\n",
       "      <td>3ds</td>\n",
       "      <td>2013</td>\n",
       "      <td>role-playing</td>\n",
       "      <td>5.28</td>\n",
       "      <td>4.19</td>\n",
       "      <td>4.35</td>\n",
       "      <td>0.78</td>\n",
       "      <td>NaN</td>\n",
       "      <td>NaN</td>\n",
       "      <td>NaN</td>\n",
       "      <td>14.60</td>\n",
       "      <td>NaN</td>\n",
       "    </tr>\n",
       "    <tr>\n",
       "      <td>42</td>\n",
       "      <td>grand theft auto v</td>\n",
       "      <td>ps4</td>\n",
       "      <td>2014</td>\n",
       "      <td>action</td>\n",
       "      <td>3.96</td>\n",
       "      <td>6.31</td>\n",
       "      <td>0.38</td>\n",
       "      <td>1.97</td>\n",
       "      <td>97</td>\n",
       "      <td>8.3</td>\n",
       "      <td>M</td>\n",
       "      <td>12.62</td>\n",
       "      <td>17.0</td>\n",
       "    </tr>\n",
       "    <tr>\n",
       "      <td>47</td>\n",
       "      <td>pokemon omega ruby/pokemon alpha sapphire</td>\n",
       "      <td>3ds</td>\n",
       "      <td>2014</td>\n",
       "      <td>role-playing</td>\n",
       "      <td>4.35</td>\n",
       "      <td>3.49</td>\n",
       "      <td>3.10</td>\n",
       "      <td>0.74</td>\n",
       "      <td>NaN</td>\n",
       "      <td>NaN</td>\n",
       "      <td>NaN</td>\n",
       "      <td>11.68</td>\n",
       "      <td>NaN</td>\n",
       "    </tr>\n",
       "    <tr>\n",
       "      <td>60</td>\n",
       "      <td>call of duty: ghosts</td>\n",
       "      <td>x360</td>\n",
       "      <td>2013</td>\n",
       "      <td>shooter</td>\n",
       "      <td>6.73</td>\n",
       "      <td>2.56</td>\n",
       "      <td>0.04</td>\n",
       "      <td>0.91</td>\n",
       "      <td>73</td>\n",
       "      <td>2.6</td>\n",
       "      <td>M</td>\n",
       "      <td>10.24</td>\n",
       "      <td>17.0</td>\n",
       "    </tr>\n",
       "    <tr>\n",
       "      <td>69</td>\n",
       "      <td>call of duty: ghosts</td>\n",
       "      <td>ps3</td>\n",
       "      <td>2013</td>\n",
       "      <td>shooter</td>\n",
       "      <td>4.10</td>\n",
       "      <td>3.63</td>\n",
       "      <td>0.38</td>\n",
       "      <td>1.25</td>\n",
       "      <td>71</td>\n",
       "      <td>2.6</td>\n",
       "      <td>M</td>\n",
       "      <td>9.36</td>\n",
       "      <td>17.0</td>\n",
       "    </tr>\n",
       "    <tr>\n",
       "      <td>72</td>\n",
       "      <td>minecraft</td>\n",
       "      <td>x360</td>\n",
       "      <td>2013</td>\n",
       "      <td>misc</td>\n",
       "      <td>5.70</td>\n",
       "      <td>2.65</td>\n",
       "      <td>0.02</td>\n",
       "      <td>0.81</td>\n",
       "      <td>NaN</td>\n",
       "      <td>NaN</td>\n",
       "      <td>NaN</td>\n",
       "      <td>9.18</td>\n",
       "      <td>NaN</td>\n",
       "    </tr>\n",
       "    <tr>\n",
       "      <td>77</td>\n",
       "      <td>fifa 16</td>\n",
       "      <td>ps4</td>\n",
       "      <td>2015</td>\n",
       "      <td>sports</td>\n",
       "      <td>1.12</td>\n",
       "      <td>6.12</td>\n",
       "      <td>0.06</td>\n",
       "      <td>1.28</td>\n",
       "      <td>82</td>\n",
       "      <td>4.3</td>\n",
       "      <td>E</td>\n",
       "      <td>8.58</td>\n",
       "      <td>6.0</td>\n",
       "    </tr>\n",
       "    <tr>\n",
       "      <td>87</td>\n",
       "      <td>star wars battlefront (2015)</td>\n",
       "      <td>ps4</td>\n",
       "      <td>2015</td>\n",
       "      <td>shooter</td>\n",
       "      <td>2.99</td>\n",
       "      <td>3.49</td>\n",
       "      <td>0.22</td>\n",
       "      <td>1.28</td>\n",
       "      <td>NaN</td>\n",
       "      <td>NaN</td>\n",
       "      <td>NaN</td>\n",
       "      <td>7.98</td>\n",
       "      <td>NaN</td>\n",
       "    </tr>\n",
       "    <tr>\n",
       "      <td>92</td>\n",
       "      <td>call of duty: advanced warfare</td>\n",
       "      <td>ps4</td>\n",
       "      <td>2014</td>\n",
       "      <td>shooter</td>\n",
       "      <td>2.81</td>\n",
       "      <td>3.48</td>\n",
       "      <td>0.14</td>\n",
       "      <td>1.23</td>\n",
       "      <td>83</td>\n",
       "      <td>5.7</td>\n",
       "      <td>M</td>\n",
       "      <td>7.66</td>\n",
       "      <td>17.0</td>\n",
       "    </tr>\n",
       "    <tr>\n",
       "      <td>94</td>\n",
       "      <td>fifa 17</td>\n",
       "      <td>ps4</td>\n",
       "      <td>2016</td>\n",
       "      <td>sports</td>\n",
       "      <td>0.66</td>\n",
       "      <td>5.75</td>\n",
       "      <td>0.08</td>\n",
       "      <td>1.11</td>\n",
       "      <td>85</td>\n",
       "      <td>5.0</td>\n",
       "      <td>E</td>\n",
       "      <td>7.60</td>\n",
       "      <td>6.0</td>\n",
       "    </tr>\n",
       "    <tr>\n",
       "      <td>96</td>\n",
       "      <td>super smash bros. for wii u and 3ds</td>\n",
       "      <td>3ds</td>\n",
       "      <td>2014</td>\n",
       "      <td>fighting</td>\n",
       "      <td>3.27</td>\n",
       "      <td>1.37</td>\n",
       "      <td>2.43</td>\n",
       "      <td>0.48</td>\n",
       "      <td>NaN</td>\n",
       "      <td>NaN</td>\n",
       "      <td>NaN</td>\n",
       "      <td>7.55</td>\n",
       "      <td>NaN</td>\n",
       "    </tr>\n",
       "    <tr>\n",
       "      <td>99</td>\n",
       "      <td>call of duty: black ops 3</td>\n",
       "      <td>xone</td>\n",
       "      <td>2015</td>\n",
       "      <td>shooter</td>\n",
       "      <td>4.59</td>\n",
       "      <td>2.11</td>\n",
       "      <td>0.01</td>\n",
       "      <td>0.68</td>\n",
       "      <td>NaN</td>\n",
       "      <td>NaN</td>\n",
       "      <td>NaN</td>\n",
       "      <td>7.39</td>\n",
       "      <td>NaN</td>\n",
       "    </tr>\n",
       "    <tr>\n",
       "      <td>105</td>\n",
       "      <td>fallout 4</td>\n",
       "      <td>ps4</td>\n",
       "      <td>2015</td>\n",
       "      <td>role-playing</td>\n",
       "      <td>2.53</td>\n",
       "      <td>3.27</td>\n",
       "      <td>0.24</td>\n",
       "      <td>1.13</td>\n",
       "      <td>87</td>\n",
       "      <td>6.5</td>\n",
       "      <td>M</td>\n",
       "      <td>7.17</td>\n",
       "      <td>17.0</td>\n",
       "    </tr>\n",
       "    <tr>\n",
       "      <td>108</td>\n",
       "      <td>pokemon sun/moon</td>\n",
       "      <td>3ds</td>\n",
       "      <td>2016</td>\n",
       "      <td>role-playing</td>\n",
       "      <td>2.98</td>\n",
       "      <td>1.45</td>\n",
       "      <td>2.26</td>\n",
       "      <td>0.45</td>\n",
       "      <td>NaN</td>\n",
       "      <td>NaN</td>\n",
       "      <td>NaN</td>\n",
       "      <td>7.14</td>\n",
       "      <td>NaN</td>\n",
       "    </tr>\n",
       "    <tr>\n",
       "      <td>110</td>\n",
       "      <td>mario kart 8</td>\n",
       "      <td>wiiu</td>\n",
       "      <td>2014</td>\n",
       "      <td>racing</td>\n",
       "      <td>3.15</td>\n",
       "      <td>2.15</td>\n",
       "      <td>1.28</td>\n",
       "      <td>0.51</td>\n",
       "      <td>88</td>\n",
       "      <td>9.1</td>\n",
       "      <td>E</td>\n",
       "      <td>7.09</td>\n",
       "      <td>6.0</td>\n",
       "    </tr>\n",
       "    <tr>\n",
       "      <td>126</td>\n",
       "      <td>fifa 14</td>\n",
       "      <td>ps3</td>\n",
       "      <td>2013</td>\n",
       "      <td>sports</td>\n",
       "      <td>0.78</td>\n",
       "      <td>4.24</td>\n",
       "      <td>0.07</td>\n",
       "      <td>1.37</td>\n",
       "      <td>86</td>\n",
       "      <td>4.3</td>\n",
       "      <td>E</td>\n",
       "      <td>6.46</td>\n",
       "      <td>6.0</td>\n",
       "    </tr>\n",
       "    <tr>\n",
       "      <td>143</td>\n",
       "      <td>fifa 15</td>\n",
       "      <td>ps4</td>\n",
       "      <td>2014</td>\n",
       "      <td>sports</td>\n",
       "      <td>0.80</td>\n",
       "      <td>4.33</td>\n",
       "      <td>0.05</td>\n",
       "      <td>0.90</td>\n",
       "      <td>82</td>\n",
       "      <td>5.7</td>\n",
       "      <td>E</td>\n",
       "      <td>6.08</td>\n",
       "      <td>6.0</td>\n",
       "    </tr>\n",
       "  </tbody>\n",
       "</table>\n",
       "</div>"
      ],
      "text/plain": [
       "                                          name platform  year_of_release  \\\n",
       "16                          grand theft auto v      ps3             2013   \n",
       "23                          grand theft auto v     x360             2013   \n",
       "31                   call of duty: black ops 3      ps4             2015   \n",
       "33                         pokemon x/pokemon y      3ds             2013   \n",
       "42                          grand theft auto v      ps4             2014   \n",
       "47   pokemon omega ruby/pokemon alpha sapphire      3ds             2014   \n",
       "60                        call of duty: ghosts     x360             2013   \n",
       "69                        call of duty: ghosts      ps3             2013   \n",
       "72                                   minecraft     x360             2013   \n",
       "77                                     fifa 16      ps4             2015   \n",
       "87                star wars battlefront (2015)      ps4             2015   \n",
       "92              call of duty: advanced warfare      ps4             2014   \n",
       "94                                     fifa 17      ps4             2016   \n",
       "96         super smash bros. for wii u and 3ds      3ds             2014   \n",
       "99                   call of duty: black ops 3     xone             2015   \n",
       "105                                  fallout 4      ps4             2015   \n",
       "108                           pokemon sun/moon      3ds             2016   \n",
       "110                               mario kart 8     wiiu             2014   \n",
       "126                                    fifa 14      ps3             2013   \n",
       "143                                    fifa 15      ps4             2014   \n",
       "\n",
       "            genre  na_sales  eu_sales  jp_sales  other_sales  critic_score  \\\n",
       "16         action      7.02      9.09      0.98         3.96            97   \n",
       "23         action      9.66      5.14      0.06         1.41            97   \n",
       "31        shooter      6.03      5.86      0.36         2.38           NaN   \n",
       "33   role-playing      5.28      4.19      4.35         0.78           NaN   \n",
       "42         action      3.96      6.31      0.38         1.97            97   \n",
       "47   role-playing      4.35      3.49      3.10         0.74           NaN   \n",
       "60        shooter      6.73      2.56      0.04         0.91            73   \n",
       "69        shooter      4.10      3.63      0.38         1.25            71   \n",
       "72           misc      5.70      2.65      0.02         0.81           NaN   \n",
       "77         sports      1.12      6.12      0.06         1.28            82   \n",
       "87        shooter      2.99      3.49      0.22         1.28           NaN   \n",
       "92        shooter      2.81      3.48      0.14         1.23            83   \n",
       "94         sports      0.66      5.75      0.08         1.11            85   \n",
       "96       fighting      3.27      1.37      2.43         0.48           NaN   \n",
       "99        shooter      4.59      2.11      0.01         0.68           NaN   \n",
       "105  role-playing      2.53      3.27      0.24         1.13            87   \n",
       "108  role-playing      2.98      1.45      2.26         0.45           NaN   \n",
       "110        racing      3.15      2.15      1.28         0.51            88   \n",
       "126        sports      0.78      4.24      0.07         1.37            86   \n",
       "143        sports      0.80      4.33      0.05         0.90            82   \n",
       "\n",
       "     user_score rating  total_sales  rating_age  \n",
       "16          8.2      M        21.05        17.0  \n",
       "23          8.1      M        16.27        17.0  \n",
       "31          NaN    NaN        14.63         NaN  \n",
       "33          NaN    NaN        14.60         NaN  \n",
       "42          8.3      M        12.62        17.0  \n",
       "47          NaN    NaN        11.68         NaN  \n",
       "60          2.6      M        10.24        17.0  \n",
       "69          2.6      M         9.36        17.0  \n",
       "72          NaN    NaN         9.18         NaN  \n",
       "77          4.3      E         8.58         6.0  \n",
       "87          NaN    NaN         7.98         NaN  \n",
       "92          5.7      M         7.66        17.0  \n",
       "94          5.0      E         7.60         6.0  \n",
       "96          NaN    NaN         7.55         NaN  \n",
       "99          NaN    NaN         7.39         NaN  \n",
       "105         6.5      M         7.17        17.0  \n",
       "108         NaN    NaN         7.14         NaN  \n",
       "110         9.1      E         7.09         6.0  \n",
       "126         4.3      E         6.46         6.0  \n",
       "143         5.7      E         6.08         6.0  "
      ]
     },
     "execution_count": 75,
     "metadata": {},
     "output_type": "execute_result"
    }
   ],
   "source": [
    "df_13.head(20)"
   ]
  },
  {
   "cell_type": "code",
   "execution_count": 76,
   "metadata": {},
   "outputs": [
    {
     "data": {
      "text/plain": [
       "array([17., nan,  6., 13., 10.])"
      ]
     },
     "execution_count": 76,
     "metadata": {},
     "output_type": "execute_result"
    }
   ],
   "source": [
    "df_13['rating_age'].unique()"
   ]
  },
  {
   "cell_type": "markdown",
   "metadata": {},
   "source": [
    "Столбец добавлен успешно."
   ]
  },
  {
   "cell_type": "markdown",
   "metadata": {},
   "source": [
    "Создадим для каждого региона отдельную базу данных:\n",
    "- df_EU - для Европы.\n",
    "- df_NA - для Северной Америки.\n",
    "- df_JP - для Японии."
   ]
  },
  {
   "cell_type": "code",
   "execution_count": 77,
   "metadata": {},
   "outputs": [],
   "source": [
    "df_EU = df_13.query('eu_sales >= 0')\n",
    "df_NA = df_13.query('na_sales >= 0')\n",
    "df_JP = df_13.query('jp_sales >= 0')"
   ]
  },
  {
   "cell_type": "code",
   "execution_count": 78,
   "metadata": {},
   "outputs": [],
   "source": [
    "def info_df(df, region_sales):\n",
    "    \n",
    "    display (df\n",
    "    .groupby('platform')[region_sales].sum()\n",
    "    .to_frame()\n",
    "    .sort_values(region_sales, ascending = False).head(5)\n",
    "    .style\n",
    "    .background_gradient(cmap=\"Greens\")\n",
    "    )\n",
    "    \n",
    "    display (df\n",
    "    .groupby('genre')[region_sales].sum()\n",
    "    .to_frame()\n",
    "    .sort_values(region_sales, ascending = False).head(5)\n",
    "    .style\n",
    "    .background_gradient(cmap=\"Greens\")\n",
    "    )\n",
    "    \n",
    "    return"
   ]
  },
  {
   "cell_type": "code",
   "execution_count": 79,
   "metadata": {},
   "outputs": [
    {
     "data": {
      "text/html": [
       "<style  type=\"text/css\" >\n",
       "    #T_8bf57eac_19e3_11eb_98c6_02420a390ed5row0_col0 {\n",
       "            background-color:  #00441b;\n",
       "            color:  #f1f1f1;\n",
       "        }    #T_8bf57eac_19e3_11eb_98c6_02420a390ed5row1_col0 {\n",
       "            background-color:  #aedea7;\n",
       "            color:  #000000;\n",
       "        }    #T_8bf57eac_19e3_11eb_98c6_02420a390ed5row2_col0 {\n",
       "            background-color:  #d7efd1;\n",
       "            color:  #000000;\n",
       "        }    #T_8bf57eac_19e3_11eb_98c6_02420a390ed5row3_col0 {\n",
       "            background-color:  #e8f6e4;\n",
       "            color:  #000000;\n",
       "        }    #T_8bf57eac_19e3_11eb_98c6_02420a390ed5row4_col0 {\n",
       "            background-color:  #f7fcf5;\n",
       "            color:  #000000;\n",
       "        }</style><table id=\"T_8bf57eac_19e3_11eb_98c6_02420a390ed5\" ><thead>    <tr>        <th class=\"blank level0\" ></th>        <th class=\"col_heading level0 col0\" >eu_sales</th>    </tr>    <tr>        <th class=\"index_name level0\" >platform</th>        <th class=\"blank\" ></th>    </tr></thead><tbody>\n",
       "                <tr>\n",
       "                        <th id=\"T_8bf57eac_19e3_11eb_98c6_02420a390ed5level0_row0\" class=\"row_heading level0 row0\" >ps4</th>\n",
       "                        <td id=\"T_8bf57eac_19e3_11eb_98c6_02420a390ed5row0_col0\" class=\"data row0 col0\" >141.09</td>\n",
       "            </tr>\n",
       "            <tr>\n",
       "                        <th id=\"T_8bf57eac_19e3_11eb_98c6_02420a390ed5level0_row1\" class=\"row_heading level0 row1\" >ps3</th>\n",
       "                        <td id=\"T_8bf57eac_19e3_11eb_98c6_02420a390ed5row1_col0\" class=\"data row1 col0\" >67.81</td>\n",
       "            </tr>\n",
       "            <tr>\n",
       "                        <th id=\"T_8bf57eac_19e3_11eb_98c6_02420a390ed5level0_row2\" class=\"row_heading level0 row2\" >xone</th>\n",
       "                        <td id=\"T_8bf57eac_19e3_11eb_98c6_02420a390ed5row2_col0\" class=\"data row2 col0\" >51.59</td>\n",
       "            </tr>\n",
       "            <tr>\n",
       "                        <th id=\"T_8bf57eac_19e3_11eb_98c6_02420a390ed5level0_row3\" class=\"row_heading level0 row3\" >x360</th>\n",
       "                        <td id=\"T_8bf57eac_19e3_11eb_98c6_02420a390ed5row3_col0\" class=\"data row3 col0\" >42.52</td>\n",
       "            </tr>\n",
       "            <tr>\n",
       "                        <th id=\"T_8bf57eac_19e3_11eb_98c6_02420a390ed5level0_row4\" class=\"row_heading level0 row4\" >3ds</th>\n",
       "                        <td id=\"T_8bf57eac_19e3_11eb_98c6_02420a390ed5row4_col0\" class=\"data row4 col0\" >30.96</td>\n",
       "            </tr>\n",
       "    </tbody></table>"
      ],
      "text/plain": [
       "<pandas.io.formats.style.Styler at 0x7f3285e70f50>"
      ]
     },
     "metadata": {},
     "output_type": "display_data"
    },
    {
     "data": {
      "text/html": [
       "<style  type=\"text/css\" >\n",
       "    #T_8bf7d77e_19e3_11eb_98c6_02420a390ed5row0_col0 {\n",
       "            background-color:  #00441b;\n",
       "            color:  #f1f1f1;\n",
       "        }    #T_8bf7d77e_19e3_11eb_98c6_02420a390ed5row1_col0 {\n",
       "            background-color:  #319a50;\n",
       "            color:  #000000;\n",
       "        }    #T_8bf7d77e_19e3_11eb_98c6_02420a390ed5row2_col0 {\n",
       "            background-color:  #94d390;\n",
       "            color:  #000000;\n",
       "        }    #T_8bf7d77e_19e3_11eb_98c6_02420a390ed5row3_col0 {\n",
       "            background-color:  #dbf1d5;\n",
       "            color:  #000000;\n",
       "        }    #T_8bf7d77e_19e3_11eb_98c6_02420a390ed5row4_col0 {\n",
       "            background-color:  #f7fcf5;\n",
       "            color:  #000000;\n",
       "        }</style><table id=\"T_8bf7d77e_19e3_11eb_98c6_02420a390ed5\" ><thead>    <tr>        <th class=\"blank level0\" ></th>        <th class=\"col_heading level0 col0\" >eu_sales</th>    </tr>    <tr>        <th class=\"index_name level0\" >genre</th>        <th class=\"blank\" ></th>    </tr></thead><tbody>\n",
       "                <tr>\n",
       "                        <th id=\"T_8bf7d77e_19e3_11eb_98c6_02420a390ed5level0_row0\" class=\"row_heading level0 row0\" >action</th>\n",
       "                        <td id=\"T_8bf7d77e_19e3_11eb_98c6_02420a390ed5row0_col0\" class=\"data row0 col0\" >118.13</td>\n",
       "            </tr>\n",
       "            <tr>\n",
       "                        <th id=\"T_8bf7d77e_19e3_11eb_98c6_02420a390ed5level0_row1\" class=\"row_heading level0 row1\" >shooter</th>\n",
       "                        <td id=\"T_8bf7d77e_19e3_11eb_98c6_02420a390ed5row1_col0\" class=\"data row1 col0\" >87.86</td>\n",
       "            </tr>\n",
       "            <tr>\n",
       "                        <th id=\"T_8bf7d77e_19e3_11eb_98c6_02420a390ed5level0_row2\" class=\"row_heading level0 row2\" >sports</th>\n",
       "                        <td id=\"T_8bf7d77e_19e3_11eb_98c6_02420a390ed5row2_col0\" class=\"data row2 col0\" >60.52</td>\n",
       "            </tr>\n",
       "            <tr>\n",
       "                        <th id=\"T_8bf7d77e_19e3_11eb_98c6_02420a390ed5level0_row3\" class=\"row_heading level0 row3\" >role-playing</th>\n",
       "                        <td id=\"T_8bf7d77e_19e3_11eb_98c6_02420a390ed5row3_col0\" class=\"data row3 col0\" >36.97</td>\n",
       "            </tr>\n",
       "            <tr>\n",
       "                        <th id=\"T_8bf7d77e_19e3_11eb_98c6_02420a390ed5level0_row4\" class=\"row_heading level0 row4\" >racing</th>\n",
       "                        <td id=\"T_8bf7d77e_19e3_11eb_98c6_02420a390ed5row4_col0\" class=\"data row4 col0\" >20.19</td>\n",
       "            </tr>\n",
       "    </tbody></table>"
      ],
      "text/plain": [
       "<pandas.io.formats.style.Styler at 0x7f3249e731d0>"
      ]
     },
     "metadata": {},
     "output_type": "display_data"
    }
   ],
   "source": [
    "#Данные по Европе\n",
    "info_df(df_EU, 'eu_sales')"
   ]
  },
  {
   "cell_type": "code",
   "execution_count": 80,
   "metadata": {},
   "outputs": [
    {
     "data": {
      "text/html": [
       "<style  type=\"text/css\" >\n",
       "    #T_8bfb341e_19e3_11eb_98c6_02420a390ed5row0_col0 {\n",
       "            background-color:  #00441b;\n",
       "            color:  #f1f1f1;\n",
       "        }    #T_8bfb341e_19e3_11eb_98c6_02420a390ed5row1_col0 {\n",
       "            background-color:  #1a843f;\n",
       "            color:  #000000;\n",
       "        }    #T_8bfb341e_19e3_11eb_98c6_02420a390ed5row2_col0 {\n",
       "            background-color:  #45ad5f;\n",
       "            color:  #000000;\n",
       "        }    #T_8bfb341e_19e3_11eb_98c6_02420a390ed5row3_col0 {\n",
       "            background-color:  #a7dba0;\n",
       "            color:  #000000;\n",
       "        }    #T_8bfb341e_19e3_11eb_98c6_02420a390ed5row4_col0 {\n",
       "            background-color:  #f7fcf5;\n",
       "            color:  #000000;\n",
       "        }</style><table id=\"T_8bfb341e_19e3_11eb_98c6_02420a390ed5\" ><thead>    <tr>        <th class=\"blank level0\" ></th>        <th class=\"col_heading level0 col0\" >na_sales</th>    </tr>    <tr>        <th class=\"index_name level0\" >platform</th>        <th class=\"blank\" ></th>    </tr></thead><tbody>\n",
       "                <tr>\n",
       "                        <th id=\"T_8bfb341e_19e3_11eb_98c6_02420a390ed5level0_row0\" class=\"row_heading level0 row0\" >ps4</th>\n",
       "                        <td id=\"T_8bfb341e_19e3_11eb_98c6_02420a390ed5row0_col0\" class=\"data row0 col0\" >108.74</td>\n",
       "            </tr>\n",
       "            <tr>\n",
       "                        <th id=\"T_8bfb341e_19e3_11eb_98c6_02420a390ed5level0_row1\" class=\"row_heading level0 row1\" >xone</th>\n",
       "                        <td id=\"T_8bfb341e_19e3_11eb_98c6_02420a390ed5row1_col0\" class=\"data row1 col0\" >93.12</td>\n",
       "            </tr>\n",
       "            <tr>\n",
       "                        <th id=\"T_8bfb341e_19e3_11eb_98c6_02420a390ed5level0_row2\" class=\"row_heading level0 row2\" >x360</th>\n",
       "                        <td id=\"T_8bfb341e_19e3_11eb_98c6_02420a390ed5row2_col0\" class=\"data row2 col0\" >81.66</td>\n",
       "            </tr>\n",
       "            <tr>\n",
       "                        <th id=\"T_8bfb341e_19e3_11eb_98c6_02420a390ed5level0_row3\" class=\"row_heading level0 row3\" >ps3</th>\n",
       "                        <td id=\"T_8bfb341e_19e3_11eb_98c6_02420a390ed5row3_col0\" class=\"data row3 col0\" >63.5</td>\n",
       "            </tr>\n",
       "            <tr>\n",
       "                        <th id=\"T_8bfb341e_19e3_11eb_98c6_02420a390ed5level0_row4\" class=\"row_heading level0 row4\" >3ds</th>\n",
       "                        <td id=\"T_8bfb341e_19e3_11eb_98c6_02420a390ed5row4_col0\" class=\"data row4 col0\" >38.2</td>\n",
       "            </tr>\n",
       "    </tbody></table>"
      ],
      "text/plain": [
       "<pandas.io.formats.style.Styler at 0x7f32862068d0>"
      ]
     },
     "metadata": {},
     "output_type": "display_data"
    },
    {
     "data": {
      "text/html": [
       "<style  type=\"text/css\" >\n",
       "    #T_8bfd6bee_19e3_11eb_98c6_02420a390ed5row0_col0 {\n",
       "            background-color:  #00441b;\n",
       "            color:  #f1f1f1;\n",
       "        }    #T_8bfd6bee_19e3_11eb_98c6_02420a390ed5row1_col0 {\n",
       "            background-color:  #0b7734;\n",
       "            color:  #f1f1f1;\n",
       "        }    #T_8bfd6bee_19e3_11eb_98c6_02420a390ed5row2_col0 {\n",
       "            background-color:  #9ed798;\n",
       "            color:  #000000;\n",
       "        }    #T_8bfd6bee_19e3_11eb_98c6_02420a390ed5row3_col0 {\n",
       "            background-color:  #d5efcf;\n",
       "            color:  #000000;\n",
       "        }    #T_8bfd6bee_19e3_11eb_98c6_02420a390ed5row4_col0 {\n",
       "            background-color:  #f7fcf5;\n",
       "            color:  #000000;\n",
       "        }</style><table id=\"T_8bfd6bee_19e3_11eb_98c6_02420a390ed5\" ><thead>    <tr>        <th class=\"blank level0\" ></th>        <th class=\"col_heading level0 col0\" >na_sales</th>    </tr>    <tr>        <th class=\"index_name level0\" >genre</th>        <th class=\"blank\" ></th>    </tr></thead><tbody>\n",
       "                <tr>\n",
       "                        <th id=\"T_8bfd6bee_19e3_11eb_98c6_02420a390ed5level0_row0\" class=\"row_heading level0 row0\" >action</th>\n",
       "                        <td id=\"T_8bfd6bee_19e3_11eb_98c6_02420a390ed5row0_col0\" class=\"data row0 col0\" >126.05</td>\n",
       "            </tr>\n",
       "            <tr>\n",
       "                        <th id=\"T_8bfd6bee_19e3_11eb_98c6_02420a390ed5level0_row1\" class=\"row_heading level0 row1\" >shooter</th>\n",
       "                        <td id=\"T_8bfd6bee_19e3_11eb_98c6_02420a390ed5row1_col0\" class=\"data row1 col0\" >109.74</td>\n",
       "            </tr>\n",
       "            <tr>\n",
       "                        <th id=\"T_8bfd6bee_19e3_11eb_98c6_02420a390ed5level0_row2\" class=\"row_heading level0 row2\" >sports</th>\n",
       "                        <td id=\"T_8bfd6bee_19e3_11eb_98c6_02420a390ed5row2_col0\" class=\"data row2 col0\" >65.27</td>\n",
       "            </tr>\n",
       "            <tr>\n",
       "                        <th id=\"T_8bfd6bee_19e3_11eb_98c6_02420a390ed5level0_row3\" class=\"row_heading level0 row3\" >role-playing</th>\n",
       "                        <td id=\"T_8bfd6bee_19e3_11eb_98c6_02420a390ed5row3_col0\" class=\"data row3 col0\" >46.4</td>\n",
       "            </tr>\n",
       "            <tr>\n",
       "                        <th id=\"T_8bfd6bee_19e3_11eb_98c6_02420a390ed5level0_row4\" class=\"row_heading level0 row4\" >misc</th>\n",
       "                        <td id=\"T_8bfd6bee_19e3_11eb_98c6_02420a390ed5row4_col0\" class=\"data row4 col0\" >27.49</td>\n",
       "            </tr>\n",
       "    </tbody></table>"
      ],
      "text/plain": [
       "<pandas.io.formats.style.Styler at 0x7f3285e70750>"
      ]
     },
     "metadata": {},
     "output_type": "display_data"
    }
   ],
   "source": [
    "#Данные по Северной Америке\n",
    "info_df(df_NA, 'na_sales')"
   ]
  },
  {
   "cell_type": "code",
   "execution_count": 81,
   "metadata": {},
   "outputs": [
    {
     "data": {
      "text/html": [
       "<style  type=\"text/css\" >\n",
       "    #T_8c04d56e_19e3_11eb_98c6_02420a390ed5row0_col0 {\n",
       "            background-color:  #00441b;\n",
       "            color:  #f1f1f1;\n",
       "        }    #T_8c04d56e_19e3_11eb_98c6_02420a390ed5row1_col0 {\n",
       "            background-color:  #ceecc8;\n",
       "            color:  #000000;\n",
       "        }    #T_8c04d56e_19e3_11eb_98c6_02420a390ed5row2_col0 {\n",
       "            background-color:  #e3f4de;\n",
       "            color:  #000000;\n",
       "        }    #T_8c04d56e_19e3_11eb_98c6_02420a390ed5row3_col0 {\n",
       "            background-color:  #ebf7e7;\n",
       "            color:  #000000;\n",
       "        }    #T_8c04d56e_19e3_11eb_98c6_02420a390ed5row4_col0 {\n",
       "            background-color:  #f7fcf5;\n",
       "            color:  #000000;\n",
       "        }</style><table id=\"T_8c04d56e_19e3_11eb_98c6_02420a390ed5\" ><thead>    <tr>        <th class=\"blank level0\" ></th>        <th class=\"col_heading level0 col0\" >jp_sales</th>    </tr>    <tr>        <th class=\"index_name level0\" >platform</th>        <th class=\"blank\" ></th>    </tr></thead><tbody>\n",
       "                <tr>\n",
       "                        <th id=\"T_8c04d56e_19e3_11eb_98c6_02420a390ed5level0_row0\" class=\"row_heading level0 row0\" >3ds</th>\n",
       "                        <td id=\"T_8c04d56e_19e3_11eb_98c6_02420a390ed5row0_col0\" class=\"data row0 col0\" >67.81</td>\n",
       "            </tr>\n",
       "            <tr>\n",
       "                        <th id=\"T_8c04d56e_19e3_11eb_98c6_02420a390ed5level0_row1\" class=\"row_heading level0 row1\" >ps3</th>\n",
       "                        <td id=\"T_8c04d56e_19e3_11eb_98c6_02420a390ed5row1_col0\" class=\"data row1 col0\" >23.35</td>\n",
       "            </tr>\n",
       "            <tr>\n",
       "                        <th id=\"T_8c04d56e_19e3_11eb_98c6_02420a390ed5level0_row2\" class=\"row_heading level0 row2\" >psv</th>\n",
       "                        <td id=\"T_8c04d56e_19e3_11eb_98c6_02420a390ed5row2_col0\" class=\"data row2 col0\" >18.59</td>\n",
       "            </tr>\n",
       "            <tr>\n",
       "                        <th id=\"T_8c04d56e_19e3_11eb_98c6_02420a390ed5level0_row3\" class=\"row_heading level0 row3\" >ps4</th>\n",
       "                        <td id=\"T_8c04d56e_19e3_11eb_98c6_02420a390ed5row3_col0\" class=\"data row3 col0\" >15.96</td>\n",
       "            </tr>\n",
       "            <tr>\n",
       "                        <th id=\"T_8c04d56e_19e3_11eb_98c6_02420a390ed5level0_row4\" class=\"row_heading level0 row4\" >wiiu</th>\n",
       "                        <td id=\"T_8c04d56e_19e3_11eb_98c6_02420a390ed5row4_col0\" class=\"data row4 col0\" >10.88</td>\n",
       "            </tr>\n",
       "    </tbody></table>"
      ],
      "text/plain": [
       "<pandas.io.formats.style.Styler at 0x7f3286181dd0>"
      ]
     },
     "metadata": {},
     "output_type": "display_data"
    },
    {
     "data": {
      "text/html": [
       "<style  type=\"text/css\" >\n",
       "    #T_8c07010e_19e3_11eb_98c6_02420a390ed5row0_col0 {\n",
       "            background-color:  #00441b;\n",
       "            color:  #f1f1f1;\n",
       "        }    #T_8c07010e_19e3_11eb_98c6_02420a390ed5row1_col0 {\n",
       "            background-color:  #1f8742;\n",
       "            color:  #000000;\n",
       "        }    #T_8c07010e_19e3_11eb_98c6_02420a390ed5row2_col0 {\n",
       "            background-color:  #eff9ec;\n",
       "            color:  #000000;\n",
       "        }    #T_8c07010e_19e3_11eb_98c6_02420a390ed5row3_col0 {\n",
       "            background-color:  #f4fbf2;\n",
       "            color:  #000000;\n",
       "        }    #T_8c07010e_19e3_11eb_98c6_02420a390ed5row4_col0 {\n",
       "            background-color:  #f7fcf5;\n",
       "            color:  #000000;\n",
       "        }</style><table id=\"T_8c07010e_19e3_11eb_98c6_02420a390ed5\" ><thead>    <tr>        <th class=\"blank level0\" ></th>        <th class=\"col_heading level0 col0\" >jp_sales</th>    </tr>    <tr>        <th class=\"index_name level0\" >genre</th>        <th class=\"blank\" ></th>    </tr></thead><tbody>\n",
       "                <tr>\n",
       "                        <th id=\"T_8c07010e_19e3_11eb_98c6_02420a390ed5level0_row0\" class=\"row_heading level0 row0\" >role-playing</th>\n",
       "                        <td id=\"T_8c07010e_19e3_11eb_98c6_02420a390ed5row0_col0\" class=\"data row0 col0\" >51.04</td>\n",
       "            </tr>\n",
       "            <tr>\n",
       "                        <th id=\"T_8c07010e_19e3_11eb_98c6_02420a390ed5level0_row1\" class=\"row_heading level0 row1\" >action</th>\n",
       "                        <td id=\"T_8c07010e_19e3_11eb_98c6_02420a390ed5row1_col0\" class=\"data row1 col0\" >40.49</td>\n",
       "            </tr>\n",
       "            <tr>\n",
       "                        <th id=\"T_8c07010e_19e3_11eb_98c6_02420a390ed5level0_row2\" class=\"row_heading level0 row2\" >misc</th>\n",
       "                        <td id=\"T_8c07010e_19e3_11eb_98c6_02420a390ed5row2_col0\" class=\"data row2 col0\" >9.2</td>\n",
       "            </tr>\n",
       "            <tr>\n",
       "                        <th id=\"T_8c07010e_19e3_11eb_98c6_02420a390ed5level0_row3\" class=\"row_heading level0 row3\" >fighting</th>\n",
       "                        <td id=\"T_8c07010e_19e3_11eb_98c6_02420a390ed5row3_col0\" class=\"data row3 col0\" >7.65</td>\n",
       "            </tr>\n",
       "            <tr>\n",
       "                        <th id=\"T_8c07010e_19e3_11eb_98c6_02420a390ed5level0_row4\" class=\"row_heading level0 row4\" >shooter</th>\n",
       "                        <td id=\"T_8c07010e_19e3_11eb_98c6_02420a390ed5row4_col0\" class=\"data row4 col0\" >6.61</td>\n",
       "            </tr>\n",
       "    </tbody></table>"
      ],
      "text/plain": [
       "<pandas.io.formats.style.Styler at 0x7f3249d96090>"
      ]
     },
     "metadata": {},
     "output_type": "display_data"
    }
   ],
   "source": [
    "#Данные по Японии\n",
    "info_df(df_JP, 'jp_sales')"
   ]
  },
  {
   "cell_type": "markdown",
   "metadata": {},
   "source": [
    "- В целом пользовательские предпочтения в Америке и Европе схожи. И там, и там приставки от Sony конкурируют с приставками от Microsoft. Однако в Европе игры для play station лидируют по продажам, нежели игры для приставок от Microsoft. В Америке игры для Sony и Microsoft имеют паритет по продажам.\n",
    "- По игровым жанрам и Америка, и Европа имеют одинаковые предпочтения. Наиболее популярны стрелялки (action, shooter) и спортивные игры.\n",
    "- Япония выделяется среди других двух регионов. Здесь актуальны игры под карманные приставки. Топ по продажам занимают игры для карманной приставки `3ds`. Есть предположение, что эти приставки изначально комплектуюся пакетом игр. Также в Японии в топ5 не попали приставки от Microsoft.\n",
    "- Жанровые предпочтения в Японии также отличаются от Америки и Европы. Здесь популярны компьютерные ролевые игры и экш-жанр. Можно предположить, что компьютерные ролевые игры здесь популярны из-за использования карманных приставок, а также из-за любви японцев к своим мультикам в стиле аниме."
   ]
  },
  {
   "cell_type": "code",
   "execution_count": 82,
   "metadata": {},
   "outputs": [
    {
     "name": "stdout",
     "output_type": "stream",
     "text": [
      "Корреляция продаж от возрастного рейтинга в Японии = -0.01\n"
     ]
    }
   ],
   "source": [
    "print('Корреляция продаж от возрастного рейтинга в Японии =', df_JP['rating_age'].corr(df_JP['jp_sales']).round(2))"
   ]
  },
  {
   "cell_type": "code",
   "execution_count": 83,
   "metadata": {},
   "outputs": [
    {
     "name": "stdout",
     "output_type": "stream",
     "text": [
      "Корреляция продаж от возрастного рейтинга в Европе = 0.07\n"
     ]
    }
   ],
   "source": [
    "print('Корреляция продаж от возрастного рейтинга в Европе =', df_EU['rating_age'].corr(df_EU['eu_sales']).round(2))"
   ]
  },
  {
   "cell_type": "code",
   "execution_count": 84,
   "metadata": {},
   "outputs": [
    {
     "name": "stdout",
     "output_type": "stream",
     "text": [
      "Корреляция продаж от возрастного рейтинга в Северной Америке = 0.11\n"
     ]
    }
   ],
   "source": [
    "print('Корреляция продаж от возрастного рейтинга в Северной Америке =', df_NA['rating_age'].corr(df_NA['na_sales']).round(2))"
   ]
  },
  {
   "cell_type": "code",
   "execution_count": 85,
   "metadata": {},
   "outputs": [
    {
     "data": {
      "text/plain": [
       "rating_age\n",
       "10.0     5.89\n",
       "17.0    14.11\n",
       "6.0     15.14\n",
       "13.0    20.59\n",
       "Name: jp_sales, dtype: float64"
      ]
     },
     "execution_count": 85,
     "metadata": {},
     "output_type": "execute_result"
    }
   ],
   "source": [
    "df_JP.groupby('rating_age')['jp_sales'].sum().sort_values()"
   ]
  },
  {
   "cell_type": "code",
   "execution_count": 86,
   "metadata": {},
   "outputs": [
    {
     "data": {
      "text/plain": [
       "rating_age\n",
       "13.0     41.95\n",
       "10.0     42.69\n",
       "6.0      83.36\n",
       "17.0    145.32\n",
       "Name: eu_sales, dtype: float64"
      ]
     },
     "execution_count": 86,
     "metadata": {},
     "output_type": "execute_result"
    }
   ],
   "source": [
    "df_EU.groupby('rating_age')['eu_sales'].sum().sort_values()"
   ]
  },
  {
   "cell_type": "code",
   "execution_count": 87,
   "metadata": {},
   "outputs": [
    {
     "data": {
      "text/plain": [
       "rating_age\n",
       "13.0     49.79\n",
       "10.0     54.24\n",
       "6.0      79.05\n",
       "17.0    165.21\n",
       "Name: na_sales, dtype: float64"
      ]
     },
     "execution_count": 87,
     "metadata": {},
     "output_type": "execute_result"
    }
   ],
   "source": [
    "df_NA.groupby('rating_age')['na_sales'].sum().sort_values()"
   ]
  },
  {
   "cell_type": "markdown",
   "metadata": {},
   "source": [
    "- Здесь по Америке и Европе схожие показатели. Сумма продаж игр с возрастом 17+ здесь на первом месте, в то время как в Японии этот показатель 13+. Есть предположение, что средний игрок в Японии моложе, чем в Америке или Европе."
   ]
  },
  {
   "cell_type": "markdown",
   "metadata": {},
   "source": [
    "## Шаг 5. Проверка гипотез\n"
   ]
  },
  {
   "cell_type": "markdown",
   "metadata": {},
   "source": [
    "#### Гипотеза №1. Средние пользовательские рейтинги платформ Xbox One и PC одинаковые."
   ]
  },
  {
   "cell_type": "markdown",
   "metadata": {},
   "source": [
    "- Гипотеза H₀ — средние пользовательские рейтинги платформ Xbox One и PC равны.\n",
    "- Гипотеза H₁ — средние пользовательские рейтинги платформ Xbox One и PC различны.\n",
    "- Критический уровень статистической значимости alpha = 1%, т.к. объем выборки у нас достаточно большой."
   ]
  },
  {
   "cell_type": "code",
   "execution_count": 88,
   "metadata": {},
   "outputs": [],
   "source": [
    "df_xone = df_13.loc[(df_13['platform'] == 'xone') & (df['user_score'].notnull()),'user_score']\n",
    "df_pc = df_13.loc[(df_13['platform'] == 'pc') & (df['user_score'].notnull()),'user_score']"
   ]
  },
  {
   "cell_type": "code",
   "execution_count": 89,
   "metadata": {},
   "outputs": [
    {
     "data": {
      "text/plain": [
       "[1.9069968429360695, 3.035892752408882]"
      ]
     },
     "execution_count": 89,
     "metadata": {},
     "output_type": "execute_result"
    }
   ],
   "source": [
    "[np.var(x, ddof=1) for x in [df_xone, df_pc]]"
   ]
  },
  {
   "cell_type": "markdown",
   "metadata": {},
   "source": [
    "Дисперсии неравны (разница около 60%) - это много, поэтому передаем параметр `equal_var = False`"
   ]
  },
  {
   "cell_type": "code",
   "execution_count": 90,
   "metadata": {},
   "outputs": [
    {
     "name": "stdout",
     "output_type": "stream",
     "text": [
      "p-значение: 0.14759594013430463\n",
      "Не получилось отвергнуть нулевую гипотезу\n"
     ]
    }
   ],
   "source": [
    "from scipy import stats as st\n",
    "import numpy as np\n",
    "\n",
    "alpha = .01 # критический уровень статистической значимости\n",
    "            # если p-value окажется меньше него - отвергнем гипотезу\n",
    "\n",
    "results = st.ttest_ind(\n",
    "    df_xone, \n",
    "    df_pc, equal_var = False)\n",
    "\n",
    "print('p-значение:', results.pvalue)\n",
    "\n",
    "if (results.pvalue < alpha):\n",
    "    print(\"Отвергаем нулевую гипотезу\")\n",
    "else:\n",
    "    print(\"Не получилось отвергнуть нулевую гипотезу\") "
   ]
  },
  {
   "cell_type": "markdown",
   "metadata": {},
   "source": [
    "Хотя средние пользовательские рейтинги платформ неодинаковые, с вероятностью в почти 15% различие можно получить случайно."
   ]
  },
  {
   "cell_type": "code",
   "execution_count": 91,
   "metadata": {},
   "outputs": [
    {
     "data": {
      "image/png": "[encoded data removed]",
      "text/plain": [
       "<Figure size 432x288 with 1 Axes>"
      ]
     },
     "metadata": {
      "needs_background": "light"
     },
     "output_type": "display_data"
    }
   ],
   "source": [
    "sns.boxplot(data = [df_xone, df_pc])\n",
    "plt.grid(True)\n",
    "plt.show()"
   ]
  },
  {
   "cell_type": "code",
   "execution_count": 92,
   "metadata": {},
   "outputs": [
    {
     "name": "stdout",
     "output_type": "stream",
     "text": [
      "Средний пользовательский рейтинг \"xone\": 6.52\n",
      "Средний пользовательский рейтинг \"PC\": 6.27\n"
     ]
    }
   ],
   "source": [
    "print('Средний пользовательский рейтинг \"xone\":', df_xone.mean().round(2))\n",
    "print('Средний пользовательский рейтинг \"PC\":', df_pc.mean().round(2))"
   ]
  },
  {
   "cell_type": "markdown",
   "metadata": {},
   "source": [
    "#### Гипотеза №2. Средние пользовательские рейтинги жанров Action и Sports разные."
   ]
  },
  {
   "cell_type": "markdown",
   "metadata": {},
   "source": [
    "- Гипотеза H₀ — cредние пользовательские рейтинги жанров Action и Sports равны.\n",
    "- Гипотеза H₁ — cредние пользовательские рейтинги жанров Action и Sports различны.\n",
    "- Критический уровень статистической значимости alpha = 1%, т.к. объем выборки у нас достаточно большой."
   ]
  },
  {
   "cell_type": "code",
   "execution_count": 93,
   "metadata": {},
   "outputs": [],
   "source": [
    "df_action = df_13.loc[(df_13['genre'] == 'action') & (df['user_score'].notnull()), 'user_score']\n",
    "df_sports = df_13.loc[(df_13['genre'] == 'sports') & (df['user_score'].notnull()), 'user_score']"
   ]
  },
  {
   "cell_type": "code",
   "execution_count": 94,
   "metadata": {},
   "outputs": [
    {
     "data": {
      "text/plain": [
       "[1.7693609042482705, 3.180612814465409]"
      ]
     },
     "execution_count": 94,
     "metadata": {},
     "output_type": "execute_result"
    }
   ],
   "source": [
    "[np.var(x, ddof=1) for x in [df_action, df_sports]]"
   ]
  },
  {
   "cell_type": "markdown",
   "metadata": {},
   "source": [
    "Дисперсии неравны (разница около 80%) - это много, поэтому передаем параметр `equal_var = False`"
   ]
  },
  {
   "cell_type": "code",
   "execution_count": 95,
   "metadata": {},
   "outputs": [
    {
     "name": "stdout",
     "output_type": "stream",
     "text": [
      "p-значение: 1.4460039700704315e-20\n",
      "Отвергаем нулевую гипотезу\n"
     ]
    }
   ],
   "source": [
    "from scipy import stats as st\n",
    "import numpy as np\n",
    "\n",
    "alpha = .01 # критический уровень статистической значимости\n",
    "            # если p-value окажется меньше него - отвергнем гипотезу\n",
    "\n",
    "results = st.ttest_ind(\n",
    "    df_action, \n",
    "    df_sports, equal_var = False)\n",
    "\n",
    "print('p-значение:', results.pvalue)\n",
    "\n",
    "if (results.pvalue < alpha):\n",
    "    print(\"Отвергаем нулевую гипотезу\")\n",
    "else:\n",
    "    print(\"Не получилось отвергнуть нулевую гипотезу\") "
   ]
  },
  {
   "cell_type": "markdown",
   "metadata": {},
   "source": [
    "Средние пользовательские рейтинги жанров Action и Sports различны."
   ]
  },
  {
   "cell_type": "code",
   "execution_count": 96,
   "metadata": {},
   "outputs": [
    {
     "name": "stdout",
     "output_type": "stream",
     "text": [
      "Средний пользовательский рейтинг жанра \"Action\": 6.84\n",
      "Средний пользовательский рейтинг жанра \"Sports\": 5.24\n"
     ]
    }
   ],
   "source": [
    "print('Средний пользовательский рейтинг жанра \"Action\":', df_action.mean().round(2))\n",
    "print('Средний пользовательский рейтинг жанра \"Sports\":', df_sports.mean().round(2))"
   ]
  },
  {
   "cell_type": "markdown",
   "metadata": {},
   "source": [
    "## Общий вывод:"
   ]
  },
  {
   "cell_type": "markdown",
   "metadata": {},
   "source": [
    "- На конец 2016 на рынке большей популярностью пользуются полноценные игровые приставки. Поэтому стоит обратить внимание на те игры, которые запускаются на современных игровых консолях PlayStation и XBox.\n",
    "- По жанру лучше заходят простые игры, не требующие особой вдумчивости. Поэтому в сторону рекламы логических игр и даже стратегий лучше не смотреть, если у этой категории игр не начнет расти популярность.\n",
    "- Оценка пользователей практически не оказывает влияние на продажи игр, в то время, как оценка критиков имеет положительную корреляцию с количеством продаж.\n",
    "- Можно попробовать заработать на умирающем рынке карманных приставок, в частности в Японии. Но смартфоны предположительно вытесняют такие приставки.\n",
    "- Рынки Северной Америки и Европы достаточно похожи в то время, как рынок Японии имеет особенности. В Японии популярны игры жанра `role-playing`, в т.ч. игры похожие на их аниме."
   ]
  }
 ],
 "metadata": {
  "kernelspec": {
   "display_name": "Python 3",
   "language": "python",
   "name": "python3"
  },
  "language_info": {
   "codemirror_mode": {
    "name": "ipython",
    "version": 3
   },
   "file_extension": ".py",
   "mimetype": "text/x-python",
   "name": "python",
   "nbconvert_exporter": "python",
   "pygments_lexer": "ipython3",
   "version": "3.7.8"
  },
  "toc": {
   "base_numbering": 1,
   "nav_menu": {},
   "number_sections": true,
   "sideBar": true,
   "skip_h1_title": true,
   "title_cell": "Table of Contents",
   "title_sidebar": "Contents",
   "toc_cell": false,
   "toc_position": {},
   "toc_section_display": true,
   "toc_window_display": false
  }
 },
 "nbformat": 4,
 "nbformat_minor": 2
}
